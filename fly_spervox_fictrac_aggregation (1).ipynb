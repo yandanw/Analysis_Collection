{
 "cells": [
  {
   "cell_type": "code",
   "execution_count": 3,
   "metadata": {
    "collapsed": true
   },
   "outputs": [],
   "source": [
    "import numpy as np\n",
    "import os\n",
    "import sys\n",
    "import psutil\n",
    "import nibabel as nib\n",
    "from time import time\n",
    "import json\n",
    "import matplotlib.pyplot as plt\n",
    "from contextlib import contextmanager\n",
    "import warnings\n",
    "warnings.filterwarnings(\"ignore\")\n",
    "\n",
    "from shutil import copyfile\n",
    "import platform\n",
    "if platform.system() != 'Windows':\n",
    "    sys.path.insert(0, '/home/users/brezovec/.local/lib/python3.6/site-packages/lib/python/')\n",
    "    import ants\n",
    "import brainsss\n",
    "import os\n",
    "import numpy as np\n",
    "import matplotlib.pyplot as plt\n",
    "%matplotlib inline\n",
    "from sklearn.cluster import AgglomerativeClustering\n",
    "import scipy\n",
    "from scipy.cluster.hierarchy import dendrogram\n",
    "from scipy.cluster.hierarchy import fcluster\n",
    "from scipy.cluster import hierarchy\n",
    "import matplotlib as mpl\n",
    "from matplotlib.pyplot import cm\n",
    "import random\n",
    "from scipy.stats import sem\n",
    "import time\n",
    "import h5py\n",
    "import ants\n",
    "import nibabel as nib\n",
    "import pandas as pd\n",
    "\n",
    "import matplotlib\n",
    "from scipy.ndimage import gaussian_filter1d\n",
    "from scipy.interpolate import interp1d as interp1d"
   ]
  },
  {
   "cell_type": "code",
   "execution_count": 4,
   "metadata": {
    "collapsed": true
   },
   "outputs": [],
   "source": [
    "from sklearn.feature_extraction import image\n",
    "import imageio\n",
    "from tqdm import tqdm\n",
    "import argparse\n",
    "import subprocess\n",
    "import time\n",
    "from scipy.ndimage import gaussian_filter1d\n",
    "import bigbadbrain as bbb\n",
    "import dataflow as flow\n",
    "import brainsss\n",
    "import fcntl\n",
    "from scipy.ndimage import gaussian_filter1d"
   ]
  },
  {
   "cell_type": "code",
   "execution_count": 5,
   "metadata": {
    "collapsed": true
   },
   "outputs": [],
   "source": [
    "import imageio\n",
    "from tqdm import tqdm"
   ]
  },
  {
   "cell_type": "code",
   "execution_count": 6,
   "metadata": {
    "collapsed": true
   },
   "outputs": [],
   "source": [
    "import argparse\n",
    "import subprocess\n",
    "import time\n",
    "from scipy.ndimage import gaussian_filter1d\n",
    "\n"
   ]
  },
  {
   "cell_type": "code",
   "execution_count": 7,
   "metadata": {},
   "outputs": [],
   "source": [
    "import bigbadbrain as bbb\n",
    "import dataflow as flow\n",
    "import brainsss\n",
    "import fcntl"
   ]
  },
  {
   "cell_type": "code",
   "execution_count": 8,
   "metadata": {
    "collapsed": true
   },
   "outputs": [],
   "source": [
    "from scipy.ndimage import gaussian_filter1d"
   ]
  },
  {
   "cell_type": "code",
   "execution_count": 9,
   "metadata": {
    "collapsed": true
   },
   "outputs": [],
   "source": [
    "file_path = \"/oak/stanford/groups/trc/data/yandan/2P_Imaging/2023August/aggregated_fly/\""
   ]
  },
  {
   "cell_type": "code",
   "execution_count": 10,
   "metadata": {
    "collapsed": true
   },
   "outputs": [],
   "source": [
    "output_directory = '/oak/stanford/groups/trc/data/yandan/2P_Imaging/2023August/aggregated_fly'"
   ]
  },
  {
   "cell_type": "code",
   "execution_count": 11,
   "metadata": {
    "collapsed": true
   },
   "outputs": [],
   "source": [
    "# superslice_0.nii\n",
    "# stack0.npy"
   ]
  },
  {
   "cell_type": "code",
   "execution_count": 12,
   "metadata": {
    "collapsed": true
   },
   "outputs": [],
   "source": [
    "dataset_path = '/oak/stanford/groups/trc/data/Brezovec/2P_Imaging/20190101_walking_dataset'"
   ]
  },
  {
   "cell_type": "code",
   "execution_count": 13,
   "metadata": {
    "collapsed": true
   },
   "outputs": [],
   "source": [
    "def load_fictrac(directory, file='fictrac.dat'):\n",
    "    \"\"\" Loads fictrac data from .dat file that fictrac outputs.\n",
    "\n",
    "    To-do: change units based on diameter of ball etc.\n",
    "    For speed sanity check, instead remove bad frames so we don't have to throw out whole trial.\n",
    "\n",
    "    Parameters\n",
    "    ----------\n",
    "    directory: string of full path to file\n",
    "    file: string of file name\n",
    "\n",
    "    Returns\n",
    "    -------\n",
    "    fictrac_data: pandas dataframe of all parameters saved by fictrac \"\"\"\n",
    "\n",
    "    for item in os.listdir(directory):\n",
    "      if '.dat' in item:\n",
    "        file = item\n",
    "\n",
    "    with open(os.path.join(directory, file),'r') as f:\n",
    "        df = pd.DataFrame(l.rstrip().split() for l in f)\n",
    "\n",
    "        # Name columns\n",
    "        df = df.rename(index=str, columns={0: 'frameCounter',\n",
    "                                       1: 'dRotCamX',\n",
    "                                       2: 'dRotCamY',\n",
    "                                       3: 'dRotCamZ',\n",
    "                                       4: 'dRotScore',\n",
    "                                       5: 'dRotLabX',\n",
    "                                       6: 'dRotLabY',\n",
    "                                       7: 'dRotLabZ',\n",
    "                                       8: 'AbsRotCamX',\n",
    "                                       9: 'AbsRotCamY',\n",
    "                                       10: 'AbsRotCamZ',\n",
    "                                       11: 'AbsRotLabX',\n",
    "                                       12: 'AbsRotLabY',\n",
    "                                       13: 'AbsRotLabZ',\n",
    "                                       14: 'positionX',\n",
    "                                       15: 'positionY',\n",
    "                                       16: 'heading',\n",
    "                                       17: 'runningDir',\n",
    "                                       18: 'speed',\n",
    "                                       19: 'integratedX',\n",
    "                                       20: 'integratedY',\n",
    "                                       21: 'timeStamp',\n",
    "                                       22: 'sequence'})\n",
    "\n",
    "        # Remove commas\n",
    "        for column in df.columns.values[:-1]:\n",
    "            df[column] = [float(x[:-1]) for x in df[column]]\n",
    "\n",
    "        fictrac_data = df\n",
    "                \n",
    "    # sanity check for extremely high speed (fictrac failure)\n",
    "    speed = np.asarray(fictrac_data['speed'])\n",
    "    max_speed = np.max(speed)\n",
    "    if max_speed > 10:\n",
    "        raise Exception('Fictrac ball tracking failed (reporting impossibly high speed).')\n",
    "    return fictrac_data\n"
   ]
  },
  {
   "cell_type": "code",
   "execution_count": 14,
   "metadata": {
    "collapsed": true
   },
   "outputs": [],
   "source": [
    "def load_timestamps(directory, file='functional.xml'):\n",
    "    \"\"\" Parses a Bruker xml file to get the times of each frame, or loads h5py file if it exists.\n",
    "\n",
    "    First tries to load from 'timestamps.h5' (h5py file). If this file doesn't exist\n",
    "    it will load and parse the Bruker xml file, and save the h5py file for quick loading in the future.\n",
    "\n",
    "    Parameters\n",
    "    ----------\n",
    "    directory: full directory that contains xml file (str).\n",
    "    file: Defaults to 'functional.xml'\n",
    "\n",
    "    Returns\n",
    "    -------\n",
    "    timestamps: [t,z] numpy array of times (in ms) of Bruker imaging frames.\n",
    "\n",
    "    \"\"\"\n",
    "    try:\n",
    "        print('Trying to load timestamp data from hdf5 file.')\n",
    "        with h5py.File(os.path.join(directory, 'timestamps.h5'), 'r') as hf:\n",
    "            timestamps = hf['timestamps'][:]\n",
    "\n",
    "    except:\n",
    "        print('Failed. Extracting frame timestamps from bruker xml file.')\n",
    "        xml_file = os.path.join(directory, file)\n",
    "        tree = ET.parse(xml_file)\n",
    "        root = tree.getroot()\n",
    "        timestamps = []\n",
    "        \n",
    "        sequences = root.findall('Sequence')\n",
    "        for sequence in sequences:\n",
    "            frames = sequence.findall('Frame')\n",
    "            for frame in frames:\n",
    "                filename = frame.findall('File')[0].get('filename')\n",
    "                time = float(frame.get('relativeTime'))\n",
    "                timestamps.append(time)\n",
    "        timestamps = np.multiply(timestamps, 1000)\n",
    "\n",
    "        if len(sequences) > 1:\n",
    "            timestamps = np.reshape(timestamps, (len(sequences), len(frames)))\n",
    "        else:\n",
    "            timestamps = np.reshape(timestamps, (len(frames), len(sequences)))\n",
    "\n",
    "        ### Save h5py file ###\n",
    "        with h5py.File(os.path.join(directory, 'timestamps.h5'), 'w') as hf:\n",
    "            hf.create_dataset(\"timestamps\", data=timestamps)\n",
    "    \n",
    "    print('Success.')\n",
    "    return timestamps"
   ]
  },
  {
   "cell_type": "code",
   "execution_count": 15,
   "metadata": {
    "collapsed": true
   },
   "outputs": [],
   "source": [
    "class Printlog():\n",
    "    '''\n",
    "    for printing all processes into same log file on sherlock\n",
    "    '''\n",
    "    def __init__(self, logfile):\n",
    "        self.logfile = logfile\n",
    "    def print_to_log(self, message):\n",
    "        with open(self.logfile, 'a+') as f:\n",
    "            fcntl.flock(f, fcntl.LOCK_EX)\n",
    "            f.write(message)\n",
    "            f.write('\\n')\n",
    "            fcntl.flock(f, fcntl.LOCK_UN)"
   ]
  },
  {
   "cell_type": "code",
   "execution_count": null,
   "metadata": {
    "collapsed": true
   },
   "outputs": [],
   "source": []
  },
  {
   "cell_type": "code",
   "execution_count": 37,
   "metadata": {
    "collapsed": true
   },
   "outputs": [],
   "source": [
    "#####################\n",
    "### Main Function ###\n",
    "#####################\n",
    "\n",
    "def main(args):\n",
    "\n",
    "\n",
    "    ### This fly class helps organize data for each fly\n",
    "    class Fly:\n",
    "        def __init__ (self, fly_name, fly_idx):\n",
    "            self.dir = os.path.join(dataset_path, fly_name, 'func_0')\n",
    "            self.fly_idx = fly_idx\n",
    "            self.fly_name = fly_name\n",
    "            self.maps = {}\n",
    "        def load_timestamps (self):\n",
    "            self.timestamps = load_timestamps(os.path.join(self.dir, 'imaging'))\n",
    "        def load_fictrac (self):\n",
    "            self.fictrac = Fictrac(self, self.dir, self.timestamps)\n",
    "        def load_brain_slice (self):\n",
    "            self.brain = brain[self.fly_idx,:,:,:]\n",
    "        def load_anatomy (self):\n",
    "            to_load = os.path.join(dataset_path, self.fly_name, 'warp', 'anat-to-meanbrain.nii')\n",
    "            self.anatomy = np.array(nib.load(to_load).get_data(), copy=True)\n",
    "        def get_cluster_averages (self, cluster_model_labels, n_clusters):\n",
    "            neural_data = self.brain.reshape(-1, 3384)\n",
    "            signals = []\n",
    "            self.cluster_indicies = []\n",
    "            for cluster_num in range(n_clusters):\n",
    "                cluster_indicies = np.where(cluster_model_labels==cluster_num)[0]\n",
    "                mean_signal = np.mean(neural_data[cluster_indicies,:], axis=0)\n",
    "                signals.append(mean_signal)\n",
    "                self.cluster_indicies.append(cluster_indicies) # store for later\n",
    "            self.cluster_signals=np.asarray(signals)\n",
    "        def get_cluster_id (self, x, y):\n",
    "            ax_vec = x*128 + y\n",
    "            for i in range(n_clusters):\n",
    "                if ax_vec in self.cluster_indicies[i]:\n",
    "                    cluster_id = i\n",
    "                    break\n",
    "            return cluster_id\n",
    "        def get_stimulus_start_time_and_ft_frame(self):\n",
    "            vision_path = os.path.join(self.dir, 'visual')\n",
    "            ### Load Photodiode ###\n",
    "            t, ft_triggers, pd1, pd2 = brainsss.load_photodiode(vision_path)\n",
    "            stimulus_start_times = brainsss.extract_stim_times_from_pd(pd2, t)\n",
    "            assert len(stimulus_start_times) == 1\n",
    "            stimulus_start_time = stimulus_start_times[0]\n",
    "            \n",
    "            # Find the indices where the fictrac trigger signal rises\n",
    "            ft_frame_indices = np.where(np.diff(ft_triggers) > 1)[0] + 1\n",
    "            ft_frame_times = t[ft_frame_indices] / 1000 # ms -> s\n",
    "            \n",
    "            # Find fictrac frame index when stimulus starts\n",
    "            ft_frame_index_when_stim_starts = np.argmin(np.abs(ft_frame_times - stimulus_start_time))\n",
    "            \n",
    "            return stimulus_start_time, ft_frame_index_when_stim_starts\n",
    "                        \n",
    "    ### This fictrac class helps process behavior data\n",
    "    class Fictrac:\n",
    "        def __init__ (self, fly, fly_dir, timestamps):\n",
    "            self.fly = fly\n",
    "            self.fictrac_raw = load_fictrac(os.path.join(fly_dir, 'fictrac'))\n",
    "            self.timestamps = timestamps\n",
    "        def make_interp_object(self, behavior):\n",
    "            # Create camera timepoints\n",
    "            fps=100\n",
    "            camera_rate = 1/fps * 1000 # camera frame rate in ms\n",
    "            expt_len = 1000*30*60\n",
    "            x_original = np.arange(0,expt_len,camera_rate)\n",
    "\n",
    "            # Smooth raw fictrac data\n",
    "            fictrac_smoothed = scipy.signal.savgol_filter(np.asarray(self.fictrac_raw[behavior]),25,3)\n",
    "\n",
    "            # Create interp object with camera timepoints\n",
    "            fictrac_interp_object = interp1d(x_original, fictrac_smoothed, bounds_error = False)\n",
    "            return fictrac_interp_object\n",
    "\n",
    "        def pull_from_interp_object(self, interp_object, timepoints):\n",
    "            new_interp = interp_object(timepoints)\n",
    "            np.nan_to_num(new_interp, copy=False);\n",
    "            return new_interp\n",
    "\n",
    "        def interp_fictrac(self, z):\n",
    "            vel_behaviors = ['dRotLabY', 'dRotLabZ']; shorts = ['Y', 'Z']\n",
    "            self.fictrac = {}\n",
    "\n",
    "            for behavior, short in zip(vel_behaviors, shorts):\n",
    "                interp_object = self.make_interp_object(behavior)\n",
    "                self.fictrac[short + 'i'] = interp_object\n",
    "\n",
    "                ### Velocity ###\n",
    "                low_res_behavior = self.pull_from_interp_object(interp_object, self.timestamps[:,z])\n",
    "                self.fictrac[short] = low_res_behavior#/np.std(low_res_behavior)\n",
    "                \n",
    "                ### Clipped Velocities ###\n",
    "                self.fictrac[short + '_pos'] = np.clip(self.fictrac[short], a_min=0, a_max=None)\n",
    "                self.fictrac[short + '_neg'] = np.clip(self.fictrac[short], a_min=None, a_max=0)*-1\n",
    "                \n",
    "                ### Acceleration ###\n",
    "                high_res_behavior = self.pull_from_interp_object(interp_object, high_res_timepoints)\n",
    "                self.fictrac[short + 'h'] = high_res_behavior/np.std(high_res_behavior)\n",
    "\n",
    "                accel = scipy.signal.savgol_filter(np.diff(high_res_behavior),25,3)\n",
    "                accel = np.append(accel, 0)\n",
    "                interp_object = interp1d(high_res_timepoints, accel, bounds_error = False)\n",
    "                acl = interp_object(self.timestamps[:,z])\n",
    "                acl[-1] = 0\n",
    "                self.fictrac[short + 'a'] = acl#/np.std(acl)\n",
    "                \n",
    "                ### Clipped Acceleration ###\n",
    "                self.fictrac[short + 'a' + '_pos'] = np.clip(self.fictrac[short + 'a'], a_min=0, a_max=None)\n",
    "                self.fictrac[short + 'a' + '_neg'] = np.clip(self.fictrac[short + 'a'], a_min=None, a_max=0)*-1\n",
    "\n",
    "            self.fictrac['YZ'] = np.sqrt(np.power(self.fictrac['Y'],2), np.power(self.fictrac['Z'],2))\n",
    "            self.fictrac['YZh'] = np.sqrt(np.power(self.fictrac['Yh'],2), np.power(self.fictrac['Zh'],2))\n",
    "            \n",
    "            # Heading, h\n",
    "            # Create camera timepoints\n",
    "            fps=100\n",
    "            camera_rate = 1/fps * 1000 # camera frame rate in ms\n",
    "            expt_len = 1000*30*60\n",
    "            x_original = np.arange(0,expt_len,camera_rate)\n",
    "\n",
    "            # Smooth raw fictrac data\n",
    "            fictrac_smoothed = scipy.signal.savgol_filter(np.asarray(self.fictrac_raw[behavior]),25,3)\n",
    "\n",
    "            # Subtract heading at stimulus start\n",
    "            stimulus_start_time, stimulus_start_ft_frame = self.fly.get_stimulus_start_time_and_ft_frame()\n",
    "            fictrac_smoothed -= fictrac_smoothed[stimulus_start_ft_frame]\n",
    "            \n",
    "            # Create interp object with camera timepoints\n",
    "            fictrac_interp_object = interp1d(x_original, fictrac_smoothed, bounds_error = False)\n",
    "\n",
    "            interp_object = self.make_interp_object('heading')\n",
    "            self.fictrac['h' + 'i'] = interp_object\n",
    "            low_res_behavior = self.pull_from_interp_object(interp_object, self.timestamps[:,z])\n",
    "            self.fictrac['h'] = low_res_behavior#/np.std(low_res_behavior)\n",
    "\n",
    "    ###############################################\n",
    "    ### Parse the dictionary of input arguments ###\n",
    "    ###############################################\n",
    "\n",
    "    logfile = args['logfile']\n",
    "    save_directory = args['save_directory']\n",
    "    z = args['z']\n",
    "\n",
    "    ### this pringlogging is custom to our system\n",
    "    printlog = getattr(Printlog(logfile=logfile), 'print_to_log')\n",
    "    printlog('{}'.format(z))\n",
    "\n",
    "    fly_names = ['fly_287', 'fly_308', 'fly_309', 'fly_311']\n",
    "    dataset_path = \"/oak/stanford/groups/trc/data/Brezovec/2P_Imaging/20190101_walking_dataset\"\n",
    "    expt_len = 1000*30*60\n",
    "    resolution = 10\n",
    "    high_res_timepoints = np.arange(0,expt_len,resolution) #0 to last time at subsample res\n",
    "\n",
    "    #######################\n",
    "    ### Load Superslice ###\n",
    "    #######################\n",
    "    ### A superslice is a single z-plane but all flies have already been concatenated along an axis of this array\n",
    "    brain_file = \"/oak/stanford/groups/trc/data/yandan/2P_Imaging/2023August/aggregated_fly/stack{}.npy\".format(z)\n",
    "    brain = np.array(np.load(brain_file), copy=True)\n",
    "    # Delete a fly that is in the superslice but was excluded from all analysis due to not passing quality control\n",
    "    # fly_idx_delete = 3 #(fly_095)\n",
    "    # brain = np.delete(brain, fly_idx_delete, axis=-1) #### DELETING FLY_095 ####\n",
    "\n",
    "    #####################\n",
    "    ### Load Clusters ###\n",
    "    #####################\n",
    "\n",
    "    # these are the supervoxels\n",
    "    n_clusters = 2000\n",
    "    labels_file = '/oak/stanford/groups/trc/data/yandan/2P_Imaging/2023August/aggregated_fly/cluster_labels.npy'\n",
    "    cluster_model_labels = np.load(labels_file)\n",
    "    cluster_model_labels = cluster_model_labels[z,:]\n",
    "\n",
    "    ###################\n",
    "    ### Build Flies ###\n",
    "    ###################\n",
    "    ### loop  over flies and load and process neural and behavior data based on classes defined above\n",
    "    flies = {}\n",
    "    for i, fly in enumerate(fly_names):\n",
    "        flies[fly] = Fly(fly_name=fly, fly_idx=i)\n",
    "        flies[fly].load_timestamps()\n",
    "        flies[fly].load_fictrac()\n",
    "        flies[fly].fictrac.interp_fictrac(z)\n",
    "        flies[fly].load_brain_slice()\n",
    "        flies[fly].get_cluster_averages(cluster_model_labels, n_clusters)\n",
    "\n",
    "    #####################\n",
    "    ### Pool behavior ###\n",
    "    #####################\n",
    "    ### concatentate behavior across flies\n",
    "    not_clipped_behaviors = ['Y', 'Z', 'Ya', 'Za', 'h']\n",
    "    clipped_behaviors = ['Y_pos', 'Y_neg',\n",
    "                         'Z_pos', 'Z_neg',\n",
    "                         'Ya_pos', 'Ya_neg',\n",
    "                         'Za_pos', 'Za_neg']\n",
    "    all_behaviors = not_clipped_behaviors + clipped_behaviors\n",
    "\n",
    "    pooled_behavior = {}\n",
    "    for j, behavior in enumerate(all_behaviors):\n",
    "        pooled_behavior[behavior] = []\n",
    "        for i,fly in enumerate(flies):\n",
    "            pooled_behavior[behavior].append(flies[fly].fictrac.fictrac[behavior])\n",
    "        pooled_behavior[behavior] = np.asarray(pooled_behavior[behavior]).flatten()\n",
    "\n",
    "    save_file = os.path.join(save_directory, f'z{z}_pooled_behavior')\n",
    "    np.save(save_file, pooled_behavior)\n",
    "\n",
    "    ###################\n",
    "    ### Correlation ###\n",
    "    ###################\n",
    "    \n",
    "    for behavior_to_corr in all_behaviors:\n",
    "        r_values = []\n",
    "        p_values = []\n",
    "        # looping over supervoxels in a given slice\n",
    "        for cluster in range(n_clusters):\n",
    "            pooled_activity = []\n",
    "            for fly in flies:\n",
    "                pooled_activity.append(flies[fly].cluster_signals[cluster])\n",
    "            pooled_activity = np.asarray(pooled_activity).flatten()\n",
    "\n",
    "            Y = pooled_activity\n",
    "            X = pooled_behavior[behavior_to_corr]\n",
    "\n",
    "            r, p = scipy.stats.pearsonr(X, Y) # calculate correlation\n",
    "            r_values.append(r)\n",
    "            p_values.append(p)\n",
    "\n",
    "            # CONFIRMED IDENTICAL ON 20210101\n",
    "            # Calculate p-value a 2nd way for comparison\n",
    "            # n = len(Y)\n",
    "            # t = (r*np.sqrt(n-2))/(np.sqrt(1-r**2))\n",
    "            # p_manual = scipy.stats.t.sf(abs(t), df=n-2)*2\n",
    "            # p_values_t_test.append(p_manual)\n",
    "\n",
    "        #####################\n",
    "        ### Save Map Data ###\n",
    "        #####################\n",
    "        save_file = os.path.join(save_directory, 'z{}_rvalues_{}'.format(behavior_to_corr, z))\n",
    "        np.save(save_file, np.asarray(r_values))\n",
    "\n",
    "        save_file = os.path.join(save_directory, 'z{}_pvalues_{}'.format(behavior_to_corr, z))\n",
    "        np.save(save_file, np.asarray(p_values))"
   ]
  },
  {
   "cell_type": "code",
   "execution_count": 38,
   "metadata": {},
   "outputs": [
    {
     "name": "stderr",
     "output_type": "stream",
     "text": [
      "\r",
      "  0%|          | 0/49 [00:00<?, ?it/s]"
     ]
    },
    {
     "name": "stdout",
     "output_type": "stream",
     "text": [
      "===== z: 0 =====\n",
      "Trying to load timestamp data from hdf5 file.\n",
      "Success.\n",
      "loading photodiode data... done\n",
      "Trying to load timestamp data from hdf5 file.\n",
      "Success.\n",
      "loading photodiode data... done\n",
      "Trying to load timestamp data from hdf5 file.\n",
      "Success.\n",
      "loading photodiode data... done\n",
      "Trying to load timestamp data from hdf5 file.\n",
      "Success.\n",
      "loading photodiode data... done\n"
     ]
    },
    {
     "name": "stderr",
     "output_type": "stream",
     "text": [
      "\r",
      "  2%|▏         | 1/49 [00:30<24:07, 30.15s/it]"
     ]
    },
    {
     "name": "stdout",
     "output_type": "stream",
     "text": [
      "===== z: 1 =====\n",
      "Trying to load timestamp data from hdf5 file.\n",
      "Success.\n",
      "loading photodiode data... done\n",
      "Trying to load timestamp data from hdf5 file.\n",
      "Success.\n",
      "loading photodiode data... done\n",
      "Trying to load timestamp data from hdf5 file.\n",
      "Success.\n",
      "loading photodiode data... done\n",
      "Trying to load timestamp data from hdf5 file.\n",
      "Success.\n",
      "loading photodiode data... done\n"
     ]
    },
    {
     "name": "stderr",
     "output_type": "stream",
     "text": [
      "\r",
      "  4%|▍         | 2/49 [00:58<23:00, 29.37s/it]"
     ]
    },
    {
     "name": "stdout",
     "output_type": "stream",
     "text": [
      "===== z: 2 =====\n",
      "Trying to load timestamp data from hdf5 file.\n",
      "Success.\n",
      "loading photodiode data... done\n",
      "Trying to load timestamp data from hdf5 file.\n",
      "Success.\n",
      "loading photodiode data... done\n",
      "Trying to load timestamp data from hdf5 file.\n",
      "Success.\n",
      "loading photodiode data... done\n",
      "Trying to load timestamp data from hdf5 file.\n",
      "Success.\n",
      "loading photodiode data... done\n"
     ]
    },
    {
     "name": "stderr",
     "output_type": "stream",
     "text": [
      "\r",
      "  6%|▌         | 3/49 [01:28<22:24, 29.22s/it]"
     ]
    },
    {
     "name": "stdout",
     "output_type": "stream",
     "text": [
      "===== z: 3 =====\n",
      "Trying to load timestamp data from hdf5 file.\n",
      "Success.\n",
      "loading photodiode data... done\n",
      "Trying to load timestamp data from hdf5 file.\n",
      "Success.\n",
      "loading photodiode data... done\n",
      "Trying to load timestamp data from hdf5 file.\n",
      "Success.\n",
      "loading photodiode data... done\n",
      "Trying to load timestamp data from hdf5 file.\n",
      "Success.\n",
      "loading photodiode data... done\n"
     ]
    },
    {
     "name": "stderr",
     "output_type": "stream",
     "text": [
      "\r",
      "  8%|▊         | 4/49 [02:04<23:59, 32.00s/it]"
     ]
    },
    {
     "name": "stdout",
     "output_type": "stream",
     "text": [
      "===== z: 4 =====\n",
      "Trying to load timestamp data from hdf5 file.\n",
      "Success.\n",
      "loading photodiode data... done\n",
      "Trying to load timestamp data from hdf5 file.\n",
      "Success.\n",
      "loading photodiode data... done\n",
      "Trying to load timestamp data from hdf5 file.\n",
      "Success.\n",
      "loading photodiode data... done\n",
      "Trying to load timestamp data from hdf5 file.\n",
      "Success.\n",
      "loading photodiode data... done\n"
     ]
    },
    {
     "name": "stderr",
     "output_type": "stream",
     "text": [
      "\r",
      " 10%|█         | 5/49 [02:34<23:01, 31.39s/it]"
     ]
    },
    {
     "name": "stdout",
     "output_type": "stream",
     "text": [
      "===== z: 5 =====\n",
      "Trying to load timestamp data from hdf5 file.\n",
      "Success.\n",
      "loading photodiode data... done\n",
      "Trying to load timestamp data from hdf5 file.\n",
      "Success.\n",
      "loading photodiode data... done\n",
      "Trying to load timestamp data from hdf5 file.\n",
      "Success.\n",
      "loading photodiode data... done\n",
      "Trying to load timestamp data from hdf5 file.\n",
      "Success.\n",
      "loading photodiode data... done\n"
     ]
    },
    {
     "name": "stderr",
     "output_type": "stream",
     "text": [
      "\r",
      " 12%|█▏        | 6/49 [03:11<23:47, 33.20s/it]"
     ]
    },
    {
     "name": "stdout",
     "output_type": "stream",
     "text": [
      "===== z: 6 =====\n",
      "Trying to load timestamp data from hdf5 file.\n",
      "Success.\n",
      "loading photodiode data... done\n",
      "Trying to load timestamp data from hdf5 file.\n",
      "Success.\n",
      "loading photodiode data... done\n",
      "Trying to load timestamp data from hdf5 file.\n",
      "Success.\n",
      "loading photodiode data... done\n",
      "Trying to load timestamp data from hdf5 file.\n",
      "Success.\n",
      "loading photodiode data... done\n"
     ]
    },
    {
     "name": "stderr",
     "output_type": "stream",
     "text": [
      "\r",
      " 14%|█▍        | 7/49 [03:49<24:26, 34.92s/it]"
     ]
    },
    {
     "name": "stdout",
     "output_type": "stream",
     "text": [
      "===== z: 7 =====\n",
      "Trying to load timestamp data from hdf5 file.\n",
      "Success.\n",
      "loading photodiode data... done\n",
      "Trying to load timestamp data from hdf5 file.\n",
      "Success.\n",
      "loading photodiode data... done\n",
      "Trying to load timestamp data from hdf5 file.\n",
      "Success.\n",
      "loading photodiode data... done\n",
      "Trying to load timestamp data from hdf5 file.\n",
      "Success.\n",
      "loading photodiode data... done\n"
     ]
    },
    {
     "name": "stderr",
     "output_type": "stream",
     "text": [
      "\r",
      " 16%|█▋        | 8/49 [04:28<24:42, 36.16s/it]"
     ]
    },
    {
     "name": "stdout",
     "output_type": "stream",
     "text": [
      "===== z: 8 =====\n",
      "Trying to load timestamp data from hdf5 file.\n",
      "Success.\n",
      "loading photodiode data... done\n",
      "Trying to load timestamp data from hdf5 file.\n",
      "Success.\n",
      "loading photodiode data... done\n",
      "Trying to load timestamp data from hdf5 file.\n",
      "Success.\n",
      "loading photodiode data... done\n",
      "Trying to load timestamp data from hdf5 file.\n",
      "Success.\n",
      "loading photodiode data... done\n"
     ]
    },
    {
     "name": "stderr",
     "output_type": "stream",
     "text": [
      "\r",
      " 18%|█▊        | 9/49 [05:05<24:18, 36.46s/it]"
     ]
    },
    {
     "name": "stdout",
     "output_type": "stream",
     "text": [
      "===== z: 9 =====\n",
      "Trying to load timestamp data from hdf5 file.\n",
      "Success.\n",
      "loading photodiode data... done\n",
      "Trying to load timestamp data from hdf5 file.\n",
      "Success.\n",
      "loading photodiode data... done\n",
      "Trying to load timestamp data from hdf5 file.\n",
      "Success.\n",
      "loading photodiode data... done\n",
      "Trying to load timestamp data from hdf5 file.\n",
      "Success.\n",
      "loading photodiode data... done\n"
     ]
    },
    {
     "name": "stderr",
     "output_type": "stream",
     "text": [
      "\r",
      " 20%|██        | 10/49 [05:42<23:46, 36.58s/it]"
     ]
    },
    {
     "name": "stdout",
     "output_type": "stream",
     "text": [
      "===== z: 10 =====\n",
      "Trying to load timestamp data from hdf5 file.\n",
      "Success.\n",
      "loading photodiode data... done\n",
      "Trying to load timestamp data from hdf5 file.\n",
      "Success.\n",
      "loading photodiode data... done\n",
      "Trying to load timestamp data from hdf5 file.\n",
      "Success.\n",
      "loading photodiode data... done\n",
      "Trying to load timestamp data from hdf5 file.\n",
      "Success.\n",
      "loading photodiode data... done\n"
     ]
    },
    {
     "name": "stderr",
     "output_type": "stream",
     "text": [
      "\r",
      " 22%|██▏       | 11/49 [06:20<23:30, 37.11s/it]"
     ]
    },
    {
     "name": "stdout",
     "output_type": "stream",
     "text": [
      "===== z: 11 =====\n",
      "Trying to load timestamp data from hdf5 file.\n",
      "Success.\n",
      "loading photodiode data... done\n",
      "Trying to load timestamp data from hdf5 file.\n",
      "Success.\n",
      "loading photodiode data... done\n",
      "Trying to load timestamp data from hdf5 file.\n",
      "Success.\n",
      "loading photodiode data... done\n",
      "Trying to load timestamp data from hdf5 file.\n",
      "Success.\n",
      "loading photodiode data... done\n"
     ]
    },
    {
     "name": "stderr",
     "output_type": "stream",
     "text": [
      "\r",
      " 24%|██▍       | 12/49 [06:57<22:48, 36.99s/it]"
     ]
    },
    {
     "name": "stdout",
     "output_type": "stream",
     "text": [
      "===== z: 12 =====\n",
      "Trying to load timestamp data from hdf5 file.\n",
      "Success.\n",
      "loading photodiode data... done\n",
      "Trying to load timestamp data from hdf5 file.\n",
      "Success.\n",
      "loading photodiode data... done\n",
      "Trying to load timestamp data from hdf5 file.\n",
      "Success.\n",
      "loading photodiode data... done\n",
      "Trying to load timestamp data from hdf5 file.\n",
      "Success.\n",
      "loading photodiode data... done\n"
     ]
    },
    {
     "name": "stderr",
     "output_type": "stream",
     "text": [
      "\r",
      " 27%|██▋       | 13/49 [07:34<22:05, 36.83s/it]"
     ]
    },
    {
     "name": "stdout",
     "output_type": "stream",
     "text": [
      "===== z: 13 =====\n",
      "Trying to load timestamp data from hdf5 file.\n",
      "Success.\n",
      "loading photodiode data... done\n",
      "Trying to load timestamp data from hdf5 file.\n",
      "Success.\n",
      "loading photodiode data... done\n",
      "Trying to load timestamp data from hdf5 file.\n",
      "Success.\n",
      "loading photodiode data... done\n",
      "Trying to load timestamp data from hdf5 file.\n",
      "Success.\n",
      "loading photodiode data... done\n"
     ]
    },
    {
     "name": "stderr",
     "output_type": "stream",
     "text": [
      "\r",
      " 29%|██▊       | 14/49 [08:10<21:21, 36.60s/it]"
     ]
    },
    {
     "name": "stdout",
     "output_type": "stream",
     "text": [
      "===== z: 14 =====\n",
      "Trying to load timestamp data from hdf5 file.\n",
      "Success.\n",
      "loading photodiode data... done\n",
      "Trying to load timestamp data from hdf5 file.\n",
      "Success.\n",
      "loading photodiode data... done\n",
      "Trying to load timestamp data from hdf5 file.\n",
      "Success.\n",
      "loading photodiode data... done\n",
      "Trying to load timestamp data from hdf5 file.\n",
      "Success.\n",
      "loading photodiode data... done\n"
     ]
    },
    {
     "name": "stderr",
     "output_type": "stream",
     "text": [
      "\r",
      " 31%|███       | 15/49 [08:47<20:57, 36.99s/it]"
     ]
    },
    {
     "name": "stdout",
     "output_type": "stream",
     "text": [
      "===== z: 15 =====\n",
      "Trying to load timestamp data from hdf5 file.\n",
      "Success.\n",
      "loading photodiode data... done\n",
      "Trying to load timestamp data from hdf5 file.\n",
      "Success.\n",
      "loading photodiode data... done\n",
      "Trying to load timestamp data from hdf5 file.\n",
      "Success.\n",
      "loading photodiode data... done\n",
      "Trying to load timestamp data from hdf5 file.\n",
      "Success.\n",
      "loading photodiode data... done\n"
     ]
    },
    {
     "name": "stderr",
     "output_type": "stream",
     "text": [
      "\r",
      " 33%|███▎      | 16/49 [09:23<20:07, 36.60s/it]"
     ]
    },
    {
     "name": "stdout",
     "output_type": "stream",
     "text": [
      "===== z: 16 =====\n",
      "Trying to load timestamp data from hdf5 file.\n",
      "Success.\n",
      "loading photodiode data... done\n",
      "Trying to load timestamp data from hdf5 file.\n",
      "Success.\n",
      "loading photodiode data... done\n",
      "Trying to load timestamp data from hdf5 file.\n",
      "Success.\n",
      "loading photodiode data... done\n",
      "Trying to load timestamp data from hdf5 file.\n",
      "Success.\n",
      "loading photodiode data... done\n"
     ]
    },
    {
     "name": "stderr",
     "output_type": "stream",
     "text": [
      "\r",
      " 35%|███▍      | 17/49 [09:59<19:25, 36.42s/it]"
     ]
    },
    {
     "name": "stdout",
     "output_type": "stream",
     "text": [
      "===== z: 17 =====\n",
      "Trying to load timestamp data from hdf5 file.\n",
      "Success.\n",
      "loading photodiode data... done\n",
      "Trying to load timestamp data from hdf5 file.\n",
      "Success.\n",
      "loading photodiode data... done\n",
      "Trying to load timestamp data from hdf5 file.\n",
      "Success.\n",
      "loading photodiode data... done\n",
      "Trying to load timestamp data from hdf5 file.\n",
      "Success.\n",
      "loading photodiode data... done\n"
     ]
    },
    {
     "name": "stderr",
     "output_type": "stream",
     "text": [
      "\r",
      " 37%|███▋      | 18/49 [10:35<18:40, 36.13s/it]"
     ]
    },
    {
     "name": "stdout",
     "output_type": "stream",
     "text": [
      "===== z: 18 =====\n",
      "Trying to load timestamp data from hdf5 file.\n",
      "Success.\n",
      "loading photodiode data... done\n",
      "Trying to load timestamp data from hdf5 file.\n",
      "Success.\n",
      "loading photodiode data... done\n",
      "Trying to load timestamp data from hdf5 file.\n",
      "Success.\n",
      "loading photodiode data... done\n",
      "Trying to load timestamp data from hdf5 file.\n",
      "Success.\n",
      "loading photodiode data... done\n"
     ]
    },
    {
     "name": "stderr",
     "output_type": "stream",
     "text": [
      "\r",
      " 39%|███▉      | 19/49 [11:12<18:11, 36.37s/it]"
     ]
    },
    {
     "name": "stdout",
     "output_type": "stream",
     "text": [
      "===== z: 19 =====\n",
      "Trying to load timestamp data from hdf5 file.\n",
      "Success.\n",
      "loading photodiode data... done\n",
      "Trying to load timestamp data from hdf5 file.\n",
      "Success.\n",
      "loading photodiode data... done\n",
      "Trying to load timestamp data from hdf5 file.\n",
      "Success.\n",
      "loading photodiode data... done\n",
      "Trying to load timestamp data from hdf5 file.\n",
      "Success.\n",
      "loading photodiode data... done\n"
     ]
    },
    {
     "name": "stderr",
     "output_type": "stream",
     "text": [
      "\r",
      " 41%|████      | 20/49 [11:46<17:18, 35.81s/it]"
     ]
    },
    {
     "name": "stdout",
     "output_type": "stream",
     "text": [
      "===== z: 20 =====\n",
      "Trying to load timestamp data from hdf5 file.\n",
      "Success.\n",
      "loading photodiode data... done\n",
      "Trying to load timestamp data from hdf5 file.\n",
      "Success.\n",
      "loading photodiode data... done\n",
      "Trying to load timestamp data from hdf5 file.\n",
      "Success.\n",
      "loading photodiode data... done\n",
      "Trying to load timestamp data from hdf5 file.\n",
      "Success.\n",
      "loading photodiode data... done\n"
     ]
    },
    {
     "name": "stderr",
     "output_type": "stream",
     "text": [
      "\r",
      " 43%|████▎     | 21/49 [12:21<16:31, 35.41s/it]"
     ]
    },
    {
     "name": "stdout",
     "output_type": "stream",
     "text": [
      "===== z: 21 =====\n",
      "Trying to load timestamp data from hdf5 file.\n",
      "Success.\n",
      "loading photodiode data... done\n",
      "Trying to load timestamp data from hdf5 file.\n",
      "Success.\n",
      "loading photodiode data... done\n",
      "Trying to load timestamp data from hdf5 file.\n",
      "Success.\n",
      "loading photodiode data... done\n",
      "Trying to load timestamp data from hdf5 file.\n",
      "Success.\n",
      "loading photodiode data... done\n"
     ]
    },
    {
     "name": "stderr",
     "output_type": "stream",
     "text": [
      "\r",
      " 45%|████▍     | 22/49 [12:59<16:21, 36.37s/it]"
     ]
    },
    {
     "name": "stdout",
     "output_type": "stream",
     "text": [
      "===== z: 22 =====\n",
      "Trying to load timestamp data from hdf5 file.\n",
      "Success.\n",
      "loading photodiode data... done\n",
      "Trying to load timestamp data from hdf5 file.\n",
      "Success.\n",
      "loading photodiode data... done\n",
      "Trying to load timestamp data from hdf5 file.\n",
      "Success.\n",
      "loading photodiode data... done\n",
      "Trying to load timestamp data from hdf5 file.\n",
      "Success.\n",
      "loading photodiode data... done\n"
     ]
    },
    {
     "name": "stderr",
     "output_type": "stream",
     "text": [
      "\r",
      " 47%|████▋     | 23/49 [13:34<15:30, 35.78s/it]"
     ]
    },
    {
     "name": "stdout",
     "output_type": "stream",
     "text": [
      "===== z: 23 =====\n",
      "Trying to load timestamp data from hdf5 file.\n",
      "Success.\n",
      "loading photodiode data... done\n",
      "Trying to load timestamp data from hdf5 file.\n",
      "Success.\n",
      "loading photodiode data... done\n",
      "Trying to load timestamp data from hdf5 file.\n",
      "Success.\n",
      "loading photodiode data... done\n",
      "Trying to load timestamp data from hdf5 file.\n",
      "Success.\n",
      "loading photodiode data... done\n"
     ]
    },
    {
     "name": "stderr",
     "output_type": "stream",
     "text": [
      "\r",
      " 49%|████▉     | 24/49 [14:08<14:45, 35.40s/it]"
     ]
    },
    {
     "name": "stdout",
     "output_type": "stream",
     "text": [
      "===== z: 24 =====\n",
      "Trying to load timestamp data from hdf5 file.\n",
      "Success.\n",
      "loading photodiode data... done\n",
      "Trying to load timestamp data from hdf5 file.\n",
      "Success.\n",
      "loading photodiode data... done\n",
      "Trying to load timestamp data from hdf5 file.\n",
      "Success.\n",
      "loading photodiode data... done\n",
      "Trying to load timestamp data from hdf5 file.\n",
      "Success.\n",
      "loading photodiode data... done\n"
     ]
    },
    {
     "name": "stderr",
     "output_type": "stream",
     "text": [
      "\r",
      " 51%|█████     | 25/49 [14:43<14:06, 35.27s/it]"
     ]
    },
    {
     "name": "stdout",
     "output_type": "stream",
     "text": [
      "===== z: 25 =====\n",
      "Trying to load timestamp data from hdf5 file.\n",
      "Success.\n",
      "loading photodiode data... done\n",
      "Trying to load timestamp data from hdf5 file.\n",
      "Success.\n",
      "loading photodiode data... done\n",
      "Trying to load timestamp data from hdf5 file.\n",
      "Success.\n",
      "loading photodiode data... done\n",
      "Trying to load timestamp data from hdf5 file.\n",
      "Success.\n",
      "loading photodiode data... done\n"
     ]
    },
    {
     "name": "stderr",
     "output_type": "stream",
     "text": [
      "\r",
      " 53%|█████▎    | 26/49 [15:20<13:41, 35.73s/it]"
     ]
    },
    {
     "name": "stdout",
     "output_type": "stream",
     "text": [
      "===== z: 26 =====\n",
      "Trying to load timestamp data from hdf5 file.\n",
      "Success.\n",
      "loading photodiode data... done\n",
      "Trying to load timestamp data from hdf5 file.\n",
      "Success.\n",
      "loading photodiode data... done\n",
      "Trying to load timestamp data from hdf5 file.\n",
      "Success.\n",
      "loading photodiode data... done\n",
      "Trying to load timestamp data from hdf5 file.\n",
      "Success.\n",
      "loading photodiode data... done\n"
     ]
    },
    {
     "name": "stderr",
     "output_type": "stream",
     "text": [
      "\r",
      " 55%|█████▌    | 27/49 [15:54<12:58, 35.40s/it]"
     ]
    },
    {
     "name": "stdout",
     "output_type": "stream",
     "text": [
      "===== z: 27 =====\n",
      "Trying to load timestamp data from hdf5 file.\n",
      "Success.\n",
      "loading photodiode data... done\n",
      "Trying to load timestamp data from hdf5 file.\n",
      "Success.\n",
      "loading photodiode data... done\n",
      "Trying to load timestamp data from hdf5 file.\n",
      "Success.\n",
      "loading photodiode data... done\n",
      "Trying to load timestamp data from hdf5 file.\n",
      "Success.\n",
      "loading photodiode data... done\n"
     ]
    },
    {
     "name": "stderr",
     "output_type": "stream",
     "text": [
      "\r",
      " 57%|█████▋    | 28/49 [16:39<13:19, 38.06s/it]"
     ]
    },
    {
     "name": "stdout",
     "output_type": "stream",
     "text": [
      "===== z: 28 =====\n",
      "Trying to load timestamp data from hdf5 file.\n",
      "Success.\n",
      "loading photodiode data... done\n",
      "Trying to load timestamp data from hdf5 file.\n",
      "Success.\n",
      "loading photodiode data... done\n",
      "Trying to load timestamp data from hdf5 file.\n",
      "Success.\n",
      "loading photodiode data... done\n",
      "Trying to load timestamp data from hdf5 file.\n",
      "Success.\n",
      "loading photodiode data... done\n"
     ]
    },
    {
     "name": "stderr",
     "output_type": "stream",
     "text": [
      "\r",
      " 59%|█████▉    | 29/49 [17:18<12:46, 38.30s/it]"
     ]
    },
    {
     "name": "stdout",
     "output_type": "stream",
     "text": [
      "===== z: 29 =====\n",
      "Trying to load timestamp data from hdf5 file.\n",
      "Success.\n",
      "loading photodiode data... done\n",
      "Trying to load timestamp data from hdf5 file.\n",
      "Success.\n",
      "loading photodiode data... done\n",
      "Trying to load timestamp data from hdf5 file.\n",
      "Success.\n",
      "loading photodiode data... done\n",
      "Trying to load timestamp data from hdf5 file.\n",
      "Success.\n",
      "loading photodiode data... done\n"
     ]
    },
    {
     "name": "stderr",
     "output_type": "stream",
     "text": [
      "\r",
      " 61%|██████    | 30/49 [17:53<11:51, 37.44s/it]"
     ]
    },
    {
     "name": "stdout",
     "output_type": "stream",
     "text": [
      "===== z: 30 =====\n",
      "Trying to load timestamp data from hdf5 file.\n",
      "Success.\n",
      "loading photodiode data... done\n",
      "Trying to load timestamp data from hdf5 file.\n",
      "Success.\n",
      "loading photodiode data... done\n",
      "Trying to load timestamp data from hdf5 file.\n",
      "Success.\n",
      "loading photodiode data... done\n",
      "Trying to load timestamp data from hdf5 file.\n",
      "Success.\n",
      "loading photodiode data... done\n"
     ]
    },
    {
     "name": "stderr",
     "output_type": "stream",
     "text": [
      "\r",
      " 63%|██████▎   | 31/49 [18:27<10:57, 36.54s/it]"
     ]
    },
    {
     "name": "stdout",
     "output_type": "stream",
     "text": [
      "===== z: 31 =====\n",
      "Trying to load timestamp data from hdf5 file.\n",
      "Success.\n",
      "loading photodiode data... done\n",
      "Trying to load timestamp data from hdf5 file.\n",
      "Success.\n",
      "loading photodiode data... done\n",
      "Trying to load timestamp data from hdf5 file.\n",
      "Success.\n",
      "loading photodiode data... done\n",
      "Trying to load timestamp data from hdf5 file.\n",
      "Success.\n",
      "loading photodiode data... done\n"
     ]
    },
    {
     "name": "stderr",
     "output_type": "stream",
     "text": [
      "\r",
      " 65%|██████▌   | 32/49 [19:02<10:13, 36.07s/it]"
     ]
    },
    {
     "name": "stdout",
     "output_type": "stream",
     "text": [
      "===== z: 32 =====\n",
      "Trying to load timestamp data from hdf5 file.\n",
      "Success.\n",
      "loading photodiode data... done\n",
      "Trying to load timestamp data from hdf5 file.\n",
      "Success.\n",
      "loading photodiode data... done\n",
      "Trying to load timestamp data from hdf5 file.\n",
      "Success.\n",
      "loading photodiode data... done\n",
      "Trying to load timestamp data from hdf5 file.\n",
      "Success.\n",
      "loading photodiode data... done\n"
     ]
    },
    {
     "name": "stderr",
     "output_type": "stream",
     "text": [
      "\r",
      " 67%|██████▋   | 33/49 [19:37<09:29, 35.62s/it]"
     ]
    },
    {
     "name": "stdout",
     "output_type": "stream",
     "text": [
      "===== z: 33 =====\n",
      "Trying to load timestamp data from hdf5 file.\n",
      "Success.\n",
      "loading photodiode data... done\n",
      "Trying to load timestamp data from hdf5 file.\n",
      "Success.\n",
      "loading photodiode data... done\n",
      "Trying to load timestamp data from hdf5 file.\n",
      "Success.\n",
      "loading photodiode data... done\n",
      "Trying to load timestamp data from hdf5 file.\n",
      "Success.\n",
      "loading photodiode data... done\n"
     ]
    },
    {
     "name": "stderr",
     "output_type": "stream",
     "text": [
      "\r",
      " 69%|██████▉   | 34/49 [20:22<09:35, 38.35s/it]"
     ]
    },
    {
     "name": "stdout",
     "output_type": "stream",
     "text": [
      "===== z: 34 =====\n",
      "Trying to load timestamp data from hdf5 file.\n",
      "Success.\n",
      "loading photodiode data... done\n",
      "Trying to load timestamp data from hdf5 file.\n",
      "Success.\n",
      "loading photodiode data... done\n",
      "Trying to load timestamp data from hdf5 file.\n",
      "Success.\n",
      "loading photodiode data... done\n",
      "Trying to load timestamp data from hdf5 file.\n",
      "Success.\n",
      "loading photodiode data... done\n"
     ]
    },
    {
     "name": "stderr",
     "output_type": "stream",
     "text": [
      "\r",
      " 71%|███████▏  | 35/49 [21:07<09:27, 40.55s/it]"
     ]
    },
    {
     "name": "stdout",
     "output_type": "stream",
     "text": [
      "===== z: 35 =====\n",
      "Trying to load timestamp data from hdf5 file.\n",
      "Success.\n",
      "loading photodiode data... done\n",
      "Trying to load timestamp data from hdf5 file.\n",
      "Success.\n",
      "loading photodiode data... done\n",
      "Trying to load timestamp data from hdf5 file.\n",
      "Success.\n",
      "loading photodiode data... done\n",
      "Trying to load timestamp data from hdf5 file.\n",
      "Success.\n",
      "loading photodiode data... done\n"
     ]
    },
    {
     "name": "stderr",
     "output_type": "stream",
     "text": [
      "\r",
      " 73%|███████▎  | 36/49 [21:52<09:01, 41.63s/it]"
     ]
    },
    {
     "name": "stdout",
     "output_type": "stream",
     "text": [
      "===== z: 36 =====\n",
      "Trying to load timestamp data from hdf5 file.\n",
      "Success.\n",
      "loading photodiode data... done\n",
      "Trying to load timestamp data from hdf5 file.\n",
      "Success.\n",
      "loading photodiode data... done\n",
      "Trying to load timestamp data from hdf5 file.\n",
      "Success.\n",
      "loading photodiode data... done\n",
      "Trying to load timestamp data from hdf5 file.\n",
      "Success.\n",
      "loading photodiode data... done\n"
     ]
    },
    {
     "name": "stderr",
     "output_type": "stream",
     "text": [
      "\r",
      " 76%|███████▌  | 37/49 [22:32<08:14, 41.17s/it]"
     ]
    },
    {
     "name": "stdout",
     "output_type": "stream",
     "text": [
      "===== z: 37 =====\n",
      "Trying to load timestamp data from hdf5 file.\n",
      "Success.\n",
      "loading photodiode data... done\n",
      "Trying to load timestamp data from hdf5 file.\n",
      "Success.\n",
      "loading photodiode data... done\n",
      "Trying to load timestamp data from hdf5 file.\n",
      "Success.\n",
      "loading photodiode data... done\n",
      "Trying to load timestamp data from hdf5 file.\n",
      "Success.\n",
      "loading photodiode data... done\n"
     ]
    },
    {
     "name": "stderr",
     "output_type": "stream",
     "text": [
      "\r",
      " 78%|███████▊  | 38/49 [23:07<07:14, 39.50s/it]"
     ]
    },
    {
     "name": "stdout",
     "output_type": "stream",
     "text": [
      "===== z: 38 =====\n",
      "Trying to load timestamp data from hdf5 file.\n",
      "Success.\n",
      "loading photodiode data... done\n",
      "Trying to load timestamp data from hdf5 file.\n",
      "Success.\n",
      "loading photodiode data... done\n",
      "Trying to load timestamp data from hdf5 file.\n",
      "Success.\n",
      "loading photodiode data... done\n",
      "Trying to load timestamp data from hdf5 file.\n",
      "Success.\n",
      "loading photodiode data... done\n"
     ]
    },
    {
     "name": "stderr",
     "output_type": "stream",
     "text": [
      "\r",
      " 80%|███████▉  | 39/49 [23:42<06:20, 38.09s/it]"
     ]
    },
    {
     "name": "stdout",
     "output_type": "stream",
     "text": [
      "===== z: 39 =====\n",
      "Trying to load timestamp data from hdf5 file.\n",
      "Success.\n",
      "loading photodiode data... done\n",
      "Trying to load timestamp data from hdf5 file.\n",
      "Success.\n",
      "loading photodiode data... done\n",
      "Trying to load timestamp data from hdf5 file.\n",
      "Success.\n",
      "loading photodiode data... done\n",
      "Trying to load timestamp data from hdf5 file.\n",
      "Success.\n",
      "loading photodiode data... done\n"
     ]
    },
    {
     "name": "stderr",
     "output_type": "stream",
     "text": [
      "\r",
      " 82%|████████▏ | 40/49 [24:27<06:01, 40.19s/it]"
     ]
    },
    {
     "name": "stdout",
     "output_type": "stream",
     "text": [
      "===== z: 40 =====\n",
      "Trying to load timestamp data from hdf5 file.\n",
      "Success.\n",
      "loading photodiode data... done\n",
      "Trying to load timestamp data from hdf5 file.\n",
      "Success.\n",
      "loading photodiode data... done\n",
      "Trying to load timestamp data from hdf5 file.\n",
      "Success.\n",
      "loading photodiode data... done\n",
      "Trying to load timestamp data from hdf5 file.\n",
      "Success.\n",
      "loading photodiode data... done\n"
     ]
    },
    {
     "name": "stderr",
     "output_type": "stream",
     "text": [
      "\r",
      " 84%|████████▎ | 41/49 [24:54<04:48, 36.08s/it]"
     ]
    },
    {
     "name": "stdout",
     "output_type": "stream",
     "text": [
      "===== z: 41 =====\n",
      "Trying to load timestamp data from hdf5 file.\n",
      "Success.\n",
      "loading photodiode data... done\n",
      "Trying to load timestamp data from hdf5 file.\n",
      "Success.\n",
      "loading photodiode data... done\n",
      "Trying to load timestamp data from hdf5 file.\n",
      "Success.\n",
      "loading photodiode data... done\n",
      "Trying to load timestamp data from hdf5 file.\n",
      "Success.\n",
      "loading photodiode data... done\n"
     ]
    },
    {
     "name": "stderr",
     "output_type": "stream",
     "text": [
      "\r",
      " 86%|████████▌ | 42/49 [25:20<03:52, 33.20s/it]"
     ]
    },
    {
     "name": "stdout",
     "output_type": "stream",
     "text": [
      "===== z: 42 =====\n",
      "Trying to load timestamp data from hdf5 file.\n",
      "Success.\n",
      "loading photodiode data... done\n",
      "Trying to load timestamp data from hdf5 file.\n",
      "Success.\n",
      "loading photodiode data... done\n",
      "Trying to load timestamp data from hdf5 file.\n",
      "Success.\n",
      "loading photodiode data... done\n",
      "Trying to load timestamp data from hdf5 file.\n",
      "Success.\n",
      "loading photodiode data... done\n"
     ]
    },
    {
     "name": "stderr",
     "output_type": "stream",
     "text": [
      "\r",
      " 88%|████████▊ | 43/49 [25:47<03:07, 31.19s/it]"
     ]
    },
    {
     "name": "stdout",
     "output_type": "stream",
     "text": [
      "===== z: 43 =====\n",
      "Trying to load timestamp data from hdf5 file.\n",
      "Success.\n",
      "loading photodiode data... done\n",
      "Trying to load timestamp data from hdf5 file.\n",
      "Success.\n",
      "loading photodiode data... done\n",
      "Trying to load timestamp data from hdf5 file.\n",
      "Success.\n",
      "loading photodiode data... done\n",
      "Trying to load timestamp data from hdf5 file.\n",
      "Success.\n",
      "loading photodiode data... done\n"
     ]
    },
    {
     "name": "stderr",
     "output_type": "stream",
     "text": [
      "\r",
      " 90%|████████▉ | 44/49 [26:13<02:28, 29.79s/it]"
     ]
    },
    {
     "name": "stdout",
     "output_type": "stream",
     "text": [
      "===== z: 44 =====\n",
      "Trying to load timestamp data from hdf5 file.\n",
      "Success.\n",
      "loading photodiode data... done\n",
      "Trying to load timestamp data from hdf5 file.\n",
      "Success.\n",
      "loading photodiode data... done\n",
      "Trying to load timestamp data from hdf5 file.\n",
      "Success.\n",
      "loading photodiode data... done\n",
      "Trying to load timestamp data from hdf5 file.\n",
      "Success.\n",
      "loading photodiode data... done\n"
     ]
    },
    {
     "name": "stderr",
     "output_type": "stream",
     "text": [
      "\r",
      " 92%|█████████▏| 45/49 [26:40<01:55, 28.77s/it]"
     ]
    },
    {
     "name": "stdout",
     "output_type": "stream",
     "text": [
      "===== z: 45 =====\n",
      "Trying to load timestamp data from hdf5 file.\n",
      "Success.\n",
      "loading photodiode data... done\n",
      "Trying to load timestamp data from hdf5 file.\n",
      "Success.\n",
      "loading photodiode data... done\n",
      "Trying to load timestamp data from hdf5 file.\n",
      "Success.\n",
      "loading photodiode data... done\n",
      "Trying to load timestamp data from hdf5 file.\n",
      "Success.\n",
      "loading photodiode data... done\n"
     ]
    },
    {
     "name": "stderr",
     "output_type": "stream",
     "text": [
      "\r",
      " 94%|█████████▍| 46/49 [27:11<01:28, 29.60s/it]"
     ]
    },
    {
     "name": "stdout",
     "output_type": "stream",
     "text": [
      "===== z: 46 =====\n",
      "Trying to load timestamp data from hdf5 file.\n",
      "Success.\n",
      "loading photodiode data... done\n",
      "Trying to load timestamp data from hdf5 file.\n",
      "Success.\n",
      "loading photodiode data... done\n",
      "Trying to load timestamp data from hdf5 file.\n",
      "Success.\n",
      "loading photodiode data... done\n",
      "Trying to load timestamp data from hdf5 file.\n",
      "Success.\n",
      "loading photodiode data... done\n"
     ]
    },
    {
     "name": "stderr",
     "output_type": "stream",
     "text": [
      "\r",
      " 96%|█████████▌| 47/49 [27:38<00:57, 28.70s/it]"
     ]
    },
    {
     "name": "stdout",
     "output_type": "stream",
     "text": [
      "===== z: 47 =====\n",
      "Trying to load timestamp data from hdf5 file.\n",
      "Success.\n",
      "loading photodiode data... done\n",
      "Trying to load timestamp data from hdf5 file.\n",
      "Success.\n",
      "loading photodiode data... done\n",
      "Trying to load timestamp data from hdf5 file.\n",
      "Success.\n",
      "loading photodiode data... done\n",
      "Trying to load timestamp data from hdf5 file.\n",
      "Success.\n",
      "loading photodiode data... done\n"
     ]
    },
    {
     "name": "stderr",
     "output_type": "stream",
     "text": [
      "\r",
      " 98%|█████████▊| 48/49 [28:11<00:30, 30.17s/it]"
     ]
    },
    {
     "name": "stdout",
     "output_type": "stream",
     "text": [
      "===== z: 48 =====\n",
      "Trying to load timestamp data from hdf5 file.\n",
      "Success.\n",
      "loading photodiode data... done\n",
      "Trying to load timestamp data from hdf5 file.\n",
      "Success.\n",
      "loading photodiode data... done\n",
      "Trying to load timestamp data from hdf5 file.\n",
      "Success.\n",
      "loading photodiode data... done\n",
      "Trying to load timestamp data from hdf5 file.\n",
      "Success.\n",
      "loading photodiode data... done\n"
     ]
    },
    {
     "name": "stderr",
     "output_type": "stream",
     "text": [
      "100%|██████████| 49/49 [28:38<00:00, 35.07s/it]\n"
     ]
    }
   ],
   "source": [
    "for z in tqdm(range(49)):\n",
    "    print(f'===== z: {z} =====')\n",
    "    args = {'z': z, \n",
    "            'logfile': \"/oak/stanford/groups/trc/data/yandan/2P_Imaging/2023August/aggregated_fly/log.log\",\n",
    "            'save_directory': \"/oak/stanford/groups/trc/data/yandan/2P_Imaging/2023August/aggregated_fly\"}\n",
    "\n",
    "    main(args)"
   ]
  },
  {
   "cell_type": "code",
   "execution_count": null,
   "metadata": {
    "collapsed": true
   },
   "outputs": [],
   "source": []
  },
  {
   "cell_type": "code",
   "execution_count": 7,
   "metadata": {
    "scrolled": true
   },
   "outputs": [
    {
     "name": "stdout",
     "output_type": "stream",
     "text": [
      "0\n"
     ]
    },
    {
     "ename": "KeyboardInterrupt",
     "evalue": "",
     "output_type": "error",
     "traceback": [
      "\u001b[0;31m---------------------------------------------------------------------------\u001b[0m",
      "\u001b[0;31mKeyboardInterrupt\u001b[0m                         Traceback (most recent call last)",
      "\u001b[0;32m<ipython-input-7-1b87faa2ade2>\u001b[0m in \u001b[0;36m<module>\u001b[0;34m()\u001b[0m\n\u001b[1;32m     18\u001b[0m     \u001b[0mt0\u001b[0m \u001b[0;34m=\u001b[0m \u001b[0mtime\u001b[0m\u001b[0;34m.\u001b[0m\u001b[0mtime\u001b[0m\u001b[0;34m(\u001b[0m\u001b[0;34m)\u001b[0m\u001b[0;34m\u001b[0m\u001b[0m\n\u001b[1;32m     19\u001b[0m     \u001b[0mbrain_file\u001b[0m \u001b[0;34m=\u001b[0m \u001b[0;34m\"/oak/stanford/groups/trc/data/yandan/2P_Imaging/2023August/aggregated_fly/stack{}.npy\"\u001b[0m\u001b[0;34m.\u001b[0m\u001b[0mformat\u001b[0m\u001b[0;34m(\u001b[0m\u001b[0mz\u001b[0m\u001b[0;34m)\u001b[0m\u001b[0;34m\u001b[0m\u001b[0m\n\u001b[0;32m---> 20\u001b[0;31m     \u001b[0mbrain\u001b[0m \u001b[0;34m=\u001b[0m \u001b[0mnp\u001b[0m\u001b[0;34m.\u001b[0m\u001b[0marray\u001b[0m\u001b[0;34m(\u001b[0m\u001b[0mnp\u001b[0m\u001b[0;34m.\u001b[0m\u001b[0mload\u001b[0m\u001b[0;34m(\u001b[0m\u001b[0mbrain_file\u001b[0m\u001b[0;34m)\u001b[0m\u001b[0;34m,\u001b[0m \u001b[0mcopy\u001b[0m\u001b[0;34m=\u001b[0m\u001b[0;32mTrue\u001b[0m\u001b[0;34m)\u001b[0m\u001b[0;34m\u001b[0m\u001b[0m\n\u001b[0m\u001b[1;32m     21\u001b[0m     \u001b[0;31m# Delete a fly that is in the superslice but was excluded from all analysis due to not passing quality control\u001b[0m\u001b[0;34m\u001b[0m\u001b[0;34m\u001b[0m\u001b[0m\n\u001b[1;32m     22\u001b[0m     \u001b[0mprint\u001b[0m\u001b[0;34m(\u001b[0m\u001b[0;34mf'Duration: {time.time()-t0}'\u001b[0m\u001b[0;34m)\u001b[0m\u001b[0;34m\u001b[0m\u001b[0m\n",
      "\u001b[0;32m~/.local/lib/python3.6/site-packages/numpy/lib/npyio.py\u001b[0m in \u001b[0;36mload\u001b[0;34m(file, mmap_mode, allow_pickle, fix_imports, encoding)\u001b[0m\n\u001b[1;32m    438\u001b[0m             \u001b[0;32melse\u001b[0m\u001b[0;34m:\u001b[0m\u001b[0;34m\u001b[0m\u001b[0m\n\u001b[1;32m    439\u001b[0m                 return format.read_array(fid, allow_pickle=allow_pickle,\n\u001b[0;32m--> 440\u001b[0;31m                                          pickle_kwargs=pickle_kwargs)\n\u001b[0m\u001b[1;32m    441\u001b[0m         \u001b[0;32melse\u001b[0m\u001b[0;34m:\u001b[0m\u001b[0;34m\u001b[0m\u001b[0m\n\u001b[1;32m    442\u001b[0m             \u001b[0;31m# Try a pickle\u001b[0m\u001b[0;34m\u001b[0m\u001b[0;34m\u001b[0m\u001b[0m\n",
      "\u001b[0;32m~/.local/lib/python3.6/site-packages/numpy/lib/format.py\u001b[0m in \u001b[0;36mread_array\u001b[0;34m(fp, allow_pickle, pickle_kwargs)\u001b[0m\n\u001b[1;32m    739\u001b[0m         \u001b[0;32mif\u001b[0m \u001b[0misfileobj\u001b[0m\u001b[0;34m(\u001b[0m\u001b[0mfp\u001b[0m\u001b[0;34m)\u001b[0m\u001b[0;34m:\u001b[0m\u001b[0;34m\u001b[0m\u001b[0m\n\u001b[1;32m    740\u001b[0m             \u001b[0;31m# We can use the fast fromfile() function.\u001b[0m\u001b[0;34m\u001b[0m\u001b[0;34m\u001b[0m\u001b[0m\n\u001b[0;32m--> 741\u001b[0;31m             \u001b[0marray\u001b[0m \u001b[0;34m=\u001b[0m \u001b[0mnumpy\u001b[0m\u001b[0;34m.\u001b[0m\u001b[0mfromfile\u001b[0m\u001b[0;34m(\u001b[0m\u001b[0mfp\u001b[0m\u001b[0;34m,\u001b[0m \u001b[0mdtype\u001b[0m\u001b[0;34m=\u001b[0m\u001b[0mdtype\u001b[0m\u001b[0;34m,\u001b[0m \u001b[0mcount\u001b[0m\u001b[0;34m=\u001b[0m\u001b[0mcount\u001b[0m\u001b[0;34m)\u001b[0m\u001b[0;34m\u001b[0m\u001b[0m\n\u001b[0m\u001b[1;32m    742\u001b[0m         \u001b[0;32melse\u001b[0m\u001b[0;34m:\u001b[0m\u001b[0;34m\u001b[0m\u001b[0m\n\u001b[1;32m    743\u001b[0m             \u001b[0;31m# This is not a real file. We have to read it the\u001b[0m\u001b[0;34m\u001b[0m\u001b[0;34m\u001b[0m\u001b[0m\n",
      "\u001b[0;31mKeyboardInterrupt\u001b[0m: "
     ]
    }
   ],
   "source": [
    "def create_clusters(brain, n_clusters):\n",
    "    t0 = time.time()\n",
    "    clustering_dir = \"/oak/stanford/groups/trc/data/yandan/2P_Imaging/2023August/aggregated_fly\"\n",
    "    super_to_cluster = brain.reshape(-1, 3384*4)\n",
    "    connectivity = image.grid_to_graph(256,128) ### this is based on image dimensions of a single slice\n",
    "    cluster_model = AgglomerativeClustering(n_clusters=n_clusters,\n",
    "                                    memory=clustering_dir,\n",
    "                                    linkage='ward',\n",
    "                                    connectivity=connectivity)\n",
    "    cluster_model.fit(super_to_cluster)\n",
    "    print('Duration: {}'.format(time.time()-t0))\n",
    "    return cluster_model\n",
    "\n",
    "labels = []\n",
    "### loop over z-slices\n",
    "for z in range(49):\n",
    "    print(z)\n",
    "    t0 = time.time()\n",
    "    brain_file = \"/oak/stanford/groups/trc/data/yandan/2P_Imaging/2023August/aggregated_fly/stack{}.npy\".format(z)\n",
    "    brain = np.array(np.load(brain_file), copy=True)\n",
    "    # Delete a fly that is in the superslice but was excluded from all analysis due to not passing quality control\n",
    "    print(f'Duration: {time.time()-t0}')\n",
    "    # brain = np.delete(brain, fly_idx_delete, axis=-1) #### DELETING FLY_095 ####\n",
    "\n",
    "    n_clusters = 2000 # you have to tell the function how many supervoxels you want. I swept this number.\n",
    "    cluster_model = create_clusters(brain, n_clusters)\n",
    "    labels.append(cluster_model.labels_)\n",
    "    \n",
    "save_file = '/oak/stanford/groups/trc/data/yandan/2P_Imaging/2023August/aggregated_fly/final_9_cluster_labels_2000'\n",
    "np.save(save_file, np.asarray(labels))"
   ]
  }
 ],
 "metadata": {
  "kernelspec": {
   "display_name": "Python 3",
   "language": "python",
   "name": "python3"
  },
  "language_info": {
   "codemirror_mode": {
    "name": "ipython",
    "version": 3
   },
   "file_extension": ".py",
   "mimetype": "text/x-python",
   "name": "python",
   "nbconvert_exporter": "python",
   "pygments_lexer": "ipython3",
   "version": "3.6.1"
  }
 },
 "nbformat": 4,
 "nbformat_minor": 2
}
