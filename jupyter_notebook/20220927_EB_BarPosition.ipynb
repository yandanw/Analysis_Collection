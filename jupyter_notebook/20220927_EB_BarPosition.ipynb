{
 "cells": [
  {
   "cell_type": "code",
   "execution_count": 1,
   "metadata": {},
   "outputs": [
    {
     "name": "stderr",
     "output_type": "stream",
     "text": [
      "/home/users/yandanw/.local/lib/python3.6/site-packages/ants/viz/render_surface_function.py:16: UserWarning:\n",
      "\n",
      "Cant import Plotly. Install it `pip install chart_studio` if you want to use ants.render_surface_function\n",
      "\n"
     ]
    }
   ],
   "source": [
    "import brainsss\n",
    "import os\n",
    "import numpy as np\n",
    "import matplotlib.pyplot as plt\n",
    "%matplotlib inline\n",
    "from sklearn.cluster import AgglomerativeClustering\n",
    "import scipy\n",
    "from scipy.cluster.hierarchy import dendrogram\n",
    "from scipy.cluster.hierarchy import fcluster\n",
    "from scipy.cluster import hierarchy\n",
    "import matplotlib as mpl\n",
    "from matplotlib.pyplot import cm\n",
    "import random\n",
    "from scipy.stats import sem\n",
    "import time\n",
    "import h5py\n",
    "import ants\n",
    "import nibabel as nib\n",
    "import matplotlib\n",
    "from scipy.ndimage import gaussian_filter1d"
   ]
  },
  {
   "cell_type": "code",
   "execution_count": 2,
   "metadata": {
    "collapsed": true
   },
   "outputs": [],
   "source": [
    "func_path = '/oak/stanford/groups/trc/data/Brezovec/2P_Imaging/20190101_walking_dataset/fly_287/func_0/'"
   ]
  },
  {
   "cell_type": "code",
   "execution_count": 3,
   "metadata": {
    "collapsed": true
   },
   "outputs": [],
   "source": [
    "# closed_loop_h5_file = os.path.join(func_path, 'visual', '20220806_114038.h5')\n",
    "# f = h5py.File(closed_loop_h5_file, 'r')\n",
    "# start_thetas = f.attrs['start_theta']"
   ]
  },
  {
   "cell_type": "code",
   "execution_count": 4,
   "metadata": {},
   "outputs": [
    {
     "name": "stdout",
     "output_type": "stream",
     "text": [
      "loading photodiode data... done\n"
     ]
    }
   ],
   "source": [
    "###########################\n",
    "### PREP VISUAL STIMULI ###\n",
    "###########################\n",
    "\n",
    "vision_path = os.path.join(func_path, 'visual')\n",
    "### Load Photodiode ###\n",
    "t, ft_triggers, pd1, pd2 = brainsss.load_photodiode(vision_path)\n",
    "stimulus_start_times = brainsss.extract_stim_times_from_pd(pd2, t)\n",
    "### Unifrom the units and Make then intigers ###\n",
    "stimulus_start_times = (stimulus_start_times*100).astype('int') #index needs to be an integers\n",
    "\n",
    "####################\n",
    "### Prep Fictrac ###\n",
    "####################\n",
    "\n",
    "fictrac_path = os.path.join(func_path, 'fictrac')\n",
    "fictrac_raw = brainsss.load_fictrac(fictrac_path)\n",
    "\n",
    "fps = 100\n",
    "resolution = 10 #desired resolution in ms\n",
    "expt_len = fictrac_raw.shape[0]/fps*1000\n",
    "behaviors = ['dRotLabY', 'dRotLabZ', 'heading']\n",
    "fictrac = {}\n",
    "for behavior in behaviors:\n",
    "    if behavior == 'dRotLabY': short = 'Y'\n",
    "    elif behavior == 'dRotLabZ': short = 'Z'\n",
    "    elif behavior == 'heading': short = 'h'\n",
    "    fictrac[short] = brainsss.smooth_and_interp_fictrac(fictrac_raw, fps, resolution, expt_len, behavior)\n",
    "    #fictrac[short] = np.roll(fictrac[short],400) # <------- misalignment is corrected !!!!!!\n",
    "fictrac_timestamps = np.arange(0,expt_len,resolution)\n",
    "\n",
    "fictrac['h'] = np.rad2deg(fictrac['h'])\n",
    "\n",
    "def extract_traces(fictrac, stim_times, pre_window, post_window, behavior='Z'):\n",
    "    traces = []\n",
    "    for i in range(len(stim_times)):\n",
    "        trace = fictrac[behavior][stim_times[i]-pre_window:stim_times[i]+post_window]\n",
    "        if len(trace) == pre_window + post_window: # this handles fictrac that crashed or was aborted or some bullshit\n",
    "            traces.append(trace)\n",
    "    traces = np.asarray(traces)\n",
    "    mean_trace = np.mean(traces,axis=0)\n",
    "    sem_trace = scipy.stats.sem(traces,axis=0)\n",
    "    return traces, mean_trace, sem_trace"
   ]
  },
  {
   "cell_type": "code",
   "execution_count": 5,
   "metadata": {
    "collapsed": true
   },
   "outputs": [],
   "source": [
    "n_clusters = 2000\n",
    "cluster_dir = os.path.join(func_path, 'clustering')\n",
    "\n",
    "load_file = os.path.join(cluster_dir, 'cluster_labels.npy')\n",
    "cluster_labels = np.load(load_file)\n",
    "\n",
    "load_file = os.path.join(cluster_dir, 'cluster_signals.npy')\n",
    "all_signals = np.load(load_file)"
   ]
  },
  {
   "cell_type": "code",
   "execution_count": 6,
   "metadata": {},
   "outputs": [
    {
     "name": "stdout",
     "output_type": "stream",
     "text": [
      "Trying to load timestamp data from hdf5 file.\n",
      "Success.\n"
     ]
    }
   ],
   "source": [
    "all_signals.shape\n",
    "\n",
    "timestamps = brainsss.load_timestamps(os.path.join(func_path, 'imaging'))\n",
    "\n",
    "fixed = brainsss.load_fda_meanbrain()\n",
    "\n",
    "atlas = brainsss.load_roi_atlas()\n",
    "\n",
    "explosion_rois = brainsss.load_explosion_groups()\n",
    "all_rois = brainsss.unnest_roi_groups(explosion_rois)\n",
    "roi_masks = brainsss.make_single_roi_masks(all_rois, atlas)\n",
    "roi_contours = brainsss.make_single_roi_contours(roi_masks, atlas)\n",
    "\n",
    "def supervoxel_to_full_res(brain, cluster_labels):\n",
    "    n_clusters = brain.shape[1]\n",
    "    \n",
    "    reformed_brain = []\n",
    "    for z in range(49):\n",
    "        colored_by_betas = np.zeros((256*128))\n",
    "        for cluster_num in range(n_clusters):\n",
    "            cluster_indicies = np.where(cluster_labels[z,:]==cluster_num)[0]\n",
    "            colored_by_betas[cluster_indicies] = brain[z,cluster_num]\n",
    "        colored_by_betas = colored_by_betas.reshape(256,128)\n",
    "        reformed_brain.append(colored_by_betas)\n",
    "    return np.asarray(reformed_brain)"
   ]
  },
  {
   "cell_type": "code",
   "execution_count": 8,
   "metadata": {},
   "outputs": [],
   "source": [
    "#heading = fictrac['h']-fictrac['h'][100]\n",
    "heading = fictrac['h']\n",
    "heading = heading%360"
   ]
  },
  {
   "cell_type": "code",
   "execution_count": 9,
   "metadata": {},
   "outputs": [
    {
     "name": "stdout",
     "output_type": "stream",
     "text": [
      "(256, 128, 49, 3384)\n"
     ]
    }
   ],
   "source": [
    "neural_file = os.path.join(func_path, 'functional_channel_2_moco_zscore_highpass.h5') #\n",
    "with h5py.File(neural_file, 'r') as h:\n",
    "    print(h['data'].shape)\n",
    "    neural = h['data'][:]"
   ]
  },
  {
   "cell_type": "code",
   "execution_count": 10,
   "metadata": {
    "collapsed": true
   },
   "outputs": [],
   "source": [
    "from scipy.interpolate import interp1d as interp1d\n",
    "def interpolate_to_neural(slice_num, timestamps):\n",
    "    x = timestamps[:, slice_num]\n",
    "    f = interp1d(fictrac_timestamps, heading, fill_value=\"extrapolate\") \n",
    "    ynew = f(x)\n",
    "    return ynew"
   ]
  },
  {
   "cell_type": "code",
   "execution_count": 11,
   "metadata": {},
   "outputs": [
    {
     "name": "stdout",
     "output_type": "stream",
     "text": [
      "0\n",
      "1\n",
      "2\n",
      "3\n",
      "4\n",
      "5\n",
      "6\n",
      "7\n",
      "8\n",
      "9\n",
      "10\n",
      "11\n",
      "12\n",
      "13\n",
      "14\n",
      "15\n",
      "16\n",
      "17\n",
      "18\n",
      "19\n",
      "20\n",
      "21\n",
      "22\n",
      "23\n",
      "24\n",
      "25\n",
      "26\n",
      "27\n",
      "28\n",
      "29\n",
      "30\n",
      "31\n",
      "32\n",
      "33\n",
      "34\n",
      "35\n",
      "36\n",
      "37\n",
      "38\n",
      "39\n",
      "40\n",
      "41\n",
      "42\n",
      "43\n",
      "44\n",
      "45\n",
      "46\n",
      "47\n",
      "48\n"
     ]
    }
   ],
   "source": [
    "bins = np.arange(-180,181,30)\n",
    "all_slices = []\n",
    "for z in range(49):\n",
    "    print(z)\n",
    "    slice_neural = neural[:,:,z,:]\n",
    "    \n",
    "    heading_interpolated = interpolate_to_neural(z,timestamps)\n",
    "    ### redefine 0\n",
    "    heading_interpolated -= 180\n",
    "    \n",
    "    avg_neural_barposition = []\n",
    "    bin_middle = []\n",
    "    for i in range(len(bins)-1):\n",
    "        start = bins[i]\n",
    "        stop = bins[i+1]\n",
    "        bin_middle.append((start+stop)/2)\n",
    "        ids = np.where(np.logical_and(heading_interpolated>start, heading_interpolated<=stop))[0]\n",
    "        avg_neural_barposition.append(np.mean(slice_neural[:,:,ids],axis=2))\n",
    "    all_slices.append(np.asarray(avg_neural_barposition))\n",
    "all_slices = np.asarray(all_slices)"
   ]
  },
  {
   "cell_type": "code",
   "execution_count": 12,
   "metadata": {
    "collapsed": true
   },
   "outputs": [],
   "source": [
    "warps = brainsss.warp_STA_brain(STA_brain=np.rollaxis(all_slices,3,0), fly='fly_287', fixed=fixed, anat_to_mean_type='myr')"
   ]
  },
  {
   "cell_type": "code",
   "execution_count": 13,
   "metadata": {
    "collapsed": true
   },
   "outputs": [],
   "source": [
    "explosions = []\n",
    "t0 = time.time()\n",
    "for angle in range(12):\n",
    "    input_canvas = np.ones((500,500,3)) #+.5 #.5 for diverging\n",
    "    data_to_plot = warps[angle][:,:,::-1]\n",
    "    vmax = 0.5\n",
    "    explosion_map = brainsss.place_roi_groups_on_canvas(explosion_rois,\n",
    "                                                        roi_masks,\n",
    "                                                        roi_contours,\n",
    "                                                        data_to_plot,\n",
    "                                                        input_canvas,\n",
    "                                                        vmax=vmax,\n",
    "                                                        cmap='seismic',\n",
    "                                                        diverging=True)#'hot')\n",
    "    explosions.append(explosion_map)"
   ]
  },
  {
   "cell_type": "code",
   "execution_count": 4,
   "metadata": {},
   "outputs": [
    {
     "name": "stdout",
     "output_type": "stream",
     "text": [
      "loading photodiode data... done\n"
     ]
    }
   ],
   "source": [
    "# ###########################\n",
    "# ### PREP VISUAL STIMULI ###\n",
    "# ###########################\n",
    "\n",
    "# vision_path = os.path.join(func_path, 'visual')\n",
    "# ### Load Photodiode ###\n",
    "# t, ft_triggers, pd1, pd2 = brainsss.load_photodiode(vision_path)\n",
    "# stimulus_start_times = brainsss.extract_stim_times_from_pd(pd2, t)\n",
    "# ### Unifrom the units and Make then intigers ###\n",
    "# stimulus_start_times = (stimulus_start_times*1000).astype('int') #index needs to be an integers\n",
    "\n",
    "\n",
    "# # thetas = np.unique(start_thetas)\n",
    "# # theta_categories = {}\n",
    "# # for theta in thetas:\n",
    "# #     idx = np.where(start_thetas==theta)[0]\n",
    "# #     theta_categories[theta] = stimulus_start_times[idx]\n",
    "\n",
    "    \n",
    "    \n",
    "    \n",
    "# n_clusters = 2000\n",
    "# cluster_dir = os.path.join(func_path, 'clustering')\n",
    "\n",
    "# load_file = os.path.join(cluster_dir, 'cluster_labels.npy')\n",
    "# cluster_labels = np.load(load_file)\n",
    "\n",
    "# load_file = os.path.join(cluster_dir, 'cluster_signals.npy')\n",
    "# all_signals = np.load(load_file)"
   ]
  },
  {
   "cell_type": "code",
   "execution_count": 14,
   "metadata": {},
   "outputs": [
    {
     "ename": "NameError",
     "evalue": "name 'thetas' is not defined",
     "output_type": "error",
     "traceback": [
      "\u001b[0;31m---------------------------------------------------------------------------\u001b[0m",
      "\u001b[0;31mNameError\u001b[0m                                 Traceback (most recent call last)",
      "\u001b[0;32m<ipython-input-14-4114e1546f9d>\u001b[0m in \u001b[0;36m<module>\u001b[0;34m()\u001b[0m\n\u001b[1;32m     34\u001b[0m \u001b[0mall_warps\u001b[0m \u001b[0;34m=\u001b[0m \u001b[0;34m{\u001b[0m\u001b[0;34m}\u001b[0m\u001b[0;34m\u001b[0m\u001b[0m\n\u001b[1;32m     35\u001b[0m \u001b[0mSTA_brains\u001b[0m \u001b[0;34m=\u001b[0m \u001b[0;34m{\u001b[0m\u001b[0;34m}\u001b[0m\u001b[0;34m\u001b[0m\u001b[0m\n\u001b[0;32m---> 36\u001b[0;31m \u001b[0;32mfor\u001b[0m \u001b[0mtheta\u001b[0m \u001b[0;32min\u001b[0m \u001b[0mthetas\u001b[0m\u001b[0;34m:\u001b[0m\u001b[0;34m\u001b[0m\u001b[0m\n\u001b[0m\u001b[1;32m     37\u001b[0m     \u001b[0mevent_times_list\u001b[0m \u001b[0;34m=\u001b[0m \u001b[0mtheta_categories\u001b[0m\u001b[0;34m[\u001b[0m\u001b[0mtheta\u001b[0m\u001b[0;34m]\u001b[0m\u001b[0;34m\u001b[0m\u001b[0m\n\u001b[1;32m     38\u001b[0m \u001b[0;34m\u001b[0m\u001b[0m\n",
      "\u001b[0;31mNameError\u001b[0m: name 'thetas' is not defined"
     ]
    }
   ],
   "source": [
    "# all_signals.shape\n",
    "\n",
    "# timestamps = brainsss.load_timestamps(os.path.join(func_path, 'imaging'))\n",
    "\n",
    "# fixed = brainsss.load_fda_meanbrain()\n",
    "\n",
    "# atlas = brainsss.load_roi_atlas()\n",
    "\n",
    "# explosion_rois = brainsss.load_explosion_groups()\n",
    "# all_rois = brainsss.unnest_roi_groups(explosion_rois)\n",
    "# roi_masks = brainsss.make_single_roi_masks(all_rois, atlas)\n",
    "# roi_contours = brainsss.make_single_roi_contours(roi_masks, atlas)\n",
    "\n",
    "# def supervoxel_to_full_res(brain, cluster_labels):\n",
    "#     n_clusters = brain.shape[1]\n",
    "    \n",
    "#     reformed_brain = []\n",
    "#     for z in range(49):\n",
    "#         colored_by_betas = np.zeros((256*128))\n",
    "#         for cluster_num in range(n_clusters):\n",
    "#             cluster_indicies = np.where(cluster_labels[z,:]==cluster_num)[0]\n",
    "#             colored_by_betas[cluster_indicies] = brain[z,cluster_num]\n",
    "#         colored_by_betas = colored_by_betas.reshape(256,128)\n",
    "#         reformed_brain.append(colored_by_betas)\n",
    "#     return np.asarray(reformed_brain)\n",
    "\n",
    "# bin_start = -2000; bin_end = 5000; bin_size = 200\n",
    "# neural_bins = np.arange(bin_start,bin_end,bin_size)\n",
    "# baseline_idx = 8 #-400ms\n",
    "\n",
    "# np.where(neural_bins==-400)\n",
    "\n",
    "all_explosions = {}\n",
    "all_warps = {}\n",
    "STA_brains = {}\n",
    "for theta in thetas:\n",
    "    event_times_list = theta_categories[theta]\n",
    "    \n",
    "    t0 = time.time()\n",
    "    STA_brain = brainsss.make_STA_brain(neural_signals = all_signals,\n",
    "                                       neural_timestamps = timestamps,\n",
    "                                       event_times_list = event_times_list,\n",
    "                                       neural_bins = neural_bins)\n",
    "    print(F'STA {time.time()-t0}')\n",
    "\n",
    "    reformed_STA_brain = brainsss.STA_supervoxel_to_full_res(STA_brain, cluster_labels)\n",
    "    STA_brain = gaussian_filter1d(reformed_STA_brain,sigma=1,axis=1,truncate=1)\n",
    "    STA_brains[theta] = STA_brain\n",
    "    STA_brain -= STA_brain[:,baseline_idx,np.newaxis,:,:]\n",
    "    \n",
    "    \n",
    "    t0 = time.time()\n",
    "    warps = brainsss.warp_STA_brain(STA_brain=STA_brain, fly='fly_287', fixed=fixed, anat_to_mean_type='myr')\n",
    "    all_warps[theta] = np.asarray(warps)\n",
    "\n",
    "    print(F'Warps {time.time()-t0}')\n",
    "    \n",
    "    explosions = []\n",
    "    t0 = time.time()\n",
    "    for tp in range(len(neural_bins)-1):\n",
    "        input_canvas = np.ones((500,500,3)) #+.5 #.5 for diverging\n",
    "        data_to_plot = warps[tp][:,:,::-1]\n",
    "        vmax = 0.5\n",
    "        explosion_map = brainsss.place_roi_groups_on_canvas(explosion_rois,\n",
    "                                                            roi_masks,\n",
    "                                                            roi_contours,\n",
    "                                                            data_to_plot,\n",
    "                                                            input_canvas,\n",
    "                                                            vmax=vmax,\n",
    "                                                            cmap='seismic',\n",
    "                                                            diverging=True)#'hot')\n",
    "        explosions.append(explosion_map)\n",
    "    print(F'Explosion {time.time()-t0}')\n",
    "    all_explosions[theta] = explosions"
   ]
  },
  {
   "cell_type": "code",
   "execution_count": 12,
   "metadata": {},
   "outputs": [
    {
     "ename": "NameError",
     "evalue": "name 'neural_bins' is not defined",
     "output_type": "error",
     "traceback": [
      "\u001b[0;31m---------------------------------------------------------------------------\u001b[0m",
      "\u001b[0;31mNameError\u001b[0m                                 Traceback (most recent call last)",
      "\u001b[0;32m<ipython-input-12-817a7f20f6c6>\u001b[0m in \u001b[0;36m<module>\u001b[0;34m()\u001b[0m\n\u001b[1;32m      1\u001b[0m \u001b[0msave_path\u001b[0m \u001b[0;34m=\u001b[0m \u001b[0mos\u001b[0m\u001b[0;34m.\u001b[0m\u001b[0mpath\u001b[0m\u001b[0;34m.\u001b[0m\u001b[0mjoin\u001b[0m\u001b[0;34m(\u001b[0m\u001b[0mfunc_path\u001b[0m\u001b[0;34m,\u001b[0m\u001b[0;34m'figs'\u001b[0m\u001b[0;34m,\u001b[0m\u001b[0;34m'20230413a'\u001b[0m\u001b[0;34m)\u001b[0m\u001b[0;34m\u001b[0m\u001b[0m\n\u001b[1;32m      2\u001b[0m \u001b[0mEB_mask\u001b[0m \u001b[0;34m=\u001b[0m \u001b[0mroi_masks\u001b[0m\u001b[0;34m[\u001b[0m\u001b[0;36m23\u001b[0m\u001b[0;34m]\u001b[0m\u001b[0;34m\u001b[0m\u001b[0m\n\u001b[0;32m----> 3\u001b[0;31m \u001b[0;32mfor\u001b[0m \u001b[0mtp\u001b[0m \u001b[0;32min\u001b[0m \u001b[0mrange\u001b[0m\u001b[0;34m(\u001b[0m\u001b[0mlen\u001b[0m\u001b[0;34m(\u001b[0m\u001b[0mneural_bins\u001b[0m\u001b[0;34m)\u001b[0m\u001b[0;34m-\u001b[0m\u001b[0;36m1\u001b[0m\u001b[0;34m)\u001b[0m\u001b[0;34m:\u001b[0m\u001b[0;34m\u001b[0m\u001b[0m\n\u001b[0m\u001b[1;32m      4\u001b[0m     \u001b[0mplt\u001b[0m\u001b[0;34m.\u001b[0m\u001b[0mfigure\u001b[0m\u001b[0;34m(\u001b[0m\u001b[0mfigsize\u001b[0m\u001b[0;34m=\u001b[0m\u001b[0;34m(\u001b[0m\u001b[0;36m10\u001b[0m\u001b[0;34m,\u001b[0m\u001b[0;36m10\u001b[0m\u001b[0;34m)\u001b[0m\u001b[0;34m)\u001b[0m\u001b[0;34m\u001b[0m\u001b[0m\n\u001b[1;32m      5\u001b[0m     \u001b[0;32mfor\u001b[0m \u001b[0mk\u001b[0m\u001b[0;34m,\u001b[0m\u001b[0mtheta\u001b[0m \u001b[0;32min\u001b[0m \u001b[0menumerate\u001b[0m\u001b[0;34m(\u001b[0m\u001b[0mthetas\u001b[0m\u001b[0;34m)\u001b[0m\u001b[0;34m:\u001b[0m\u001b[0;34m\u001b[0m\u001b[0m\n",
      "\u001b[0;31mNameError\u001b[0m: name 'neural_bins' is not defined"
     ]
    }
   ],
   "source": [
    "save_path = os.path.join(func_path,'figs','20230413a')\n",
    "EB_mask = roi_masks[23]\n",
    "for tp in range(len(neural_bins)-1):\n",
    "    plt.figure(figsize=(10,10))\n",
    "    for k,theta in enumerate(thetas):\n",
    "        plt.subplot(1,5,k+1)\n",
    "        masked_roi = EB_mask*all_warps[theta][tp,:,:,::-1]\n",
    "\n",
    "        ### maximum projection along z-axis\n",
    "        # works for negative values\n",
    "        maxs = np.max(masked_roi,axis=2)\n",
    "        mins = np.min(masked_roi,axis=2)\n",
    "        maxs[np.where(np.abs(mins)>maxs)] = mins[np.where(np.abs(mins)>maxs)]\n",
    "\n",
    "        plt.imshow(maxs.T,cmap='seismic',vmin=-.7,vmax=.7)\n",
    "        plt.xlim(143,170)\n",
    "        plt.ylim(70,43)\n",
    "        plt.title(theta)\n",
    "        plt.axis('off')\n",
    "    plt.text(x=90,y=30,s=f'{neural_bins[tp]}ms',fontsize=14)\n",
    "    save_file = os.path.join(save_path,str(tp).zfill(5))\n",
    "    plt.savefig(save_file,dpi=300,bbox_inches='tight')\n",
    "    plt.clf()\n",
    "    plt.close()"
   ]
  },
  {
   "cell_type": "code",
   "execution_count": 16,
   "metadata": {},
   "outputs": [
    {
     "ename": "NameError",
     "evalue": "name 'thetas' is not defined",
     "output_type": "error",
     "traceback": [
      "\u001b[0;31m---------------------------------------------------------------------------\u001b[0m",
      "\u001b[0;31mNameError\u001b[0m                                 Traceback (most recent call last)",
      "\u001b[0;32m<ipython-input-16-7e4a37f74a14>\u001b[0m in \u001b[0;36m<module>\u001b[0;34m()\u001b[0m\n\u001b[1;32m      2\u001b[0m \u001b[0mtp\u001b[0m\u001b[0;34m=\u001b[0m\u001b[0;36m16\u001b[0m\u001b[0;34m\u001b[0m\u001b[0m\n\u001b[1;32m      3\u001b[0m \u001b[0mvec_thetas\u001b[0m \u001b[0;34m=\u001b[0m \u001b[0;34m[\u001b[0m\u001b[0;34m]\u001b[0m\u001b[0;34m\u001b[0m\u001b[0m\n\u001b[0;32m----> 4\u001b[0;31m \u001b[0;32mfor\u001b[0m \u001b[0mk\u001b[0m\u001b[0;34m,\u001b[0m\u001b[0mtheta\u001b[0m \u001b[0;32min\u001b[0m \u001b[0menumerate\u001b[0m\u001b[0;34m(\u001b[0m\u001b[0mthetas\u001b[0m\u001b[0;34m)\u001b[0m\u001b[0;34m:\u001b[0m\u001b[0;34m\u001b[0m\u001b[0m\n\u001b[0m\u001b[1;32m      5\u001b[0m     \u001b[0mplt\u001b[0m\u001b[0;34m.\u001b[0m\u001b[0msubplot\u001b[0m\u001b[0;34m(\u001b[0m\u001b[0;36m1\u001b[0m\u001b[0;34m,\u001b[0m\u001b[0;36m5\u001b[0m\u001b[0;34m,\u001b[0m\u001b[0mk\u001b[0m\u001b[0;34m+\u001b[0m\u001b[0;36m1\u001b[0m\u001b[0;34m)\u001b[0m\u001b[0;34m\u001b[0m\u001b[0m\n\u001b[1;32m      6\u001b[0m     \u001b[0mmasked_roi\u001b[0m \u001b[0;34m=\u001b[0m \u001b[0mEB_mask\u001b[0m\u001b[0;34m*\u001b[0m\u001b[0mall_warps\u001b[0m\u001b[0;34m[\u001b[0m\u001b[0mtheta\u001b[0m\u001b[0;34m]\u001b[0m\u001b[0;34m[\u001b[0m\u001b[0mtp\u001b[0m\u001b[0;34m,\u001b[0m\u001b[0;34m:\u001b[0m\u001b[0;34m,\u001b[0m\u001b[0;34m:\u001b[0m\u001b[0;34m,\u001b[0m\u001b[0;34m:\u001b[0m\u001b[0;34m:\u001b[0m\u001b[0;34m-\u001b[0m\u001b[0;36m1\u001b[0m\u001b[0;34m]\u001b[0m\u001b[0;34m\u001b[0m\u001b[0m\n",
      "\u001b[0;31mNameError\u001b[0m: name 'thetas' is not defined"
     ]
    },
    {
     "data": {
      "text/plain": [
       "<Figure size 720x720 with 0 Axes>"
      ]
     },
     "metadata": {},
     "output_type": "display_data"
    }
   ],
   "source": [
    "plt.figure(figsize=(10,10))\n",
    "tp=16\n",
    "vec_thetas = []\n",
    "for k,theta in enumerate(thetas):\n",
    "    plt.subplot(1,5,k+1)\n",
    "    masked_roi = EB_mask*all_warps[theta][tp,:,:,::-1]\n",
    "\n",
    "    ### maximum projection along z-axis\n",
    "    # works for negative values\n",
    "    maxs = np.max(masked_roi,axis=2)\n",
    "    mins = np.min(masked_roi,axis=2)\n",
    "    maxs[np.where(np.abs(mins)>maxs)] = mins[np.where(np.abs(mins)>maxs)]\n",
    "    data = maxs[144:171,43:70].T\n",
    "    plt.imshow(data,cmap='seismic',vmin=-1,vmax=1)\n",
    "\n",
    "    full_vector, normalized_vector, vec_theta = calc_avg_vector(data)\n",
    "    plt.arrow(13, 13, normalized_vector['x'], normalized_vector['y'], head_width=2)\n",
    "    \n",
    "#     data = np.clip(data,0,None)\n",
    "#     full_vector, normalized_vector, vec_theta = calc_avg_vector(data)\n",
    "#     plt.arrow(13, 13, normalized_vector['x'], normalized_vector['y'], head_width=3)\n",
    "\n",
    "    #plt.xlim(143,170)\n",
    "    #plt.ylim(70,43)\n",
    "    plt.title(theta)\n",
    "    plt.axis('off')\n",
    "    vec_thetas.append(vec_theta)"
   ]
  },
  {
   "cell_type": "code",
   "execution_count": 220,
   "metadata": {},
   "outputs": [
    {
     "data": {
      "text/plain": [
       "array([-55.10637133, -41.7669819 ,   0.        , -55.36766162,\n",
       "        86.13717374])"
      ]
     },
     "execution_count": 220,
     "metadata": {},
     "output_type": "execute_result"
    }
   ],
   "source": [
    "vec_thetas[2]-vec_thetas"
   ]
  },
  {
   "cell_type": "code",
   "execution_count": 207,
   "metadata": {},
   "outputs": [
    {
     "data": {
      "text/plain": [
       "[164.52341829343953,\n",
       " 151.18402885661635,\n",
       " 109.41704696022953,\n",
       " 164.78470857944944,\n",
       " 23.27987322004422]"
      ]
     },
     "execution_count": 207,
     "metadata": {},
     "output_type": "execute_result"
    }
   ],
   "source": [
    "vec_thetas"
   ]
  },
  {
   "cell_type": "code",
   "execution_count": 213,
   "metadata": {},
   "outputs": [
    {
     "data": {
      "text/plain": [
       "86.1371737401853"
      ]
     },
     "execution_count": 213,
     "metadata": {},
     "output_type": "execute_result"
    }
   ],
   "source": [
    "vec_thetas[2]-vec_thetas[4]"
   ]
  },
  {
   "cell_type": "code",
   "execution_count": 209,
   "metadata": {},
   "outputs": [
    {
     "data": {
      "text/plain": [
       "array([ -13.33938944,  -41.7669819 ,   55.36766162, -141.50483536])"
      ]
     },
     "execution_count": 209,
     "metadata": {},
     "output_type": "execute_result"
    }
   ],
   "source": [
    "np.diff(vec_thetas)"
   ]
  },
  {
   "cell_type": "code",
   "execution_count": 210,
   "metadata": {},
   "outputs": [
    {
     "data": {
      "text/plain": [
       "39"
      ]
     },
     "execution_count": 210,
     "metadata": {},
     "output_type": "execute_result"
    }
   ],
   "source": [
    "180-164+23"
   ]
  },
  {
   "cell_type": "code",
   "execution_count": 8,
   "metadata": {},
   "outputs": [
    {
     "data": {
      "text/plain": [
       "<matplotlib.lines.Line2D at 0x7f07aff9dd68>"
      ]
     },
     "execution_count": 8,
     "metadata": {},
     "output_type": "execute_result"
    },
    {
     "data": {
      "image/png": "[encoded data removed]",
      "text/plain": [
       "<Figure size 432x288 with 1 Axes>"
      ]
     },
     "metadata": {},
     "output_type": "display_data"
    }
   ],
   "source": [
    "plt.imshow(maxs[144:171,43:70].T)\n",
    "plt.axvline(13,color='k')\n",
    "plt.axhline(13,color='k')"
   ]
  },
  {
   "cell_type": "code",
   "execution_count": null,
   "metadata": {
    "collapsed": true
   },
   "outputs": [],
   "source": []
  },
  {
   "cell_type": "code",
   "execution_count": 39,
   "metadata": {},
   "outputs": [
    {
     "data": {
      "text/plain": [
       "(27, 27)"
      ]
     },
     "execution_count": 39,
     "metadata": {},
     "output_type": "execute_result"
    }
   ],
   "source": [
    "maxs[144:171,43:70].T.shape"
   ]
  },
  {
   "cell_type": "code",
   "execution_count": 11,
   "metadata": {},
   "outputs": [
    {
     "data": {
      "text/plain": [
       "<matplotlib.image.AxesImage at 0x7eff954ff2b0>"
      ]
     },
     "execution_count": 11,
     "metadata": {},
     "output_type": "execute_result"
    },
    {
     "data": {
      "image/png": "[encoded data removed]",
      "text/plain": [
       "<Figure size 432x288 with 1 Axes>"
      ]
     },
     "metadata": {},
     "output_type": "display_data"
    }
   ],
   "source": [
    "# NORMALIZE TO (0,0)\n",
    "delta_max = maxs[144:171,43:70] - maxs[144:171,43:70][12][12]\n",
    "plt.imshow(delta_max.T)"
   ]
  },
  {
   "cell_type": "code",
   "execution_count": 43,
   "metadata": {
    "collapsed": true
   },
   "outputs": [],
   "source": [
    "#a"
   ]
  },
  {
   "cell_type": "code",
   "execution_count": 76,
   "metadata": {
    "collapsed": true
   },
   "outputs": [],
   "source": [
    "## create new y-axis \n",
    "a = np.asarray(list(range(-13,14)))\n",
    "a = a[:,np.newaxis]\n",
    "ys = np.repeat(a, 27, axis=1)\n",
    "ys = ys[::-1,:]\n",
    "xs = ys.T[:,::-1]"
   ]
  },
  {
   "cell_type": "code",
   "execution_count": 41,
   "metadata": {},
   "outputs": [
    {
     "data": {
      "text/plain": [
       "(27, 27)"
      ]
     },
     "execution_count": 41,
     "metadata": {},
     "output_type": "execute_result"
    }
   ],
   "source": [
    "ys.shape"
   ]
  },
  {
   "cell_type": "code",
   "execution_count": 134,
   "metadata": {},
   "outputs": [
    {
     "data": {
      "text/plain": [
       "<matplotlib.colorbar.Colorbar at 0x7f07ae22be10>"
      ]
     },
     "execution_count": 134,
     "metadata": {},
     "output_type": "execute_result"
    },
    {
     "data": {
      "image/png": "[encoded data removed]",
      "text/plain": [
       "<Figure size 432x288 with 2 Axes>"
      ]
     },
     "metadata": {},
     "output_type": "display_data"
    }
   ],
   "source": [
    "plt.imshow(ys,cmap='seismic')\n",
    "plt.colorbar()"
   ]
  },
  {
   "cell_type": "code",
   "execution_count": 135,
   "metadata": {},
   "outputs": [
    {
     "data": {
      "text/plain": [
       "<matplotlib.colorbar.Colorbar at 0x7f07ae12de10>"
      ]
     },
     "execution_count": 135,
     "metadata": {},
     "output_type": "execute_result"
    },
    {
     "data": {
      "image/png": "[encoded data removed]",
      "text/plain": [
       "<Figure size 432x288 with 2 Axes>"
      ]
     },
     "metadata": {},
     "output_type": "display_data"
    }
   ],
   "source": [
    "plt.imshow(xs,cmap='seismic')\n",
    "plt.colorbar()"
   ]
  },
  {
   "cell_type": "code",
   "execution_count": 84,
   "metadata": {},
   "outputs": [
    {
     "data": {
      "text/plain": [
       "(27, 27)"
      ]
     },
     "execution_count": 84,
     "metadata": {},
     "output_type": "execute_result"
    }
   ],
   "source": [
    "np.shape (ys**2 + xs**2)"
   ]
  },
  {
   "cell_type": "code",
   "execution_count": 92,
   "metadata": {
    "collapsed": true
   },
   "outputs": [],
   "source": [
    "norm_origin = np.sqrt(ys**2 + xs**2)"
   ]
  },
  {
   "cell_type": "code",
   "execution_count": 93,
   "metadata": {},
   "outputs": [
    {
     "data": {
      "text/plain": [
       "<matplotlib.colorbar.Colorbar at 0x7f07aef1f5c0>"
      ]
     },
     "execution_count": 93,
     "metadata": {},
     "output_type": "execute_result"
    },
    {
     "data": {
      "image/png": "[encoded data removed]",
      "text/plain": [
       "<Figure size 432x288 with 2 Axes>"
      ]
     },
     "metadata": {},
     "output_type": "display_data"
    }
   ],
   "source": [
    "# length array \n",
    "plt.imshow(norm_origin)\n",
    "plt.colorbar()"
   ]
  },
  {
   "cell_type": "code",
   "execution_count": 100,
   "metadata": {},
   "outputs": [
    {
     "name": "stderr",
     "output_type": "stream",
     "text": [
      "/share/software/user/open/py-jupyter/1.0.0_py36/lib/python3.6/site-packages/ipykernel_launcher.py:1: RuntimeWarning:\n",
      "\n",
      "invalid value encountered in true_divide\n",
      "\n"
     ]
    },
    {
     "data": {
      "text/plain": [
       "<matplotlib.image.AxesImage at 0x7f07aecf6be0>"
      ]
     },
     "execution_count": 100,
     "metadata": {},
     "output_type": "execute_result"
    },
    {
     "data": {
      "image/png": "[encoded data removed]",
      "text/plain": [
       "<Figure size 432x288 with 1 Axes>"
      ]
     },
     "metadata": {},
     "output_type": "display_data"
    }
   ],
   "source": [
    "norm_ys = ys/norm_origin\n",
    "#unit vector -- y-axis\n",
    "plt.imshow(norm_ys)"
   ]
  },
  {
   "cell_type": "code",
   "execution_count": 101,
   "metadata": {},
   "outputs": [
    {
     "name": "stderr",
     "output_type": "stream",
     "text": [
      "/share/software/user/open/py-jupyter/1.0.0_py36/lib/python3.6/site-packages/ipykernel_launcher.py:2: RuntimeWarning:\n",
      "\n",
      "invalid value encountered in true_divide\n",
      "\n"
     ]
    },
    {
     "data": {
      "text/plain": [
       "<matplotlib.image.AxesImage at 0x7f07aecd88d0>"
      ]
     },
     "execution_count": 101,
     "metadata": {},
     "output_type": "execute_result"
    },
    {
     "data": {
      "image/png": "[encoded data removed]",
      "text/plain": [
       "<Figure size 432x288 with 1 Axes>"
      ]
     },
     "metadata": {},
     "output_type": "display_data"
    }
   ],
   "source": [
    "#unit vector -- x-axis\n",
    "norm_xs = xs/norm_origin\n",
    "plt.imshow(norm_xs)"
   ]
  },
  {
   "cell_type": "code",
   "execution_count": 126,
   "metadata": {},
   "outputs": [
    {
     "data": {
      "text/plain": [
       "(27, 27)"
      ]
     },
     "execution_count": 126,
     "metadata": {},
     "output_type": "execute_result"
    }
   ],
   "source": [
    "maxs[144:171,43:70].T.shape"
   ]
  },
  {
   "cell_type": "code",
   "execution_count": 15,
   "metadata": {
    "collapsed": true
   },
   "outputs": [],
   "source": [
    "def calc_avg_vector(data):\n",
    "    #x_width = data.shape[0]\n",
    "    #y_width = data.shape[1]\n",
    "    width = 27\n",
    "    \n",
    "    ### create x and y position matricies\n",
    "    a = np.asarray(list(range(-13,14)))\n",
    "    a = a[:,np.newaxis]\n",
    "    ys = np.repeat(a, width, axis=1)\n",
    "    ys = ys[::-1,:]\n",
    "    xs = ys.T[:,::-1]\n",
    "    \n",
    "    ### get length (from middle 0,0) of each voxel\n",
    "    norm_origin = np.sqrt(ys**2 + xs**2)\n",
    "    \n",
    "    ### get unit vectors\n",
    "    norm_xs = np.nan_to_num(xs/norm_origin)\n",
    "    norm_ys = np.nan_to_num(ys/norm_origin)\n",
    "    \n",
    "    ### weight by neural data\n",
    "    xs_contri = norm_xs * data\n",
    "    ys_contri = norm_ys * data\n",
    "    \n",
    "    ### sum all vectors\n",
    "    vector_x = np.sum(xs_contri)\n",
    "    vector_y = np.sum(ys_contri)\n",
    "    \n",
    "    ### not sure why but some axis flipping and rotating is necessary\n",
    "    theta = np.deg2rad(-90)\n",
    "    rot = np.array([[cos(theta), -sin(theta)], [sin(theta), cos(theta)]])\n",
    "    true_x = np.dot(rot,[vector_y,vector_x])[0]\n",
    "    true_y = np.dot(rot,[vector_y,vector_x])[1]\n",
    "    full_vector = {'x':true_x,'y':true_y}\n",
    "    \n",
    "    # also return the vector normalized to some length\n",
    "    desired_length = 10\n",
    "    length = (true_x**2+true_y**2)**.5\n",
    "    norm_x = true_x / length * desired_length\n",
    "    norm_y = true_y / length * desired_length\n",
    "    \n",
    "    normalized_vector = {'x':norm_x, 'y':norm_y}\n",
    "    \n",
    "    theta_cos = -normalized_vector['x']/ ((normalized_vector['x']**2+normalized_vector['y']**2)**.5)\n",
    "    vec_theta = np.rad2deg(np.arccos(theta_cos))\n",
    "    \n",
    "    return full_vector, normalized_vector, vec_theta"
   ]
  },
  {
   "cell_type": "code",
   "execution_count": 171,
   "metadata": {},
   "outputs": [
    {
     "name": "stderr",
     "output_type": "stream",
     "text": [
      "/share/software/user/open/py-jupyter/1.0.0_py36/lib/python3.6/site-packages/ipykernel_launcher.py:17: RuntimeWarning:\n",
      "\n",
      "invalid value encountered in true_divide\n",
      "\n",
      "/share/software/user/open/py-jupyter/1.0.0_py36/lib/python3.6/site-packages/ipykernel_launcher.py:18: RuntimeWarning:\n",
      "\n",
      "invalid value encountered in true_divide\n",
      "\n"
     ]
    }
   ],
   "source": [
    "vector_x, vector_y = calc_avg_vector(fake_data)"
   ]
  },
  {
   "cell_type": "code",
   "execution_count": 178,
   "metadata": {},
   "outputs": [
    {
     "data": {
      "text/plain": [
       "<matplotlib.patches.FancyArrow at 0x7f07ad48f2e8>"
      ]
     },
     "execution_count": 178,
     "metadata": {},
     "output_type": "execute_result"
    },
    {
     "data": {
      "image/png": "[encoded data removed]",
      "text/plain": [
       "<Figure size 432x288 with 1 Axes>"
      ]
     },
     "metadata": {},
     "output_type": "display_data"
    }
   ],
   "source": [
    "fake_data = np.zeros((27,27))\n",
    "fake_data[10,20] = 1\n",
    "plt.imshow(fake_data)\n",
    "plt.arrow(13, 13, vector_x, vector_y, head_width=2)\n",
    "\n",
    "#plt.axvline(13,color='w')\n",
    "#plt.axhline(13,color='w')"
   ]
  },
  {
   "cell_type": "code",
   "execution_count": 183,
   "metadata": {},
   "outputs": [
    {
     "name": "stderr",
     "output_type": "stream",
     "text": [
      "/share/software/user/open/py-jupyter/1.0.0_py36/lib/python3.6/site-packages/ipykernel_launcher.py:17: RuntimeWarning:\n",
      "\n",
      "invalid value encountered in true_divide\n",
      "\n",
      "/share/software/user/open/py-jupyter/1.0.0_py36/lib/python3.6/site-packages/ipykernel_launcher.py:18: RuntimeWarning:\n",
      "\n",
      "invalid value encountered in true_divide\n",
      "\n"
     ]
    }
   ],
   "source": [
    "full_vector, normalized_vector = calc_avg_vector(maxs[144:171,43:70].T)"
   ]
  },
  {
   "cell_type": "code",
   "execution_count": 185,
   "metadata": {},
   "outputs": [
    {
     "data": {
      "text/plain": [
       "<matplotlib.colorbar.Colorbar at 0x7f07ad19e4a8>"
      ]
     },
     "execution_count": 185,
     "metadata": {},
     "output_type": "execute_result"
    },
    {
     "data": {
      "image/png": "[encoded data removed]",
      "text/plain": [
       "<Figure size 432x288 with 2 Axes>"
      ]
     },
     "metadata": {},
     "output_type": "display_data"
    }
   ],
   "source": [
    "plt.imshow(maxs[144:171,43:70].T)\n",
    "plt.arrow(13, 13, normalized_vector['x'], normalized_vector['y'], head_width=2)\n",
    "plt.colorbar()"
   ]
  },
  {
   "cell_type": "code",
   "execution_count": 191,
   "metadata": {},
   "outputs": [
    {
     "data": {
      "text/plain": [
       "(-9.185852713353272, -3.9522284762625146)"
      ]
     },
     "execution_count": 191,
     "metadata": {},
     "output_type": "execute_result"
    }
   ],
   "source": [
    "### calculate the theta of the vector\n",
    "normalized_vector['x'], normalized_vector['y']"
   ]
  },
  {
   "cell_type": "code",
   "execution_count": 193,
   "metadata": {},
   "outputs": [
    {
     "data": {
      "text/plain": [
       "10.0"
      ]
     },
     "execution_count": 193,
     "metadata": {},
     "output_type": "execute_result"
    }
   ],
   "source": [
    "(normalized_vector['x']**2+normalized_vector['y']**2)**.5"
   ]
  },
  {
   "cell_type": "code",
   "execution_count": 195,
   "metadata": {},
   "outputs": [
    {
     "data": {
      "text/plain": [
       "23.27987322004422"
      ]
     },
     "execution_count": 195,
     "metadata": {},
     "output_type": "execute_result"
    }
   ],
   "source": [
    "theta_cos = -normalized_vector['x']/ ((normalized_vector['x']**2+normalized_vector['y']**2)**.5)\n",
    "np.rad2deg(np.arccos(theta_cos))"
   ]
  },
  {
   "cell_type": "code",
   "execution_count": 123,
   "metadata": {
    "collapsed": true
   },
   "outputs": [],
   "source": [
    "sum_xs_contri = np.sum(xs_contri)"
   ]
  },
  {
   "cell_type": "code",
   "execution_count": null,
   "metadata": {
    "collapsed": true
   },
   "outputs": [],
   "source": []
  },
  {
   "cell_type": "code",
   "execution_count": 112,
   "metadata": {
    "collapsed": true
   },
   "outputs": [],
   "source": [
    "xs_contri = np.nan_to_num(norm_xs) * maxs[144:171,43:70].T\n"
   ]
  },
  {
   "cell_type": "code",
   "execution_count": 115,
   "metadata": {
    "collapsed": true
   },
   "outputs": [],
   "source": [
    "ys_contri = np.nan_to_num(norm_ys) * maxs[144:171,43:70].T"
   ]
  },
  {
   "cell_type": "code",
   "execution_count": 124,
   "metadata": {
    "collapsed": true
   },
   "outputs": [],
   "source": [
    "sum_ys_contri = np.sum(ys_contri)"
   ]
  },
  {
   "cell_type": "code",
   "execution_count": 107,
   "metadata": {},
   "outputs": [
    {
     "data": {
      "text/plain": [
       "<matplotlib.colorbar.Colorbar at 0x7f07af281860>"
      ]
     },
     "execution_count": 107,
     "metadata": {},
     "output_type": "execute_result"
    },
    {
     "data": {
      "image/png": "[encoded data removed]",
      "text/plain": [
       "<Figure size 432x288 with 2 Axes>"
      ]
     },
     "metadata": {},
     "output_type": "display_data"
    }
   ],
   "source": [
    "xs_contri = norm_xs * maxs[144:171,43:70].T\n",
    "plt.imshow(xs_contri)\n",
    "plt.colorbar()"
   ]
  },
  {
   "cell_type": "code",
   "execution_count": 108,
   "metadata": {},
   "outputs": [
    {
     "data": {
      "text/plain": [
       "<matplotlib.image.AxesImage at 0x7f07af03fa20>"
      ]
     },
     "execution_count": 108,
     "metadata": {},
     "output_type": "execute_result"
    },
    {
     "data": {
      "image/png": "[encoded data removed]",
      "text/plain": [
       "<Figure size 432x288 with 1 Axes>"
      ]
     },
     "metadata": {},
     "output_type": "display_data"
    }
   ],
   "source": [
    "ys_contri = norm_ys * maxs[144:171,43:70].T\n",
    "plt.imshow(ys_contri)"
   ]
  },
  {
   "cell_type": "code",
   "execution_count": 50,
   "metadata": {},
   "outputs": [
    {
     "data": {
      "text/plain": [
       "<matplotlib.colorbar.Colorbar at 0x7f07c60b3e10>"
      ]
     },
     "execution_count": 50,
     "metadata": {},
     "output_type": "execute_result"
    },
    {
     "data": {
      "image/png": "[encoded data removed]",
      "text/plain": [
       "<Figure size 432x288 with 2 Axes>"
      ]
     },
     "metadata": {},
     "output_type": "display_data"
    }
   ],
   "source": [
    "# create x-axis\n",
    "b = np.asarray(list(range(-13,14)))\n",
    "b = b[:,np.newaxis]\n",
    "xs = np.repeat(b, 27, axis = 1)\n",
    "xs = xs[::-1,:]\n",
    "plt.imshow(ys,cmap='seismic')\n",
    "plt.colorbar()"
   ]
  },
  {
   "cell_type": "code",
   "execution_count": null,
   "metadata": {
    "collapsed": true
   },
   "outputs": [],
   "source": []
  },
  {
   "cell_type": "code",
   "execution_count": 57,
   "metadata": {
    "collapsed": true
   },
   "outputs": [],
   "source": [
    "import math"
   ]
  },
  {
   "cell_type": "code",
   "execution_count": 68,
   "metadata": {},
   "outputs": [
    {
     "data": {
      "text/plain": [
       "18.384776310850235"
      ]
     },
     "execution_count": 68,
     "metadata": {},
     "output_type": "execute_result"
    }
   ],
   "source": [
    "math.sqrt(xs[0][0]**2 *2)"
   ]
  },
  {
   "cell_type": "code",
   "execution_count": 72,
   "metadata": {},
   "outputs": [
    {
     "data": {
      "text/plain": [
       "(27, 27)"
      ]
     },
     "execution_count": 72,
     "metadata": {},
     "output_type": "execute_result"
    }
   ],
   "source": [
    "xs.shape"
   ]
  },
  {
   "cell_type": "code",
   "execution_count": 66,
   "metadata": {},
   "outputs": [
    {
     "data": {
      "text/plain": [
       "18.384776310850235"
      ]
     },
     "execution_count": 66,
     "metadata": {},
     "output_type": "execute_result"
    }
   ],
   "source": [
    "# calculate the length array of xs\n",
    "for i,j in xs and ys:\n",
    "    \n",
    "c = math.sqrt((xs[0][0])**2 + (ys[0][0])**2)\n"
   ]
  },
  {
   "cell_type": "code",
   "execution_count": 70,
   "metadata": {},
   "outputs": [
    {
     "data": {
      "text/plain": [
       "array([0.70710678, 0.70710678, 0.70710678, 0.70710678, 0.70710678,\n",
       "       0.70710678, 0.70710678, 0.70710678, 0.70710678, 0.70710678,\n",
       "       0.70710678, 0.70710678, 0.70710678, 0.70710678, 0.70710678,\n",
       "       0.70710678, 0.70710678, 0.70710678, 0.70710678, 0.70710678,\n",
       "       0.70710678, 0.70710678, 0.70710678, 0.70710678, 0.70710678,\n",
       "       0.70710678, 0.70710678])"
      ]
     },
     "execution_count": 70,
     "metadata": {},
     "output_type": "execute_result"
    }
   ],
   "source": [
    "xs[0]/c"
   ]
  },
  {
   "cell_type": "code",
   "execution_count": null,
   "metadata": {
    "collapsed": true
   },
   "outputs": [],
   "source": []
  }
 ],
 "metadata": {
  "kernelspec": {
   "display_name": "Python 3",
   "language": "python",
   "name": "python3"
  },
  "language_info": {
   "codemirror_mode": {
    "name": "ipython",
    "version": 3
   },
   "file_extension": ".py",
   "mimetype": "text/x-python",
   "name": "python",
   "nbconvert_exporter": "python",
   "pygments_lexer": "ipython3",
   "version": "3.6.1"
  }
 },
 "nbformat": 4,
 "nbformat_minor": 2
}
