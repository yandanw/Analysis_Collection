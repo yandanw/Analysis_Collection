{
 "cells": [
  {
   "cell_type": "code",
   "execution_count": 2,
   "metadata": {},
   "outputs": [],
   "source": [
    "import brainsss\n",
    "import os\n",
    "import numpy as np\n",
    "import matplotlib.pyplot as plt\n",
    "%matplotlib inline\n",
    "from sklearn.cluster import AgglomerativeClustering\n",
    "import scipy\n",
    "from scipy.cluster.hierarchy import dendrogram\n",
    "from scipy.cluster.hierarchy import fcluster\n",
    "from scipy.cluster import hierarchy\n",
    "import matplotlib as mpl\n",
    "from matplotlib.pyplot import cm\n",
    "import random\n",
    "from scipy.stats import sem\n",
    "import time\n",
    "import h5py\n",
    "import ants\n",
    "import nibabel as nib\n",
    "\n",
    "import matplotlib\n",
    "from scipy.ndimage import gaussian_filter1d\n",
    "from scipy.interpolate import interp1d as interp1d"
   ]
  },
  {
   "cell_type": "code",
   "execution_count": 3,
   "metadata": {
    "collapsed": true
   },
   "outputs": [],
   "source": [
    "from scipy.interpolate import interp1d as interp1d"
   ]
  },
  {
   "cell_type": "code",
   "execution_count": 4,
   "metadata": {
    "collapsed": true
   },
   "outputs": [],
   "source": [
    "func_path_299 = '/oak/stanford/groups/trc/data/Brezovec/2P_Imaging/20190101_walking_dataset/fly_299/func_0/'"
   ]
  },
  {
   "cell_type": "code",
   "execution_count": 3,
   "metadata": {
    "collapsed": true
   },
   "outputs": [],
   "source": [
    "func_path_308 = '/oak/stanford/groups/trc/data/Brezovec/2P_Imaging/20190101_walking_dataset/fly_308/func_0/'"
   ]
  },
  {
   "cell_type": "code",
   "execution_count": 5,
   "metadata": {
    "collapsed": true
   },
   "outputs": [],
   "source": [
    "func_path_309 = '/oak/stanford/groups/trc/data/Brezovec/2P_Imaging/20190101_walking_dataset/fly_309/func_0/'"
   ]
  },
  {
   "cell_type": "code",
   "execution_count": 6,
   "metadata": {
    "collapsed": true
   },
   "outputs": [],
   "source": [
    "func_path_311 = '/oak/stanford/groups/trc/data/Brezovec/2P_Imaging/20190101_walking_dataset/fly_311/func_0/'"
   ]
  },
  {
   "cell_type": "code",
   "execution_count": null,
   "metadata": {
    "collapsed": true
   },
   "outputs": [],
   "source": [
    "\"oak/stanford/groups/trc/data/Brezovec/2P_Imaging/20190101_walking_dataset/fly_311/warp\""
   ]
  },
  {
   "cell_type": "code",
   "execution_count": 11,
   "metadata": {},
   "outputs": [
    {
     "name": "stdout",
     "output_type": "stream",
     "text": [
      "(256, 128, 49, 3384)\n"
     ]
    }
   ],
   "source": [
    "#######################\n",
    "### Load Neural Data###\n",
    "#######################\n",
    "neural_file_299 = os.path.join(func_path_299, 'functional_channel_2_moco_zscore_highpass.h5') #\n",
    "with h5py.File(neural_file_299, 'r') as h:\n",
    "    print(h['data'].shape)\n",
    "    neural = h['data'][:]"
   ]
  },
  {
   "cell_type": "code",
   "execution_count": null,
   "metadata": {},
   "outputs": [
    {
     "name": "stdout",
     "output_type": "stream",
     "text": [
      "(256, 128, 49, 3384)\n"
     ]
    }
   ],
   "source": [
    "#######################\n",
    "### Load Neural Data###\n",
    "#######################\n",
    "neural_file_308 = os.path.join(func_path_308, 'functional_channel_2_moco_zscore_highpass.h5') #\n",
    "with h5py.File(neural_file_308, 'r') as h:\n",
    "    print(h['data'].shape)\n",
    "    neural = h['data'][:]"
   ]
  },
  {
   "cell_type": "code",
   "execution_count": null,
   "metadata": {
    "collapsed": true
   },
   "outputs": [],
   "source": [
    "#######################\n",
    "### Load Neural Data###\n",
    "#######################\n",
    "neural_file_309 = os.path.join(func_path_309, 'functional_channel_2_moco_zscore_highpass.h5') #\n",
    "with h5py.File(neural_file_309, 'r') as h:\n",
    "    print(h['data'].shape)\n",
    "    neural = h['data'][:]"
   ]
  },
  {
   "cell_type": "code",
   "execution_count": null,
   "metadata": {
    "collapsed": true
   },
   "outputs": [],
   "source": []
  },
  {
   "cell_type": "code",
   "execution_count": null,
   "metadata": {
    "collapsed": true
   },
   "outputs": [],
   "source": []
  },
  {
   "cell_type": "code",
   "execution_count": null,
   "metadata": {
    "collapsed": true
   },
   "outputs": [],
   "source": []
  },
  {
   "cell_type": "code",
   "execution_count": null,
   "metadata": {
    "collapsed": true
   },
   "outputs": [],
   "source": []
  },
  {
   "cell_type": "code",
   "execution_count": null,
   "metadata": {
    "collapsed": true
   },
   "outputs": [],
   "source": [
    "# make list of paths (called fly_files)\n",
    "fly_files = [func_path_299,func_path_308, func_path_309, func_path_311]"
   ]
  },
  {
   "cell_type": "code",
   "execution_count": null,
   "metadata": {
    "collapsed": true
   },
   "outputs": [],
   "source": [
    "#######################\n",
    "### Load Neural Data###\n",
    "#######################\n",
    "\n",
    "for z in range(49):\n",
    "    for file in fly_files:\n",
    "        single_z = []\n",
    "        #neural_file_299 = os.path.join(func_path_299, 'functional_channel_2_moco_zscore_highpass.h5') #\n",
    "        with h5py.File(file, 'r') as h:\n",
    "            print(h['data'].shape)\n",
    "            neural_one_z = h['data'][:,:,z,:]\n",
    "        single_z.append(neural_one_z)\n",
    "    single_z = np.asarray(single_z)\n",
    "    #save \"single_z #save as numpy array\n",
    "    #shape (5,x,y,t)\n",
    "        \n",
    "#GOAL: ONE DIRECTORY THAT CONTAINS 49 FILES (.NPY), (5,256,128,3384)"
   ]
  },
  {
   "cell_type": "code",
   "execution_count": 6,
   "metadata": {},
   "outputs": [],
   "source": [
    "import numpy as np\n",
    "import os\n",
    "import sys\n",
    "import psutil\n",
    "import nibabel as nib\n",
    "from time import time\n",
    "import json\n",
    "import matplotlib.pyplot as plt\n",
    "from contextlib import contextmanager\n",
    "import warnings\n",
    "warnings.filterwarnings(\"ignore\")\n",
    "\n",
    "from shutil import copyfile\n",
    "import platform\n",
    "if platform.system() != 'Windows':\n",
    "    sys.path.insert(0, '/home/users/brezovec/.local/lib/python3.6/site-packages/lib/python/')\n",
    "    import ants"
   ]
  },
  {
   "cell_type": "code",
   "execution_count": null,
   "metadata": {
    "collapsed": true
   },
   "outputs": [],
   "source": []
  },
  {
   "cell_type": "code",
   "execution_count": null,
   "metadata": {},
   "outputs": [],
   "source": [
    "save_directory = \"oak/stanford/groups/trc/data/Brezovec/2P_Imaging/20190101_walking_dataset/fly_311/analysis\" #WHERE TO SAVE\n",
    "warp_directory = \"oak/stanford/groups/trc/data/Brezovec/2P_Imaging/20190101_walking_dataset/fly_311/warp\" #LOCATION OF WARP FILES\n",
    "\n",
    "fixed_path = \"/oak/stanford/groups/trc/data/Brezovec/2P_Imaging/anat_templates/20220301_luke_2_jfrc_affine_zflip.nii\"\n",
    "fixed_fly = \"meanbrain\"\n",
    "fixed_resolution = (0.653,0.653,1)\n",
    "\n",
    "moving_path = '/oak/stanford/groups/trc/data/Brezovec/2P_Imaging/20190101_walking_dataset/fly_311/func_0'\n",
    "moving_fly = '/oak/stanford/groups/trc/data/Brezovec/2P_Imaging/20190101_walking_dataset/fly_311'\n",
    "moving_resolution = (2.6,2.6,5)\n",
    "\n",
    "\n",
    "###################\n",
    "### Load Brains ###\n",
    "###################\n",
    "fixed = np.asarray(nib.load(fixed_path).get_data().squeeze(), dtype='float32')\n",
    "fixed = ants.from_numpy(fixed)\n",
    "fixed.set_spacing(fixed_resolution)\n",
    "fixed = ants.resample_image(fixed,(256,128,49),1,0)\n",
    "\n",
    "#moving = np.asarray(nib.load(moving_path).get_data().squeeze(), dtype='float32')\n",
    "neural_file = os.path.join(moving_path, 'functional_channel_2_moco_zscore_highpass.h5') #\n",
    "with h5py.File(neural_file, 'r') as h:\n",
    "    print(h['data'].shape)\n",
    "    neural = h['data'][:]\n",
    "moving = ants.from_numpy(neural)\n",
    "moving.set_spacing(moving_resolution)"
   ]
  },
  {
   "cell_type": "code",
   "execution_count": 13,
   "metadata": {
    "collapsed": true
   },
   "outputs": [],
   "source": [
    "save_directory = \"oak/stanford/groups/trc/data/Brezovec/2P_Imaging/20190101_walking_dataset/fly_311/analysis\" #WHERE TO SAVE\n",
    "warp_directory = \"oak/stanford/groups/trc/data/Brezovec/2P_Imaging/20190101_walking_dataset/fly_311/warp\" #LOCATION OF WARP FILES\n",
    "\n",
    "fixed_path = \"/oak/stanford/groups/trc/data/Brezovec/2P_Imaging/anat_templates/20220301_luke_2_jfrc_affine_zflip.nii\"\n",
    "fixed_fly = \"meanbrain\"\n",
    "fixed_resolution = (0.653,0.653,1)\n",
    "\n",
    "moving_path = '/oak/stanford/groups/trc/data/Brezovec/2P_Imaging/20190101_walking_dataset/fly_311/func_0'\n",
    "moving_fly = '/oak/stanford/groups/trc/data/Brezovec/2P_Imaging/20190101_walking_dataset/fly_311'\n",
    "moving_resolution = (2.6,2.6,5)\n",
    "\n"
   ]
  },
  {
   "cell_type": "code",
   "execution_count": 14,
   "metadata": {},
   "outputs": [
    {
     "ename": "SyntaxError",
     "evalue": "unexpected EOF while parsing (<ipython-input-14-a30412d49baf>, line 15)",
     "output_type": "error",
     "traceback": [
      "\u001b[0;36m  File \u001b[0;32m\"<ipython-input-14-a30412d49baf>\"\u001b[0;36m, line \u001b[0;32m15\u001b[0m\n\u001b[0;31m    moving.set_spacing(moving_resolution\u001b[0m\n\u001b[0m                                        ^\u001b[0m\n\u001b[0;31mSyntaxError\u001b[0m\u001b[0;31m:\u001b[0m unexpected EOF while parsing\n"
     ]
    }
   ],
   "source": [
    "###################\n",
    "### Load Brains ###\n",
    "###################\n",
    "fixed = np.asarray(nib.load(fixed_path).get_data().squeeze(), dtype='float32')\n",
    "fixed = ants.from_numpy(fixed)\n",
    "fixed.set_spacing(fixed_resolution)\n",
    "fixed = ants.resample_image(fixed,(256,128,49),1,0)\n",
    "\n",
    "#moving = np.asarray(nib.load(moving_path).get_data().squeeze(), dtype='float32')\n",
    "neural_file = os.path.join(moving_path, 'functional_channel_2_moco_zscore_highpass.h5') #\n",
    "with h5py.File(neural_file, 'r') as h:\n",
    "    print(h['data'].shape)\n",
    "    neural = h['data'][:]\n",
    "moving = ants.from_numpy(neural)\n",
    "moving.set_spacing(moving_resolution"
   ]
  },
  {
   "cell_type": "code",
   "execution_count": 7,
   "metadata": {
    "collapsed": true
   },
   "outputs": [],
   "source": [
    "def main(args):\n",
    "\n",
    "\n",
    "\n",
    "\n",
    "\n",
    "    ###########################\n",
    "    ### Organize Transforms ###\n",
    "    ###########################\n",
    "    affine_file = os.listdir(os.path.join(warp_directory, 'func-to-anat_fwdtransforms_lowres'))[0]\n",
    "    affine_path = os.path.join(warp_directory, 'func-to-anat_fwdtransforms_lowres', affine_file)\n",
    "\n",
    "    syn_files = os.listdir(os.path.join(warp_directory, 'anat-to-meanbrain_fwdtransforms_lowres'))\n",
    "    syn_linear_path = os.path.join(warp_directory, 'anat-to-meanbrain_fwdtransforms_lowres', [x for x in syn_files if '.mat' in x][0])\n",
    "    syn_nonlinear_path = os.path.join(warp_directory, 'anat-to-meanbrain_fwdtransforms_lowres', [x for x in syn_files if '.nii.gz' in x][0])\n",
    "\n",
    "    transforms = [affine_path, syn_linear_path, syn_nonlinear_path]\n",
    "\n",
    "    ########################\n",
    "    ### Apply Transforms ###\n",
    "    ########################\n",
    "    moco = ants.apply_transforms(fixed, moving, transforms, imagetype=3)\n",
    "\n",
    "    ############\n",
    "    ### Save ###\n",
    "    ############\n",
    "    save_file = os.path.join(save_directory, 'functional_channel_2_moco_zscore_highpass_warped.nii')#<---------------------------------------\n",
    "    nib.Nifti1Image(moco.numpy(), np.eye(4)).to_filename(save_file)"
   ]
  },
  {
   "cell_type": "code",
   "execution_count": null,
   "metadata": {
    "collapsed": true
   },
   "outputs": [],
   "source": []
  }
 ],
 "metadata": {
  "kernelspec": {
   "display_name": "Python 3",
   "language": "python",
   "name": "python3"
  },
  "language_info": {
   "codemirror_mode": {
    "name": "ipython",
    "version": 3
   },
   "file_extension": ".py",
   "mimetype": "text/x-python",
   "name": "python",
   "nbconvert_exporter": "python",
   "pygments_lexer": "ipython3",
   "version": "3.6.1"
  }
 },
 "nbformat": 4,
 "nbformat_minor": 2
}
