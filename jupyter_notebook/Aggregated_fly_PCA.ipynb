{
 "cells": [
  {
   "cell_type": "code",
   "execution_count": 1,
   "metadata": {
    "collapsed": true
   },
   "outputs": [],
   "source": [
    "#######################\n",
    "### Import Packages ###\n",
    "#######################\n",
    "\n",
    "import sys\n",
    "import numpy as np\n",
    "import json\n",
    "import time\n",
    "import dataflow as flow\n",
    "import pickle\n",
    "from sklearn.decomposition import PCA\n",
    "from sklearn.decomposition import IncrementalPCA\n"
   ]
  },
  {
   "cell_type": "code",
   "execution_count": null,
   "metadata": {
    "collapsed": true
   },
   "outputs": [],
   "source": [
    "### (4,x,y,z,t), where z = n\n",
    "### (4,2000,49,3384)\n",
    "### CONCATENATE\n",
    "### (2000,49,3384*4)\n",
    "### (2000*49,3384*4)\n"
   ]
  },
  {
   "cell_type": "code",
   "execution_count": null,
   "metadata": {
    "collapsed": true
   },
   "outputs": [],
   "source": [
    "func_path = '/oak/stanford/groups/trc/data/Brezovec/2P_Imaging/20190101_walking_dataset/fly_311/func_0/'"
   ]
  },
  {
   "cell_type": "code",
   "execution_count": null,
   "metadata": {
    "collapsed": true
   },
   "outputs": [],
   "source": [
    "neural_file = os.path.join(func_path, 'functional_channel_2_moco_highpass.h5')"
   ]
  },
  {
   "cell_type": "code",
   "execution_count": null,
   "metadata": {
    "collapsed": true
   },
   "outputs": [],
   "source": [
    "#####################\n",
    "### Main Function ###\n",
    "#####################\n",
    "\n",
    "def main(args):\n",
    "\n",
    "    ### parse input dictionary\n",
    "    logfile = args['logfile']\n",
    "    fly_idx = args['fly_idx']\n",
    "    printlog = getattr(flow.Printlog(logfile=logfile), 'print_to_log')\n",
    "\n",
    "    printlog('numpy: ' + str(np.__version__))\n",
    "\n",
    "\n",
    "    load_file = '/oak/stanford/groups/trc/data/Brezovec/2P_Imaging/20210130_superv_depth_correction/super_brain.pickle'\n",
    "    with open(load_file, 'rb') as handle:\n",
    "        temp_brain = pickle.load(handle)\n",
    "    #brain is a dict of z, each containing a variable number of supervoxels\n",
    "    #one dict element looks like: (n_clusters, 3384, 9)\n",
    "    X = np.zeros((0,3384,4))\n",
    "    #for z in range(49):\n",
    "    for z in range(4,49-4):\n",
    "        X = np.concatenate((X,temp_brain[z]),axis=0)\n",
    "\n",
    "    printlog(str(X.shape))\n",
    "    X = np.swapaxes(X,1,2)\n",
    "    X = np.reshape(X,(-1, 30456))\n",
    "    X = X.T\n",
    "\n",
    "    printlog('X is time by voxels {}'.format(X.shape))\n",
    "    num_tp = 3384\n",
    "    start = fly_idx*num_tp\n",
    "    stop = (fly_idx+1)*num_tp\n",
    "    X = X[start:stop,:] ### grab neural data for the right fly. \n",
    "    printlog(F'fly_idx: {fly_idx}, start: {start}, stop: {stop}')\n",
    "    printlog('After fly_idx, X is time by voxels {}'.format(X.shape))\n",
    "\n",
    "    printlog('Using np.linalg.ein')\n",
    "    covariance_matrix = np.cov(X.T)\n",
    "    eigen_values, eigen_vectors = np.linalg.eig(covariance_matrix)\n",
    "\n",
    "    printlog('eigen_values is {}'.format(eigen_values.shape))\n",
    "    save_file = F'/oak/stanford/groups/trc/data/Brezovec/2P_Imaging/20210130_superv_depth_correction/20210214_eigen_values_ztrim_fly{fly_idx}.npy'\n",
    "    np.save(save_file, eigen_values)\n",
    "\n",
    "    printlog('eigen_vectors is {}'.format(eigen_vectors.shape))\n",
    "    save_file = F'/oak/stanford/groups/trc/data/Brezovec/2P_Imaging/20210130_superv_depth_correction/20210214_eigen_vectors_ztrim_fly{fly_idx}.npy'\n",
    "    np.save(save_file, eigen_vectors)\n",
    "\n",
    "# if __name__ == '__main__':\n",
    "#     main(json.loads(sys.argv[1]))\n",
    "args = {\n",
    "    'logfile': 'path_to_your_logfile.log',  # Adjust to your logfile path\n",
    "    'fly_idx': 0  # Or any other appropriate index you want to use"
   ]
  },
  {
   "cell_type": "code",
   "execution_count": null,
   "metadata": {
    "collapsed": true
   },
   "outputs": [],
   "source": [
    "# Call the main function with the args\n",
    "main(args)"
   ]
  }
 ],
 "metadata": {
  "kernelspec": {
   "display_name": "Python 3",
   "language": "python",
   "name": "python3"
  },
  "language_info": {
   "codemirror_mode": {
    "name": "ipython",
    "version": 3
   },
   "file_extension": ".py",
   "mimetype": "text/x-python",
   "name": "python",
   "nbconvert_exporter": "python",
   "pygments_lexer": "ipython3",
   "version": "3.6.1"
  }
 },
 "nbformat": 4,
 "nbformat_minor": 2
}
