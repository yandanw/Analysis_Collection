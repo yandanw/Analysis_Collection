{
 "cells": [
  {
   "cell_type": "code",
   "execution_count": 1,
   "metadata": {
    "collapsed": true
   },
   "outputs": [],
   "source": [
    "import numpy as np\n",
    "import os\n",
    "import sys\n",
    "import psutil\n",
    "import nibabel as nib\n",
    "from time import time\n",
    "import json\n",
    "import matplotlib.pyplot as plt\n",
    "from contextlib import contextmanager\n",
    "import warnings\n",
    "warnings.filterwarnings(\"ignore\")\n",
    "\n",
    "from shutil import copyfile\n",
    "import platform\n",
    "if platform.system() != 'Windows':\n",
    "    sys.path.insert(0, '/home/users/brezovec/.local/lib/python3.6/site-packages/lib/python/')\n",
    "    import ants\n",
    "import brainsss\n",
    "import os\n",
    "import numpy as np\n",
    "import matplotlib.pyplot as plt\n",
    "%matplotlib inline\n",
    "from sklearn.cluster import AgglomerativeClustering\n",
    "import scipy\n",
    "from scipy.cluster.hierarchy import dendrogram\n",
    "from scipy.cluster.hierarchy import fcluster\n",
    "from scipy.cluster import hierarchy\n",
    "import matplotlib as mpl\n",
    "from matplotlib.pyplot import cm\n",
    "import random\n",
    "from scipy.stats import sem\n",
    "import time\n",
    "import h5py\n",
    "import ants\n",
    "import nibabel as nib\n",
    "import pandas as pd\n",
    "\n",
    "import matplotlib\n",
    "from scipy.ndimage import gaussian_filter1d\n",
    "from scipy.interpolate import interp1d as interp1d"
   ]
  },
  {
   "cell_type": "code",
   "execution_count": 2,
   "metadata": {
    "collapsed": true
   },
   "outputs": [],
   "source": [
    "from sklearn.feature_extraction import image\n",
    "import imageio\n",
    "from tqdm import tqdm\n",
    "import argparse\n",
    "import subprocess\n",
    "import time\n",
    "from scipy.ndimage import gaussian_filter1d\n",
    "import bigbadbrain as bbb\n",
    "import dataflow as flow\n",
    "import brainsss\n",
    "import fcntl\n",
    "from scipy.ndimage import gaussian_filter1d"
   ]
  },
  {
   "cell_type": "code",
   "execution_count": 3,
   "metadata": {
    "collapsed": true
   },
   "outputs": [],
   "source": [
    "import imageio\n",
    "from tqdm import tqdm"
   ]
  },
  {
   "cell_type": "code",
   "execution_count": 4,
   "metadata": {
    "collapsed": true
   },
   "outputs": [],
   "source": [
    "import argparse\n",
    "import subprocess\n",
    "import time\n",
    "from scipy.ndimage import gaussian_filter1d\n",
    "\n"
   ]
  },
  {
   "cell_type": "code",
   "execution_count": 5,
   "metadata": {
    "collapsed": true
   },
   "outputs": [],
   "source": [
    "import bigbadbrain as bbb\n",
    "import dataflow as flow\n",
    "import brainsss\n",
    "import fcntl"
   ]
  },
  {
   "cell_type": "code",
   "execution_count": 6,
   "metadata": {
    "collapsed": true
   },
   "outputs": [],
   "source": [
    "from scipy.ndimage import gaussian_filter1d"
   ]
  },
  {
   "cell_type": "code",
   "execution_count": 7,
   "metadata": {
    "collapsed": true
   },
   "outputs": [],
   "source": [
    "file_path = \"/oak/stanford/groups/trc/data/yandan/2P_Imaging/2023August/aggregated_fly/\""
   ]
  },
  {
   "cell_type": "code",
   "execution_count": 8,
   "metadata": {
    "collapsed": true
   },
   "outputs": [],
   "source": [
    "output_directory = '/oak/stanford/groups/trc/data/yandan/2P_Imaging/2023August/aggregated_fly'"
   ]
  },
  {
   "cell_type": "code",
   "execution_count": 9,
   "metadata": {
    "collapsed": true
   },
   "outputs": [],
   "source": [
    "# superslice_0.nii\n",
    "# stack0.npy"
   ]
  },
  {
   "cell_type": "code",
   "execution_count": 10,
   "metadata": {
    "collapsed": true
   },
   "outputs": [],
   "source": [
    "dataset_path = '/oak/stanford/groups/trc/data/Brezovec/2P_Imaging/20190101_walking_dataset'"
   ]
  },
  {
   "cell_type": "code",
   "execution_count": 11,
   "metadata": {
    "collapsed": true
   },
   "outputs": [],
   "source": [
    "def load_fictrac(directory, file='fictrac.dat'):\n",
    "    \"\"\" Loads fictrac data from .dat file that fictrac outputs.\n",
    "\n",
    "    To-do: change units based on diameter of ball etc.\n",
    "    For speed sanity check, instead remove bad frames so we don't have to throw out whole trial.\n",
    "\n",
    "    Parameters\n",
    "    ----------\n",
    "    directory: string of full path to file\n",
    "    file: string of file name\n",
    "\n",
    "    Returns\n",
    "    -------\n",
    "    fictrac_data: pandas dataframe of all parameters saved by fictrac \"\"\"\n",
    "\n",
    "    for item in os.listdir(directory):\n",
    "      if '.dat' in item:\n",
    "        file = item\n",
    "\n",
    "    with open(os.path.join(directory, file),'r') as f:\n",
    "        df = pd.DataFrame(l.rstrip().split() for l in f)\n",
    "\n",
    "        # Name columns\n",
    "        df = df.rename(index=str, columns={0: 'frameCounter',\n",
    "                                       1: 'dRotCamX',\n",
    "                                       2: 'dRotCamY',\n",
    "                                       3: 'dRotCamZ',\n",
    "                                       4: 'dRotScore',\n",
    "                                       5: 'dRotLabX',\n",
    "                                       6: 'dRotLabY',\n",
    "                                       7: 'dRotLabZ',\n",
    "                                       8: 'AbsRotCamX',\n",
    "                                       9: 'AbsRotCamY',\n",
    "                                       10: 'AbsRotCamZ',\n",
    "                                       11: 'AbsRotLabX',\n",
    "                                       12: 'AbsRotLabY',\n",
    "                                       13: 'AbsRotLabZ',\n",
    "                                       14: 'positionX',\n",
    "                                       15: 'positionY',\n",
    "                                       16: 'heading',\n",
    "                                       17: 'runningDir',\n",
    "                                       18: 'speed',\n",
    "                                       19: 'integratedX',\n",
    "                                       20: 'integratedY',\n",
    "                                       21: 'timeStamp',\n",
    "                                       22: 'sequence'})\n",
    "\n",
    "        # Remove commas\n",
    "        for column in df.columns.values[:-1]:\n",
    "            df[column] = [float(x[:-1]) for x in df[column]]\n",
    "\n",
    "        fictrac_data = df\n",
    "                \n",
    "    # sanity check for extremely high speed (fictrac failure)\n",
    "    speed = np.asarray(fictrac_data['speed'])\n",
    "    max_speed = np.max(speed)\n",
    "    if max_speed > 10:\n",
    "        raise Exception('Fictrac ball tracking failed (reporting impossibly high speed).')\n",
    "    return fictrac_data\n"
   ]
  },
  {
   "cell_type": "code",
   "execution_count": 12,
   "metadata": {
    "collapsed": true
   },
   "outputs": [],
   "source": [
    "def load_timestamps(directory, file='functional.xml'):\n",
    "    \"\"\" Parses a Bruker xml file to get the times of each frame, or loads h5py file if it exists.\n",
    "\n",
    "    First tries to load from 'timestamps.h5' (h5py file). If this file doesn't exist\n",
    "    it will load and parse the Bruker xml file, and save the h5py file for quick loading in the future.\n",
    "\n",
    "    Parameters\n",
    "    ----------\n",
    "    directory: full directory that contains xml file (str).\n",
    "    file: Defaults to 'functional.xml'\n",
    "\n",
    "    Returns\n",
    "    -------\n",
    "    timestamps: [t,z] numpy array of times (in ms) of Bruker imaging frames.\n",
    "\n",
    "    \"\"\"\n",
    "    try:\n",
    "        print('Trying to load timestamp data from hdf5 file.')\n",
    "        with h5py.File(os.path.join(directory, 'timestamps.h5'), 'r') as hf:\n",
    "            timestamps = hf['timestamps'][:]\n",
    "\n",
    "    except:\n",
    "        print('Failed. Extracting frame timestamps from bruker xml file.')\n",
    "        xml_file = os.path.join(directory, file)\n",
    "        tree = ET.parse(xml_file)\n",
    "        root = tree.getroot()\n",
    "        timestamps = []\n",
    "        \n",
    "        sequences = root.findall('Sequence')\n",
    "        for sequence in sequences:\n",
    "            frames = sequence.findall('Frame')\n",
    "            for frame in frames:\n",
    "                filename = frame.findall('File')[0].get('filename')\n",
    "                time = float(frame.get('relativeTime'))\n",
    "                timestamps.append(time)\n",
    "        timestamps = np.multiply(timestamps, 1000)\n",
    "\n",
    "        if len(sequences) > 1:\n",
    "            timestamps = np.reshape(timestamps, (len(sequences), len(frames)))\n",
    "        else:\n",
    "            timestamps = np.reshape(timestamps, (len(frames), len(sequences)))\n",
    "\n",
    "        ### Save h5py file ###\n",
    "        with h5py.File(os.path.join(directory, 'timestamps.h5'), 'w') as hf:\n",
    "            hf.create_dataset(\"timestamps\", data=timestamps)\n",
    "    \n",
    "    print('Success.')\n",
    "    return timestamps"
   ]
  },
  {
   "cell_type": "code",
   "execution_count": 13,
   "metadata": {
    "collapsed": true
   },
   "outputs": [],
   "source": [
    "class Printlog():\n",
    "    '''\n",
    "    for printing all processes into same log file on sherlock\n",
    "    '''\n",
    "    def __init__(self, logfile):\n",
    "        self.logfile = logfile\n",
    "    def print_to_log(self, message):\n",
    "        with open(self.logfile, 'a+') as f:\n",
    "            fcntl.flock(f, fcntl.LOCK_EX)\n",
    "            f.write(message)\n",
    "            f.write('\\n')\n",
    "            fcntl.flock(f, fcntl.LOCK_UN)"
   ]
  },
  {
   "cell_type": "code",
   "execution_count": 15,
   "metadata": {},
   "outputs": [
    {
     "ename": "NameError",
     "evalue": "name 'fictrac' is not defined",
     "output_type": "error",
     "traceback": [
      "\u001b[0;31m---------------------------------------------------------------------------\u001b[0m",
      "\u001b[0;31mNameError\u001b[0m                                 Traceback (most recent call last)",
      "\u001b[0;32m<ipython-input-15-7dd7b826aab0>\u001b[0m in \u001b[0;36m<module>\u001b[0;34m()\u001b[0m\n\u001b[0;32m----> 1\u001b[0;31m \u001b[0mfictrac\u001b[0m\u001b[0;34m\u001b[0m\u001b[0m\n\u001b[0m",
      "\u001b[0;31mNameError\u001b[0m: name 'fictrac' is not defined"
     ]
    }
   ],
   "source": [
    "fictrac[\"angular_V\"]"
   ]
  },
  {
   "cell_type": "code",
   "execution_count": 19,
   "metadata": {
    "collapsed": true
   },
   "outputs": [],
   "source": [
    "#####################\n",
    "### Main Function ###\n",
    "#####################\n",
    "\n",
    "def main(args):\n",
    "\n",
    "\n",
    "    ### This fly class helps organize data for each fly\n",
    "    class Fly:\n",
    "        def __init__ (self, fly_name, fly_idx):\n",
    "            self.dir = os.path.join(dataset_path, fly_name, 'func_0')\n",
    "            self.fly_idx = fly_idx\n",
    "            self.fly_name = fly_name\n",
    "            self.maps = {}\n",
    "        def load_timestamps (self):\n",
    "            self.timestamps = load_timestamps(os.path.join(self.dir, 'imaging'))\n",
    "        def load_fictrac (self):\n",
    "            self.fictrac = Fictrac(self, self.dir, self.timestamps)\n",
    "        def load_brain_slice (self):\n",
    "            self.brain = brain[self.fly_idx,:,:,:]\n",
    "        def load_anatomy (self):\n",
    "            to_load = os.path.join(dataset_path, self.fly_name, 'warp', 'anat-to-meanbrain.nii')\n",
    "            self.anatomy = np.array(nib.load(to_load).get_data(), copy=True)\n",
    "        def get_cluster_averages (self, cluster_model_labels, n_clusters):\n",
    "            neural_data = self.brain.reshape(-1, 3384)\n",
    "            signals = []\n",
    "            self.cluster_indicies = []\n",
    "            for cluster_num in range(n_clusters):\n",
    "                cluster_indicies = np.where(cluster_model_labels==cluster_num)[0]\n",
    "                mean_signal = np.mean(neural_data[cluster_indicies,:], axis=0)\n",
    "                signals.append(mean_signal)\n",
    "                self.cluster_indicies.append(cluster_indicies) # store for later\n",
    "            self.cluster_signals=np.asarray(signals)\n",
    "        def get_cluster_id (self, x, y):\n",
    "            ax_vec = x*128 + y\n",
    "            for i in range(n_clusters):\n",
    "                if ax_vec in self.cluster_indicies[i]:\n",
    "                    cluster_id = i\n",
    "                    break\n",
    "            return cluster_id\n",
    "        def get_stimulus_start_time_and_ft_frame(self):\n",
    "            vision_path = os.path.join(self.dir, 'visual')\n",
    "            ### Load Photodiode ###\n",
    "            t, ft_triggers, pd1, pd2 = brainsss.load_photodiode(vision_path)\n",
    "            stimulus_start_times = brainsss.extract_stim_times_from_pd(pd2, t)\n",
    "            assert len(stimulus_start_times) == 1\n",
    "            stimulus_start_time = stimulus_start_times[0]\n",
    "            \n",
    "            # Find the indices where the fictrac trigger signal rises\n",
    "            ft_frame_indices = np.where(np.diff(ft_triggers) > 1)[0] + 1\n",
    "            ft_frame_times = t[ft_frame_indices] / 1000 # ms -> s\n",
    "            \n",
    "            # Find fictrac frame index when stimulus starts\n",
    "            ft_frame_index_when_stim_starts = np.argmin(np.abs(ft_frame_times - stimulus_start_time))\n",
    "            \n",
    "            return stimulus_start_time, ft_frame_index_when_stim_starts\n",
    "                        \n",
    "    ### This fictrac class helps process behavior data\n",
    "    class Fictrac:\n",
    "        def __init__ (self, fly, fly_dir, timestamps):\n",
    "            self.fly = fly\n",
    "            self.fictrac_raw = load_fictrac(os.path.join(fly_dir, 'fictrac'))\n",
    "            self.timestamps = timestamps\n",
    "        def make_interp_object(self, behavior):\n",
    "            # Create camera timepoints\n",
    "            fps=100\n",
    "            camera_rate = 1/fps * 1000 # camera frame rate in ms\n",
    "            expt_len = 1000*30*60\n",
    "            x_original = np.arange(0,expt_len,camera_rate)\n",
    "\n",
    "            # Smooth raw fictrac data\n",
    "            fictrac_smoothed = scipy.signal.savgol_filter(np.asarray(self.fictrac_raw[behavior]),25,3)\n",
    "\n",
    "            # Create interp object with camera timepoints\n",
    "            fictrac_interp_object = interp1d(x_original, fictrac_smoothed, bounds_error = False)\n",
    "            return fictrac_interp_object\n",
    "\n",
    "        def pull_from_interp_object(self, interp_object, timepoints):\n",
    "            new_interp = interp_object(timepoints)\n",
    "            np.nan_to_num(new_interp, copy=False);\n",
    "            return new_interp\n",
    "\n",
    "        def interp_fictrac(self, z):\n",
    "            vel_behaviors = ['dRotLabY', 'dRotLabZ']; shorts = ['Y', 'Z']\n",
    "            self.fictrac = {}\n",
    "\n",
    "            for behavior, short in zip(vel_behaviors, shorts):\n",
    "                interp_object = self.make_interp_object(behavior)\n",
    "                self.fictrac[short + 'i'] = interp_object\n",
    "\n",
    "                ### Velocity ###\n",
    "                behavior_pseudo_z = 25\n",
    "                low_res_behavior = self.pull_from_interp_object(interp_object, self.timestamps[:,behavior_pseudo_z])\n",
    "                self.fictrac[short] = low_res_behavior#/np.std(low_res_behavior)\n",
    "                \n",
    "                ### Clipped Velocities ###\n",
    "                self.fictrac[short + '_pos'] = np.clip(self.fictrac[short], a_min=0, a_max=None)\n",
    "                self.fictrac[short + '_neg'] = np.clip(self.fictrac[short], a_min=None, a_max=0)*-1\n",
    "                \n",
    "                ### Acceleration ###\n",
    "                high_res_behavior = self.pull_from_interp_object(interp_object, high_res_timepoints)\n",
    "                self.fictrac[short + 'h'] = high_res_behavior/np.std(high_res_behavior)\n",
    "\n",
    "                accel = scipy.signal.savgol_filter(np.diff(high_res_behavior),25,3)\n",
    "                accel = np.append(accel, 0)\n",
    "                interp_object = interp1d(high_res_timepoints, accel, bounds_error = False)\n",
    "                acl = interp_object(self.timestamps[:,behavior_pseudo_z])\n",
    "                acl[-1] = 0\n",
    "                self.fictrac[short + 'a'] = acl#/np.std(acl)\n",
    "                \n",
    "                ### Clipped Acceleration ###\n",
    "                self.fictrac[short + 'a' + '_pos'] = np.clip(self.fictrac[short + 'a'], a_min=0, a_max=None)\n",
    "                self.fictrac[short + 'a' + '_neg'] = np.clip(self.fictrac[short + 'a'], a_min=None, a_max=0)*-1\n",
    "\n",
    "            self.fictrac['YZ'] = np.sqrt(np.power(self.fictrac['Y'],2), np.power(self.fictrac['Z'],2))\n",
    "            self.fictrac['YZh'] = np.sqrt(np.power(self.fictrac['Yh'],2), np.power(self.fictrac['Zh'],2))\n",
    "            \n",
    "            # Heading, h\n",
    "            # Create camera timepoints\n",
    "            fps=100\n",
    "            camera_rate = 1/fps * 1000 # camera frame rate in ms\n",
    "            expt_len = 1000*30*60\n",
    "            x_original = np.arange(0,expt_len,camera_rate)\n",
    "\n",
    "            # Smooth raw fictrac data\n",
    "            fictrac_smoothed = scipy.signal.savgol_filter(np.asarray(self.fictrac_raw[behavior]),25,3)\n",
    "\n",
    "            # Subtract heading at stimulus start\n",
    "            stimulus_start_time, stimulus_start_ft_frame = self.fly.get_stimulus_start_time_and_ft_frame()\n",
    "            fictrac_smoothed -= fictrac_smoothed[stimulus_start_ft_frame]\n",
    "            \n",
    "            # Create interp object with camera timepoints\n",
    "            fictrac_interp_object = interp1d(x_original, fictrac_smoothed, bounds_error = False)\n",
    "\n",
    "            interp_object = self.make_interp_object('heading')\n",
    "            self.fictrac['h' + 'i'] = interp_object\n",
    "            low_res_behavior = self.pull_from_interp_object(interp_object, self.timestamps[:,behavior_pseudo_z])\n",
    "            self.fictrac['h'] = low_res_behavior#/np.std(low_res_behavior)\n",
    "\n",
    "    ###############################################\n",
    "    ### Parse the dictionary of input arguments ###\n",
    "    ###############################################\n",
    "\n",
    "    logfile = args['logfile']\n",
    "    save_directory = args['save_directory']\n",
    "    z = args['z']\n",
    "\n",
    "    ### this pringlogging is custom to our system\n",
    "    printlog = getattr(Printlog(logfile=logfile), 'print_to_log')\n",
    "    printlog('{}'.format(z))\n",
    "\n",
    "    fly_names = ['fly_287', 'fly_308', 'fly_309', 'fly_311']\n",
    "    dataset_path = \"/oak/stanford/groups/trc/data/Brezovec/2P_Imaging/20190101_walking_dataset\"\n",
    "    expt_len = 1000*30*60\n",
    "    resolution = 10\n",
    "    high_res_timepoints = np.arange(0,expt_len,resolution) #0 to last time at subsample res\n",
    "\n",
    "    #######################\n",
    "    ### Load Superslice ###\n",
    "    #######################\n",
    "    ### A superslice is a single z-plane but all flies have already been concatenated along an axis of this array\n",
    "    brain_file = \"/oak/stanford/groups/trc/data/yandan/2P_Imaging/2023August/aggregated_fly/stack{}.npy\".format(z)\n",
    "    brain = np.array(np.load(brain_file), copy=True)\n",
    "    # Delete a fly that is in the superslice but was excluded from all analysis due to not passing quality control\n",
    "    # fly_idx_delete = 3 #(fly_095)\n",
    "    # brain = np.delete(brain, fly_idx_delete, axis=-1) #### DELETING FLY_095 ####\n",
    "\n",
    "    #####################\n",
    "    ### Load Clusters ###\n",
    "    #####################\n",
    "\n",
    "    # these are the supervoxels\n",
    "    n_clusters = 2000\n",
    "    labels_file = '/oak/stanford/groups/trc/data/yandan/2P_Imaging/2023August/aggregated_fly/darkbar_4_cluster_labels_2000.npy'\n",
    "    cluster_model_labels = np.load(labels_file)\n",
    "    cluster_model_labels = cluster_model_labels[z,:]\n",
    "\n",
    "    ###################\n",
    "    ### Build Flies ###\n",
    "    ###################\n",
    "    ### loop  over flies and load and process neural and behavior data based on classes defined above\n",
    "    flies = {}\n",
    "    for i, fly in enumerate(fly_names):\n",
    "        flies[fly] = Fly(fly_name=fly, fly_idx=i)\n",
    "        flies[fly].load_timestamps()\n",
    "        flies[fly].load_fictrac()\n",
    "        flies[fly].fictrac.interp_fictrac(z)\n",
    "        flies[fly].load_brain_slice()\n",
    "        flies[fly].get_cluster_averages(cluster_model_labels, n_clusters)\n",
    "\n",
    "    #####################\n",
    "    ### Pool behavior ###\n",
    "    #####################\n",
    "    ### concatentate behavior across flies\n",
    "    not_clipped_behaviors = ['Y', 'Z', 'Ya', 'Za', 'h']\n",
    "    clipped_behaviors = ['Y_pos', 'Y_neg',\n",
    "                         'Z_pos', 'Z_neg',\n",
    "                         'Ya_pos', 'Ya_neg',\n",
    "                         'Za_pos', 'Za_neg']\n",
    "    all_behaviors = not_clipped_behaviors + clipped_behaviors\n",
    "\n",
    "    pooled_behavior = {}\n",
    "    for j, behavior in enumerate(all_behaviors):\n",
    "        pooled_behavior[behavior] = []\n",
    "        for i,fly in enumerate(flies):\n",
    "            pooled_behavior[behavior].append(flies[fly].fictrac.fictrac[behavior])\n",
    "        pooled_behavior[behavior] = np.asarray(pooled_behavior[behavior]).flatten()\n",
    "\n",
    "    save_file = os.path.join(save_directory, f'z{z}_pooled_behavior')\n",
    "    np.save(save_file, pooled_behavior)\n",
    "\n",
    "    ###################\n",
    "    ### Correlation ###\n",
    "    ###################\n",
    "    \n",
    "    for behavior_to_corr in all_behaviors:\n",
    "        r_values = []\n",
    "        p_values = []\n",
    "        # looping over supervoxels in a given slice\n",
    "        for cluster in range(n_clusters):\n",
    "            pooled_activity = []\n",
    "            for fly in flies:\n",
    "                pooled_activity.append(flies[fly].cluster_signals[cluster])\n",
    "            pooled_activity = np.asarray(pooled_activity).flatten()\n",
    "\n",
    "            Y = pooled_activity\n",
    "            X = pooled_behavior[behavior_to_corr]\n",
    "\n",
    "            r, p = scipy.stats.pearsonr(X, Y) # calculate correlation\n",
    "            r_values.append(r)\n",
    "            p_values.append(p)\n",
    "\n",
    "            # CONFIRMED IDENTICAL ON 20210101\n",
    "            # Calculate p-value a 2nd way for comparison\n",
    "            # n = len(Y)\n",
    "            # t = (r*np.sqrt(n-2))/(np.sqrt(1-r**2))\n",
    "            # p_manual = scipy.stats.t.sf(abs(t), df=n-2)*2\n",
    "            # p_values_t_test.append(p_manual)\n",
    "\n",
    "        #####################\n",
    "        ### Save Map Data ###\n",
    "        #####################\n",
    "        save_file = os.path.join(save_directory, 'z{}_rvalues_{}'.format(behavior_to_corr, z))\n",
    "        np.save(save_file, np.asarray(r_values))\n",
    "\n",
    "        save_file = os.path.join(save_directory, 'z{}_pvalues_{}'.format(behavior_to_corr, z))\n",
    "        np.save(save_file, np.asarray(p_values))"
   ]
  },
  {
   "cell_type": "code",
   "execution_count": 20,
   "metadata": {},
   "outputs": [
    {
     "name": "stderr",
     "output_type": "stream",
     "text": [
      "\r",
      "  0%|          | 0/91 [00:00<?, ?it/s]"
     ]
    },
    {
     "name": "stdout",
     "output_type": "stream",
     "text": [
      "===== z: 0 =====\n",
      "Trying to load timestamp data from hdf5 file.\n",
      "Success.\n",
      "loading photodiode data... done\n",
      "Trying to load timestamp data from hdf5 file.\n",
      "Success.\n",
      "loading photodiode data... done\n",
      "Trying to load timestamp data from hdf5 file.\n",
      "Success.\n",
      "loading photodiode data... done\n",
      "Trying to load timestamp data from hdf5 file.\n",
      "Success.\n",
      "loading photodiode data... done\n"
     ]
    },
    {
     "name": "stderr",
     "output_type": "stream",
     "text": [
      "\r",
      "  1%|          | 1/91 [00:40<1:00:27, 40.30s/it]"
     ]
    },
    {
     "name": "stdout",
     "output_type": "stream",
     "text": [
      "===== z: 1 =====\n",
      "Trying to load timestamp data from hdf5 file.\n",
      "Success.\n",
      "loading photodiode data... done\n",
      "Trying to load timestamp data from hdf5 file.\n",
      "Success.\n",
      "loading photodiode data... done\n",
      "Trying to load timestamp data from hdf5 file.\n",
      "Success.\n",
      "loading photodiode data... done\n",
      "Trying to load timestamp data from hdf5 file.\n",
      "Success.\n",
      "loading photodiode data... done\n"
     ]
    },
    {
     "name": "stderr",
     "output_type": "stream",
     "text": [
      "\r",
      "  2%|▏         | 2/91 [01:18<58:20, 39.33s/it]  "
     ]
    },
    {
     "name": "stdout",
     "output_type": "stream",
     "text": [
      "===== z: 2 =====\n",
      "Trying to load timestamp data from hdf5 file.\n",
      "Success.\n",
      "loading photodiode data... done\n",
      "Trying to load timestamp data from hdf5 file.\n",
      "Success.\n",
      "loading photodiode data... done\n",
      "Trying to load timestamp data from hdf5 file.\n",
      "Success.\n",
      "loading photodiode data... done\n",
      "Trying to load timestamp data from hdf5 file.\n",
      "Success.\n",
      "loading photodiode data... done\n"
     ]
    },
    {
     "name": "stderr",
     "output_type": "stream",
     "text": [
      "\r",
      "  3%|▎         | 3/91 [01:58<57:50, 39.44s/it]"
     ]
    },
    {
     "name": "stdout",
     "output_type": "stream",
     "text": [
      "===== z: 3 =====\n",
      "Trying to load timestamp data from hdf5 file.\n",
      "Success.\n",
      "loading photodiode data... done\n",
      "Trying to load timestamp data from hdf5 file.\n",
      "Success.\n",
      "loading photodiode data... done\n",
      "Trying to load timestamp data from hdf5 file.\n",
      "Success.\n",
      "loading photodiode data... done\n",
      "Trying to load timestamp data from hdf5 file.\n",
      "Success.\n",
      "loading photodiode data... done\n"
     ]
    },
    {
     "name": "stderr",
     "output_type": "stream",
     "text": [
      "\r",
      "  4%|▍         | 4/91 [02:37<56:55, 39.26s/it]"
     ]
    },
    {
     "name": "stdout",
     "output_type": "stream",
     "text": [
      "===== z: 4 =====\n",
      "Trying to load timestamp data from hdf5 file.\n",
      "Success.\n",
      "loading photodiode data... done\n",
      "Trying to load timestamp data from hdf5 file.\n",
      "Success.\n",
      "loading photodiode data... done\n",
      "Trying to load timestamp data from hdf5 file.\n",
      "Success.\n",
      "loading photodiode data... done\n",
      "Trying to load timestamp data from hdf5 file.\n",
      "Success.\n",
      "loading photodiode data... done\n"
     ]
    },
    {
     "name": "stderr",
     "output_type": "stream",
     "text": [
      "\r",
      "  5%|▌         | 5/91 [03:17<56:42, 39.57s/it]"
     ]
    },
    {
     "name": "stdout",
     "output_type": "stream",
     "text": [
      "===== z: 5 =====\n",
      "Trying to load timestamp data from hdf5 file.\n",
      "Success.\n",
      "loading photodiode data... done\n",
      "Trying to load timestamp data from hdf5 file.\n",
      "Success.\n",
      "loading photodiode data... done\n",
      "Trying to load timestamp data from hdf5 file.\n",
      "Success.\n",
      "loading photodiode data... done\n",
      "Trying to load timestamp data from hdf5 file.\n",
      "Success.\n",
      "loading photodiode data... done\n"
     ]
    },
    {
     "name": "stderr",
     "output_type": "stream",
     "text": [
      "\r",
      "  7%|▋         | 6/91 [03:59<57:03, 40.27s/it]"
     ]
    },
    {
     "name": "stdout",
     "output_type": "stream",
     "text": [
      "===== z: 6 =====\n",
      "Trying to load timestamp data from hdf5 file.\n",
      "Success.\n",
      "loading photodiode data... done\n",
      "Trying to load timestamp data from hdf5 file.\n",
      "Success.\n",
      "loading photodiode data... done\n",
      "Trying to load timestamp data from hdf5 file.\n",
      "Success.\n",
      "loading photodiode data... done\n",
      "Trying to load timestamp data from hdf5 file.\n",
      "Success.\n",
      "loading photodiode data... done\n"
     ]
    },
    {
     "name": "stderr",
     "output_type": "stream",
     "text": [
      "\r",
      "  8%|▊         | 7/91 [04:38<56:07, 40.09s/it]"
     ]
    },
    {
     "name": "stdout",
     "output_type": "stream",
     "text": [
      "===== z: 7 =====\n",
      "Trying to load timestamp data from hdf5 file.\n",
      "Success.\n",
      "loading photodiode data... done\n",
      "Trying to load timestamp data from hdf5 file.\n",
      "Success.\n",
      "loading photodiode data... done\n",
      "Trying to load timestamp data from hdf5 file.\n",
      "Success.\n",
      "loading photodiode data... done\n",
      "Trying to load timestamp data from hdf5 file.\n",
      "Success.\n",
      "loading photodiode data... done\n"
     ]
    },
    {
     "name": "stderr",
     "output_type": "stream",
     "text": [
      "\r",
      "  9%|▉         | 8/91 [05:20<56:08, 40.58s/it]"
     ]
    },
    {
     "name": "stdout",
     "output_type": "stream",
     "text": [
      "===== z: 8 =====\n",
      "Trying to load timestamp data from hdf5 file.\n",
      "Success.\n",
      "loading photodiode data... done\n",
      "Trying to load timestamp data from hdf5 file.\n",
      "Success.\n",
      "loading photodiode data... done\n",
      "Trying to load timestamp data from hdf5 file.\n",
      "Success.\n",
      "loading photodiode data... done\n",
      "Trying to load timestamp data from hdf5 file.\n",
      "Success.\n",
      "loading photodiode data... done\n"
     ]
    },
    {
     "name": "stderr",
     "output_type": "stream",
     "text": [
      "\r",
      " 10%|▉         | 9/91 [06:00<55:17, 40.46s/it]"
     ]
    },
    {
     "name": "stdout",
     "output_type": "stream",
     "text": [
      "===== z: 9 =====\n",
      "Trying to load timestamp data from hdf5 file.\n",
      "Success.\n",
      "loading photodiode data... done\n",
      "Trying to load timestamp data from hdf5 file.\n",
      "Success.\n",
      "loading photodiode data... done\n",
      "Trying to load timestamp data from hdf5 file.\n",
      "Success.\n",
      "loading photodiode data... done\n",
      "Trying to load timestamp data from hdf5 file.\n",
      "Success.\n",
      "loading photodiode data... done\n"
     ]
    },
    {
     "name": "stderr",
     "output_type": "stream",
     "text": [
      "\r",
      " 11%|█         | 10/91 [06:29<49:38, 36.77s/it]"
     ]
    },
    {
     "name": "stdout",
     "output_type": "stream",
     "text": [
      "===== z: 10 =====\n",
      "Trying to load timestamp data from hdf5 file.\n",
      "Success.\n",
      "loading photodiode data... done\n",
      "Trying to load timestamp data from hdf5 file.\n",
      "Success.\n",
      "loading photodiode data... done\n",
      "Trying to load timestamp data from hdf5 file.\n",
      "Success.\n",
      "loading photodiode data... done\n",
      "Trying to load timestamp data from hdf5 file.\n",
      "Success.\n",
      "loading photodiode data... done\n"
     ]
    },
    {
     "name": "stderr",
     "output_type": "stream",
     "text": [
      "\r",
      " 12%|█▏        | 11/91 [07:10<50:39, 38.00s/it]"
     ]
    },
    {
     "name": "stdout",
     "output_type": "stream",
     "text": [
      "===== z: 11 =====\n",
      "Trying to load timestamp data from hdf5 file.\n",
      "Success.\n",
      "loading photodiode data... done\n",
      "Trying to load timestamp data from hdf5 file.\n",
      "Success.\n",
      "loading photodiode data... done\n",
      "Trying to load timestamp data from hdf5 file.\n",
      "Success.\n",
      "loading photodiode data... done\n",
      "Trying to load timestamp data from hdf5 file.\n",
      "Success.\n",
      "loading photodiode data... done\n"
     ]
    },
    {
     "name": "stderr",
     "output_type": "stream",
     "text": [
      "\r",
      " 13%|█▎        | 12/91 [07:49<50:38, 38.47s/it]"
     ]
    },
    {
     "name": "stdout",
     "output_type": "stream",
     "text": [
      "===== z: 12 =====\n",
      "Trying to load timestamp data from hdf5 file.\n",
      "Success.\n",
      "loading photodiode data... done\n",
      "Trying to load timestamp data from hdf5 file.\n",
      "Success.\n",
      "loading photodiode data... done\n",
      "Trying to load timestamp data from hdf5 file.\n",
      "Success.\n",
      "loading photodiode data... done\n",
      "Trying to load timestamp data from hdf5 file.\n",
      "Success.\n",
      "loading photodiode data... done\n"
     ]
    },
    {
     "name": "stderr",
     "output_type": "stream",
     "text": [
      "\r",
      " 14%|█▍        | 13/91 [08:30<50:45, 39.05s/it]"
     ]
    },
    {
     "name": "stdout",
     "output_type": "stream",
     "text": [
      "===== z: 13 =====\n",
      "Trying to load timestamp data from hdf5 file.\n",
      "Success.\n",
      "loading photodiode data... done\n",
      "Trying to load timestamp data from hdf5 file.\n",
      "Success.\n",
      "loading photodiode data... done\n",
      "Trying to load timestamp data from hdf5 file.\n",
      "Success.\n",
      "loading photodiode data... done\n",
      "Trying to load timestamp data from hdf5 file.\n",
      "Success.\n",
      "loading photodiode data... done\n"
     ]
    },
    {
     "name": "stderr",
     "output_type": "stream",
     "text": [
      "\r",
      " 15%|█▌        | 14/91 [08:58<46:01, 35.86s/it]"
     ]
    },
    {
     "name": "stdout",
     "output_type": "stream",
     "text": [
      "===== z: 14 =====\n",
      "Trying to load timestamp data from hdf5 file.\n",
      "Success.\n",
      "loading photodiode data... done\n",
      "Trying to load timestamp data from hdf5 file.\n",
      "Success.\n",
      "loading photodiode data... done\n",
      "Trying to load timestamp data from hdf5 file.\n",
      "Success.\n",
      "loading photodiode data... done\n",
      "Trying to load timestamp data from hdf5 file.\n",
      "Success.\n",
      "loading photodiode data... done\n"
     ]
    },
    {
     "name": "stderr",
     "output_type": "stream",
     "text": [
      "\r",
      " 16%|█▋        | 15/91 [09:27<42:49, 33.80s/it]"
     ]
    },
    {
     "name": "stdout",
     "output_type": "stream",
     "text": [
      "===== z: 15 =====\n",
      "Trying to load timestamp data from hdf5 file.\n",
      "Success.\n",
      "loading photodiode data... done\n",
      "Trying to load timestamp data from hdf5 file.\n",
      "Success.\n",
      "loading photodiode data... done\n",
      "Trying to load timestamp data from hdf5 file.\n",
      "Success.\n",
      "loading photodiode data... done\n",
      "Trying to load timestamp data from hdf5 file.\n",
      "Success.\n",
      "loading photodiode data... done\n"
     ]
    },
    {
     "name": "stderr",
     "output_type": "stream",
     "text": [
      "\r",
      " 18%|█▊        | 16/91 [09:57<40:44, 32.59s/it]"
     ]
    },
    {
     "name": "stdout",
     "output_type": "stream",
     "text": [
      "===== z: 16 =====\n",
      "Trying to load timestamp data from hdf5 file.\n",
      "Success.\n",
      "loading photodiode data... done\n",
      "Trying to load timestamp data from hdf5 file.\n",
      "Success.\n",
      "loading photodiode data... done\n",
      "Trying to load timestamp data from hdf5 file.\n",
      "Success.\n",
      "loading photodiode data... done\n",
      "Trying to load timestamp data from hdf5 file.\n",
      "Success.\n",
      "loading photodiode data... done\n"
     ]
    },
    {
     "name": "stderr",
     "output_type": "stream",
     "text": [
      "\r",
      " 19%|█▊        | 17/91 [10:24<38:19, 31.07s/it]"
     ]
    },
    {
     "name": "stdout",
     "output_type": "stream",
     "text": [
      "===== z: 17 =====\n",
      "Trying to load timestamp data from hdf5 file.\n",
      "Success.\n",
      "loading photodiode data... done\n",
      "Trying to load timestamp data from hdf5 file.\n",
      "Success.\n",
      "loading photodiode data... done\n",
      "Trying to load timestamp data from hdf5 file.\n",
      "Success.\n",
      "loading photodiode data... done\n",
      "Trying to load timestamp data from hdf5 file.\n",
      "Success.\n",
      "loading photodiode data... done\n"
     ]
    },
    {
     "name": "stderr",
     "output_type": "stream",
     "text": [
      "\r",
      " 20%|█▉        | 18/91 [10:52<36:37, 30.10s/it]"
     ]
    },
    {
     "name": "stdout",
     "output_type": "stream",
     "text": [
      "===== z: 18 =====\n",
      "Trying to load timestamp data from hdf5 file.\n",
      "Success.\n",
      "loading photodiode data... done\n",
      "Trying to load timestamp data from hdf5 file.\n",
      "Success.\n",
      "loading photodiode data... done\n",
      "Trying to load timestamp data from hdf5 file.\n",
      "Success.\n",
      "loading photodiode data... done\n",
      "Trying to load timestamp data from hdf5 file.\n",
      "Success.\n",
      "loading photodiode data... done\n"
     ]
    },
    {
     "name": "stderr",
     "output_type": "stream",
     "text": [
      "\r",
      " 21%|██        | 19/91 [11:31<39:14, 32.70s/it]"
     ]
    },
    {
     "name": "stdout",
     "output_type": "stream",
     "text": [
      "===== z: 19 =====\n",
      "Trying to load timestamp data from hdf5 file.\n",
      "Success.\n",
      "loading photodiode data... done\n",
      "Trying to load timestamp data from hdf5 file.\n",
      "Success.\n",
      "loading photodiode data... done\n",
      "Trying to load timestamp data from hdf5 file.\n",
      "Success.\n",
      "loading photodiode data... done\n",
      "Trying to load timestamp data from hdf5 file.\n",
      "Success.\n",
      "loading photodiode data... done\n"
     ]
    },
    {
     "name": "stderr",
     "output_type": "stream",
     "text": [
      "\r",
      " 22%|██▏       | 20/91 [12:09<40:40, 34.37s/it]"
     ]
    },
    {
     "name": "stdout",
     "output_type": "stream",
     "text": [
      "===== z: 20 =====\n",
      "Trying to load timestamp data from hdf5 file.\n",
      "Success.\n",
      "loading photodiode data... done\n",
      "Trying to load timestamp data from hdf5 file.\n",
      "Success.\n",
      "loading photodiode data... done\n",
      "Trying to load timestamp data from hdf5 file.\n",
      "Success.\n",
      "loading photodiode data... done\n",
      "Trying to load timestamp data from hdf5 file.\n",
      "Success.\n",
      "loading photodiode data... done\n"
     ]
    },
    {
     "name": "stderr",
     "output_type": "stream",
     "text": [
      "\r",
      " 23%|██▎       | 21/91 [12:49<41:49, 35.85s/it]"
     ]
    },
    {
     "name": "stdout",
     "output_type": "stream",
     "text": [
      "===== z: 21 =====\n",
      "Trying to load timestamp data from hdf5 file.\n",
      "Success.\n",
      "loading photodiode data... done\n",
      "Trying to load timestamp data from hdf5 file.\n",
      "Success.\n",
      "loading photodiode data... done\n",
      "Trying to load timestamp data from hdf5 file.\n",
      "Success.\n",
      "loading photodiode data... done\n",
      "Trying to load timestamp data from hdf5 file.\n",
      "Success.\n",
      "loading photodiode data... done\n"
     ]
    },
    {
     "name": "stderr",
     "output_type": "stream",
     "text": [
      "\r",
      " 24%|██▍       | 22/91 [13:30<43:07, 37.51s/it]"
     ]
    },
    {
     "name": "stdout",
     "output_type": "stream",
     "text": [
      "===== z: 22 =====\n",
      "Trying to load timestamp data from hdf5 file.\n",
      "Success.\n",
      "loading photodiode data... done\n",
      "Trying to load timestamp data from hdf5 file.\n",
      "Success.\n",
      "loading photodiode data... done\n",
      "Trying to load timestamp data from hdf5 file.\n",
      "Success.\n",
      "loading photodiode data... done\n",
      "Trying to load timestamp data from hdf5 file.\n",
      "Success.\n",
      "loading photodiode data... done\n"
     ]
    },
    {
     "name": "stderr",
     "output_type": "stream",
     "text": [
      "\r",
      " 25%|██▌       | 23/91 [14:09<43:06, 38.04s/it]"
     ]
    },
    {
     "name": "stdout",
     "output_type": "stream",
     "text": [
      "===== z: 23 =====\n",
      "Trying to load timestamp data from hdf5 file.\n",
      "Success.\n",
      "loading photodiode data... done\n",
      "Trying to load timestamp data from hdf5 file.\n",
      "Success.\n",
      "loading photodiode data... done\n",
      "Trying to load timestamp data from hdf5 file.\n",
      "Success.\n",
      "loading photodiode data... done\n",
      "Trying to load timestamp data from hdf5 file.\n",
      "Success.\n",
      "loading photodiode data... done\n"
     ]
    },
    {
     "name": "stderr",
     "output_type": "stream",
     "text": [
      "\r",
      " 26%|██▋       | 24/91 [14:52<43:58, 39.37s/it]"
     ]
    },
    {
     "name": "stdout",
     "output_type": "stream",
     "text": [
      "===== z: 24 =====\n",
      "Trying to load timestamp data from hdf5 file.\n",
      "Success.\n",
      "loading photodiode data... done\n",
      "Trying to load timestamp data from hdf5 file.\n",
      "Success.\n",
      "loading photodiode data... done\n",
      "Trying to load timestamp data from hdf5 file.\n",
      "Success.\n",
      "loading photodiode data... done\n",
      "Trying to load timestamp data from hdf5 file.\n",
      "Success.\n",
      "loading photodiode data... done\n"
     ]
    },
    {
     "name": "stderr",
     "output_type": "stream",
     "text": [
      "\r",
      " 27%|██▋       | 25/91 [15:31<43:24, 39.46s/it]"
     ]
    },
    {
     "name": "stdout",
     "output_type": "stream",
     "text": [
      "===== z: 25 =====\n",
      "Trying to load timestamp data from hdf5 file.\n",
      "Success.\n",
      "loading photodiode data... done\n",
      "Trying to load timestamp data from hdf5 file.\n",
      "Success.\n",
      "loading photodiode data... done\n",
      "Trying to load timestamp data from hdf5 file.\n",
      "Success.\n",
      "loading photodiode data... done\n",
      "Trying to load timestamp data from hdf5 file.\n",
      "Success.\n",
      "loading photodiode data... done\n"
     ]
    },
    {
     "name": "stderr",
     "output_type": "stream",
     "text": [
      "\r",
      " 29%|██▊       | 26/91 [16:11<42:47, 39.50s/it]"
     ]
    },
    {
     "name": "stdout",
     "output_type": "stream",
     "text": [
      "===== z: 26 =====\n",
      "Trying to load timestamp data from hdf5 file.\n",
      "Success.\n",
      "loading photodiode data... done\n",
      "Trying to load timestamp data from hdf5 file.\n",
      "Success.\n",
      "loading photodiode data... done\n",
      "Trying to load timestamp data from hdf5 file.\n",
      "Success.\n",
      "loading photodiode data... done\n",
      "Trying to load timestamp data from hdf5 file.\n",
      "Success.\n",
      "loading photodiode data... done\n"
     ]
    },
    {
     "name": "stderr",
     "output_type": "stream",
     "text": [
      "\r",
      " 30%|██▉       | 27/91 [16:50<41:56, 39.32s/it]"
     ]
    },
    {
     "name": "stdout",
     "output_type": "stream",
     "text": [
      "===== z: 27 =====\n",
      "Trying to load timestamp data from hdf5 file.\n",
      "Success.\n",
      "loading photodiode data... done\n",
      "Trying to load timestamp data from hdf5 file.\n",
      "Success.\n",
      "loading photodiode data... done\n",
      "Trying to load timestamp data from hdf5 file.\n",
      "Success.\n",
      "loading photodiode data... done\n",
      "Trying to load timestamp data from hdf5 file.\n",
      "Success.\n",
      "loading photodiode data... done\n"
     ]
    },
    {
     "name": "stderr",
     "output_type": "stream",
     "text": [
      "\r",
      " 31%|███       | 28/91 [17:32<42:09, 40.15s/it]"
     ]
    },
    {
     "name": "stdout",
     "output_type": "stream",
     "text": [
      "===== z: 28 =====\n",
      "Trying to load timestamp data from hdf5 file.\n",
      "Success.\n",
      "loading photodiode data... done\n",
      "Trying to load timestamp data from hdf5 file.\n",
      "Success.\n",
      "loading photodiode data... done\n",
      "Trying to load timestamp data from hdf5 file.\n",
      "Success.\n",
      "loading photodiode data... done\n",
      "Trying to load timestamp data from hdf5 file.\n",
      "Success.\n",
      "loading photodiode data... done\n"
     ]
    },
    {
     "name": "stderr",
     "output_type": "stream",
     "text": [
      "\r",
      " 32%|███▏      | 29/91 [18:11<41:11, 39.87s/it]"
     ]
    },
    {
     "name": "stdout",
     "output_type": "stream",
     "text": [
      "===== z: 29 =====\n",
      "Trying to load timestamp data from hdf5 file.\n",
      "Success.\n",
      "loading photodiode data... done\n",
      "Trying to load timestamp data from hdf5 file.\n",
      "Success.\n",
      "loading photodiode data... done\n",
      "Trying to load timestamp data from hdf5 file.\n",
      "Success.\n",
      "loading photodiode data... done\n",
      "Trying to load timestamp data from hdf5 file.\n",
      "Success.\n",
      "loading photodiode data... done\n"
     ]
    },
    {
     "name": "stderr",
     "output_type": "stream",
     "text": [
      "\r",
      " 33%|███▎      | 30/91 [18:50<40:10, 39.51s/it]"
     ]
    },
    {
     "name": "stdout",
     "output_type": "stream",
     "text": [
      "===== z: 30 =====\n",
      "Trying to load timestamp data from hdf5 file.\n",
      "Success.\n",
      "loading photodiode data... done\n",
      "Trying to load timestamp data from hdf5 file.\n",
      "Success.\n",
      "loading photodiode data... done\n",
      "Trying to load timestamp data from hdf5 file.\n",
      "Success.\n",
      "loading photodiode data... done\n",
      "Trying to load timestamp data from hdf5 file.\n",
      "Success.\n",
      "loading photodiode data... done\n"
     ]
    },
    {
     "name": "stderr",
     "output_type": "stream",
     "text": [
      "\r",
      " 34%|███▍      | 31/91 [19:32<40:17, 40.29s/it]"
     ]
    },
    {
     "name": "stdout",
     "output_type": "stream",
     "text": [
      "===== z: 31 =====\n",
      "Trying to load timestamp data from hdf5 file.\n",
      "Success.\n",
      "loading photodiode data... done\n",
      "Trying to load timestamp data from hdf5 file.\n",
      "Success.\n",
      "loading photodiode data... done\n",
      "Trying to load timestamp data from hdf5 file.\n",
      "Success.\n",
      "loading photodiode data... done\n",
      "Trying to load timestamp data from hdf5 file.\n",
      "Success.\n",
      "loading photodiode data... done\n"
     ]
    },
    {
     "name": "stderr",
     "output_type": "stream",
     "text": [
      "\r",
      " 35%|███▌      | 32/91 [20:13<39:50, 40.52s/it]"
     ]
    },
    {
     "name": "stdout",
     "output_type": "stream",
     "text": [
      "===== z: 32 =====\n",
      "Trying to load timestamp data from hdf5 file.\n",
      "Success.\n",
      "loading photodiode data... done\n",
      "Trying to load timestamp data from hdf5 file.\n",
      "Success.\n",
      "loading photodiode data... done\n",
      "Trying to load timestamp data from hdf5 file.\n",
      "Success.\n",
      "loading photodiode data... done\n",
      "Trying to load timestamp data from hdf5 file.\n",
      "Success.\n",
      "loading photodiode data... done\n"
     ]
    },
    {
     "name": "stderr",
     "output_type": "stream",
     "text": [
      "\r",
      " 36%|███▋      | 33/91 [20:53<38:53, 40.23s/it]"
     ]
    },
    {
     "name": "stdout",
     "output_type": "stream",
     "text": [
      "===== z: 33 =====\n",
      "Trying to load timestamp data from hdf5 file.\n",
      "Success.\n",
      "loading photodiode data... done\n",
      "Trying to load timestamp data from hdf5 file.\n",
      "Success.\n",
      "loading photodiode data... done\n",
      "Trying to load timestamp data from hdf5 file.\n",
      "Success.\n",
      "loading photodiode data... done\n",
      "Trying to load timestamp data from hdf5 file.\n",
      "Success.\n",
      "loading photodiode data... done\n"
     ]
    },
    {
     "name": "stderr",
     "output_type": "stream",
     "text": [
      "\r",
      " 37%|███▋      | 34/91 [21:33<38:20, 40.36s/it]"
     ]
    },
    {
     "name": "stdout",
     "output_type": "stream",
     "text": [
      "===== z: 34 =====\n",
      "Trying to load timestamp data from hdf5 file.\n",
      "Success.\n",
      "loading photodiode data... done\n",
      "Trying to load timestamp data from hdf5 file.\n",
      "Success.\n",
      "loading photodiode data... done\n",
      "Trying to load timestamp data from hdf5 file.\n",
      "Success.\n",
      "loading photodiode data... done\n",
      "Trying to load timestamp data from hdf5 file.\n",
      "Success.\n",
      "loading photodiode data... done\n"
     ]
    },
    {
     "name": "stderr",
     "output_type": "stream",
     "text": [
      "\r",
      " 38%|███▊      | 35/91 [22:13<37:24, 40.09s/it]"
     ]
    },
    {
     "name": "stdout",
     "output_type": "stream",
     "text": [
      "===== z: 35 =====\n",
      "Trying to load timestamp data from hdf5 file.\n",
      "Success.\n",
      "loading photodiode data... done\n",
      "Trying to load timestamp data from hdf5 file.\n",
      "Success.\n",
      "loading photodiode data... done\n",
      "Trying to load timestamp data from hdf5 file.\n",
      "Success.\n",
      "loading photodiode data... done\n",
      "Trying to load timestamp data from hdf5 file.\n",
      "Success.\n",
      "loading photodiode data... done\n"
     ]
    },
    {
     "name": "stderr",
     "output_type": "stream",
     "text": [
      "\r",
      " 40%|███▉      | 36/91 [22:53<36:49, 40.17s/it]"
     ]
    },
    {
     "name": "stdout",
     "output_type": "stream",
     "text": [
      "===== z: 36 =====\n",
      "Trying to load timestamp data from hdf5 file.\n",
      "Success.\n",
      "loading photodiode data... done\n",
      "Trying to load timestamp data from hdf5 file.\n",
      "Success.\n",
      "loading photodiode data... done\n",
      "Trying to load timestamp data from hdf5 file.\n",
      "Success.\n",
      "loading photodiode data... done\n",
      "Trying to load timestamp data from hdf5 file.\n",
      "Success.\n",
      "loading photodiode data... done\n"
     ]
    },
    {
     "name": "stderr",
     "output_type": "stream",
     "text": [
      "\r",
      " 41%|████      | 37/91 [23:32<35:46, 39.75s/it]"
     ]
    },
    {
     "name": "stdout",
     "output_type": "stream",
     "text": [
      "===== z: 37 =====\n",
      "Trying to load timestamp data from hdf5 file.\n",
      "Success.\n",
      "loading photodiode data... done\n",
      "Trying to load timestamp data from hdf5 file.\n",
      "Success.\n",
      "loading photodiode data... done\n",
      "Trying to load timestamp data from hdf5 file.\n",
      "Success.\n",
      "loading photodiode data... done\n",
      "Trying to load timestamp data from hdf5 file.\n",
      "Success.\n",
      "loading photodiode data... done\n"
     ]
    },
    {
     "name": "stderr",
     "output_type": "stream",
     "text": [
      "\r",
      " 42%|████▏     | 38/91 [24:12<35:08, 39.79s/it]"
     ]
    },
    {
     "name": "stdout",
     "output_type": "stream",
     "text": [
      "===== z: 38 =====\n",
      "Trying to load timestamp data from hdf5 file.\n",
      "Success.\n",
      "loading photodiode data... done\n",
      "Trying to load timestamp data from hdf5 file.\n",
      "Success.\n",
      "loading photodiode data... done\n",
      "Trying to load timestamp data from hdf5 file.\n",
      "Success.\n",
      "loading photodiode data... done\n",
      "Trying to load timestamp data from hdf5 file.\n",
      "Success.\n",
      "loading photodiode data... done\n"
     ]
    },
    {
     "name": "stderr",
     "output_type": "stream",
     "text": [
      "\r",
      " 43%|████▎     | 39/91 [24:53<35:00, 40.40s/it]"
     ]
    },
    {
     "name": "stdout",
     "output_type": "stream",
     "text": [
      "===== z: 39 =====\n",
      "Trying to load timestamp data from hdf5 file.\n",
      "Success.\n",
      "loading photodiode data... done\n",
      "Trying to load timestamp data from hdf5 file.\n",
      "Success.\n",
      "loading photodiode data... done\n",
      "Trying to load timestamp data from hdf5 file.\n",
      "Success.\n",
      "loading photodiode data... done\n",
      "Trying to load timestamp data from hdf5 file.\n",
      "Success.\n",
      "loading photodiode data... done\n"
     ]
    },
    {
     "name": "stderr",
     "output_type": "stream",
     "text": [
      "\r",
      " 44%|████▍     | 40/91 [25:34<34:17, 40.35s/it]"
     ]
    },
    {
     "name": "stdout",
     "output_type": "stream",
     "text": [
      "===== z: 40 =====\n",
      "Trying to load timestamp data from hdf5 file.\n",
      "Success.\n",
      "loading photodiode data... done\n",
      "Trying to load timestamp data from hdf5 file.\n",
      "Success.\n",
      "loading photodiode data... done\n",
      "Trying to load timestamp data from hdf5 file.\n",
      "Success.\n",
      "loading photodiode data... done\n",
      "Trying to load timestamp data from hdf5 file.\n",
      "Success.\n",
      "loading photodiode data... done\n"
     ]
    },
    {
     "name": "stderr",
     "output_type": "stream",
     "text": [
      "\r",
      " 45%|████▌     | 41/91 [26:13<33:16, 39.92s/it]"
     ]
    },
    {
     "name": "stdout",
     "output_type": "stream",
     "text": [
      "===== z: 41 =====\n",
      "Trying to load timestamp data from hdf5 file.\n",
      "Success.\n",
      "loading photodiode data... done\n",
      "Trying to load timestamp data from hdf5 file.\n",
      "Success.\n",
      "loading photodiode data... done\n",
      "Trying to load timestamp data from hdf5 file.\n",
      "Success.\n",
      "loading photodiode data... done\n",
      "Trying to load timestamp data from hdf5 file.\n",
      "Success.\n",
      "loading photodiode data... done\n"
     ]
    },
    {
     "name": "stderr",
     "output_type": "stream",
     "text": [
      "\r",
      " 46%|████▌     | 42/91 [26:55<33:15, 40.72s/it]"
     ]
    },
    {
     "name": "stdout",
     "output_type": "stream",
     "text": [
      "===== z: 42 =====\n",
      "Trying to load timestamp data from hdf5 file.\n",
      "Success.\n",
      "loading photodiode data... done\n",
      "Trying to load timestamp data from hdf5 file.\n",
      "Success.\n",
      "loading photodiode data... done\n",
      "Trying to load timestamp data from hdf5 file.\n",
      "Success.\n",
      "loading photodiode data... done\n",
      "Trying to load timestamp data from hdf5 file.\n",
      "Success.\n",
      "loading photodiode data... done\n"
     ]
    },
    {
     "name": "stderr",
     "output_type": "stream",
     "text": [
      "\r",
      " 47%|████▋     | 43/91 [27:35<32:25, 40.53s/it]"
     ]
    },
    {
     "name": "stdout",
     "output_type": "stream",
     "text": [
      "===== z: 43 =====\n",
      "Trying to load timestamp data from hdf5 file.\n",
      "Success.\n",
      "loading photodiode data... done\n",
      "Trying to load timestamp data from hdf5 file.\n",
      "Success.\n",
      "loading photodiode data... done\n",
      "Trying to load timestamp data from hdf5 file.\n",
      "Success.\n",
      "loading photodiode data... done\n",
      "Trying to load timestamp data from hdf5 file.\n",
      "Success.\n",
      "loading photodiode data... done\n"
     ]
    },
    {
     "name": "stderr",
     "output_type": "stream",
     "text": [
      "\r",
      " 48%|████▊     | 44/91 [28:15<31:40, 40.43s/it]"
     ]
    },
    {
     "name": "stdout",
     "output_type": "stream",
     "text": [
      "===== z: 44 =====\n",
      "Trying to load timestamp data from hdf5 file.\n",
      "Success.\n",
      "loading photodiode data... done\n",
      "Trying to load timestamp data from hdf5 file.\n",
      "Success.\n",
      "loading photodiode data... done\n",
      "Trying to load timestamp data from hdf5 file.\n",
      "Success.\n",
      "loading photodiode data... done\n",
      "Trying to load timestamp data from hdf5 file.\n",
      "Success.\n",
      "loading photodiode data... done\n"
     ]
    },
    {
     "name": "stderr",
     "output_type": "stream",
     "text": [
      "\r",
      " 49%|████▉     | 45/91 [28:55<30:51, 40.26s/it]"
     ]
    },
    {
     "name": "stdout",
     "output_type": "stream",
     "text": [
      "===== z: 45 =====\n",
      "Trying to load timestamp data from hdf5 file.\n",
      "Success.\n",
      "loading photodiode data... done\n",
      "Trying to load timestamp data from hdf5 file.\n",
      "Success.\n",
      "loading photodiode data... done\n",
      "Trying to load timestamp data from hdf5 file.\n",
      "Success.\n",
      "loading photodiode data... done\n",
      "Trying to load timestamp data from hdf5 file.\n",
      "Success.\n",
      "loading photodiode data... done\n"
     ]
    },
    {
     "name": "stderr",
     "output_type": "stream",
     "text": [
      "\r",
      " 51%|█████     | 46/91 [29:36<30:16, 40.37s/it]"
     ]
    },
    {
     "name": "stdout",
     "output_type": "stream",
     "text": [
      "===== z: 46 =====\n",
      "Trying to load timestamp data from hdf5 file.\n",
      "Success.\n",
      "loading photodiode data... done\n",
      "Trying to load timestamp data from hdf5 file.\n",
      "Success.\n",
      "loading photodiode data... done\n",
      "Trying to load timestamp data from hdf5 file.\n",
      "Success.\n",
      "loading photodiode data... done\n",
      "Trying to load timestamp data from hdf5 file.\n",
      "Success.\n",
      "loading photodiode data... done\n"
     ]
    },
    {
     "name": "stderr",
     "output_type": "stream",
     "text": [
      "\r",
      " 52%|█████▏    | 47/91 [30:17<29:42, 40.52s/it]"
     ]
    },
    {
     "name": "stdout",
     "output_type": "stream",
     "text": [
      "===== z: 47 =====\n",
      "Trying to load timestamp data from hdf5 file.\n",
      "Success.\n",
      "loading photodiode data... done\n",
      "Trying to load timestamp data from hdf5 file.\n",
      "Success.\n",
      "loading photodiode data... done\n",
      "Trying to load timestamp data from hdf5 file.\n",
      "Success.\n",
      "loading photodiode data... done\n",
      "Trying to load timestamp data from hdf5 file.\n",
      "Success.\n",
      "loading photodiode data... done\n"
     ]
    },
    {
     "name": "stderr",
     "output_type": "stream",
     "text": [
      "\r",
      " 53%|█████▎    | 48/91 [30:57<28:54, 40.33s/it]"
     ]
    },
    {
     "name": "stdout",
     "output_type": "stream",
     "text": [
      "===== z: 48 =====\n",
      "Trying to load timestamp data from hdf5 file.\n",
      "Success.\n",
      "loading photodiode data... done\n",
      "Trying to load timestamp data from hdf5 file.\n",
      "Success.\n",
      "loading photodiode data... done\n",
      "Trying to load timestamp data from hdf5 file.\n",
      "Success.\n",
      "loading photodiode data... done\n",
      "Trying to load timestamp data from hdf5 file.\n",
      "Success.\n",
      "loading photodiode data... done\n"
     ]
    },
    {
     "name": "stderr",
     "output_type": "stream",
     "text": [
      "\r",
      " 54%|█████▍    | 49/91 [31:36<28:03, 40.08s/it]"
     ]
    },
    {
     "name": "stdout",
     "output_type": "stream",
     "text": [
      "===== z: 49 =====\n",
      "Trying to load timestamp data from hdf5 file.\n",
      "Success.\n",
      "loading photodiode data... done\n",
      "Trying to load timestamp data from hdf5 file.\n",
      "Success.\n",
      "loading photodiode data... done\n",
      "Trying to load timestamp data from hdf5 file.\n",
      "Success.\n",
      "loading photodiode data... done\n",
      "Trying to load timestamp data from hdf5 file.\n",
      "Success.\n",
      "loading photodiode data... done\n"
     ]
    },
    {
     "name": "stderr",
     "output_type": "stream",
     "text": [
      "\r",
      " 55%|█████▍    | 50/91 [32:18<27:44, 40.61s/it]"
     ]
    },
    {
     "name": "stdout",
     "output_type": "stream",
     "text": [
      "===== z: 50 =====\n",
      "Trying to load timestamp data from hdf5 file.\n",
      "Success.\n",
      "loading photodiode data... done\n",
      "Trying to load timestamp data from hdf5 file.\n",
      "Success.\n",
      "loading photodiode data... done\n",
      "Trying to load timestamp data from hdf5 file.\n",
      "Success.\n",
      "loading photodiode data... done\n",
      "Trying to load timestamp data from hdf5 file.\n",
      "Success.\n",
      "loading photodiode data... done\n"
     ]
    },
    {
     "name": "stderr",
     "output_type": "stream",
     "text": [
      "\r",
      " 56%|█████▌    | 51/91 [32:58<26:55, 40.39s/it]"
     ]
    },
    {
     "name": "stdout",
     "output_type": "stream",
     "text": [
      "===== z: 51 =====\n",
      "Trying to load timestamp data from hdf5 file.\n",
      "Success.\n",
      "loading photodiode data... done\n",
      "Trying to load timestamp data from hdf5 file.\n",
      "Success.\n",
      "loading photodiode data... done\n",
      "Trying to load timestamp data from hdf5 file.\n",
      "Success.\n",
      "loading photodiode data... done\n",
      "Trying to load timestamp data from hdf5 file.\n",
      "Success.\n",
      "loading photodiode data... done\n"
     ]
    },
    {
     "name": "stderr",
     "output_type": "stream",
     "text": [
      "\r",
      " 57%|█████▋    | 52/91 [33:38<26:12, 40.32s/it]"
     ]
    },
    {
     "name": "stdout",
     "output_type": "stream",
     "text": [
      "===== z: 52 =====\n",
      "Trying to load timestamp data from hdf5 file.\n",
      "Success.\n",
      "loading photodiode data... done\n",
      "Trying to load timestamp data from hdf5 file.\n",
      "Success.\n",
      "loading photodiode data... done\n",
      "Trying to load timestamp data from hdf5 file.\n",
      "Success.\n",
      "loading photodiode data... done\n",
      "Trying to load timestamp data from hdf5 file.\n",
      "Success.\n",
      "loading photodiode data... done\n"
     ]
    },
    {
     "name": "stderr",
     "output_type": "stream",
     "text": [
      "\r",
      " 58%|█████▊    | 53/91 [34:18<25:32, 40.32s/it]"
     ]
    },
    {
     "name": "stdout",
     "output_type": "stream",
     "text": [
      "===== z: 53 =====\n",
      "Trying to load timestamp data from hdf5 file.\n",
      "Success.\n",
      "loading photodiode data... done\n",
      "Trying to load timestamp data from hdf5 file.\n",
      "Success.\n",
      "loading photodiode data... done\n",
      "Trying to load timestamp data from hdf5 file.\n",
      "Success.\n",
      "loading photodiode data... done\n",
      "Trying to load timestamp data from hdf5 file.\n",
      "Success.\n",
      "loading photodiode data... done\n"
     ]
    },
    {
     "name": "stderr",
     "output_type": "stream",
     "text": [
      "\r",
      " 59%|█████▉    | 54/91 [34:58<24:48, 40.24s/it]"
     ]
    },
    {
     "name": "stdout",
     "output_type": "stream",
     "text": [
      "===== z: 54 =====\n",
      "Trying to load timestamp data from hdf5 file.\n",
      "Success.\n",
      "loading photodiode data... done\n",
      "Trying to load timestamp data from hdf5 file.\n",
      "Success.\n",
      "loading photodiode data... done\n",
      "Trying to load timestamp data from hdf5 file.\n",
      "Success.\n",
      "loading photodiode data... done\n",
      "Trying to load timestamp data from hdf5 file.\n",
      "Success.\n",
      "loading photodiode data... done\n"
     ]
    },
    {
     "name": "stderr",
     "output_type": "stream",
     "text": [
      "\r",
      " 60%|██████    | 55/91 [35:39<24:06, 40.18s/it]"
     ]
    },
    {
     "name": "stdout",
     "output_type": "stream",
     "text": [
      "===== z: 55 =====\n",
      "Trying to load timestamp data from hdf5 file.\n",
      "Success.\n",
      "loading photodiode data... done\n",
      "Trying to load timestamp data from hdf5 file.\n",
      "Success.\n",
      "loading photodiode data... done\n",
      "Trying to load timestamp data from hdf5 file.\n",
      "Success.\n",
      "loading photodiode data... done\n",
      "Trying to load timestamp data from hdf5 file.\n",
      "Success.\n",
      "loading photodiode data... done\n"
     ]
    },
    {
     "name": "stderr",
     "output_type": "stream",
     "text": [
      "\r",
      " 62%|██████▏   | 56/91 [36:19<23:26, 40.18s/it]"
     ]
    },
    {
     "name": "stdout",
     "output_type": "stream",
     "text": [
      "===== z: 56 =====\n",
      "Trying to load timestamp data from hdf5 file.\n",
      "Success.\n",
      "loading photodiode data... done\n",
      "Trying to load timestamp data from hdf5 file.\n",
      "Success.\n",
      "loading photodiode data... done\n",
      "Trying to load timestamp data from hdf5 file.\n",
      "Success.\n",
      "loading photodiode data... done\n",
      "Trying to load timestamp data from hdf5 file.\n",
      "Success.\n",
      "loading photodiode data... done\n"
     ]
    },
    {
     "name": "stderr",
     "output_type": "stream",
     "text": [
      "\r",
      " 63%|██████▎   | 57/91 [36:59<22:43, 40.11s/it]"
     ]
    },
    {
     "name": "stdout",
     "output_type": "stream",
     "text": [
      "===== z: 57 =====\n",
      "Trying to load timestamp data from hdf5 file.\n",
      "Success.\n",
      "loading photodiode data... done\n",
      "Trying to load timestamp data from hdf5 file.\n",
      "Success.\n",
      "loading photodiode data... done\n",
      "Trying to load timestamp data from hdf5 file.\n",
      "Success.\n",
      "loading photodiode data... done\n",
      "Trying to load timestamp data from hdf5 file.\n",
      "Success.\n",
      "loading photodiode data... done\n"
     ]
    },
    {
     "name": "stderr",
     "output_type": "stream",
     "text": [
      "\r",
      " 64%|██████▎   | 58/91 [37:38<21:55, 39.87s/it]"
     ]
    },
    {
     "name": "stdout",
     "output_type": "stream",
     "text": [
      "===== z: 58 =====\n",
      "Trying to load timestamp data from hdf5 file.\n",
      "Success.\n",
      "loading photodiode data... done\n",
      "Trying to load timestamp data from hdf5 file.\n",
      "Success.\n",
      "loading photodiode data... done\n",
      "Trying to load timestamp data from hdf5 file.\n",
      "Success.\n",
      "loading photodiode data... done\n",
      "Trying to load timestamp data from hdf5 file.\n",
      "Success.\n",
      "loading photodiode data... done\n"
     ]
    },
    {
     "name": "stderr",
     "output_type": "stream",
     "text": [
      "\r",
      " 65%|██████▍   | 59/91 [38:19<21:30, 40.31s/it]"
     ]
    },
    {
     "name": "stdout",
     "output_type": "stream",
     "text": [
      "===== z: 59 =====\n",
      "Trying to load timestamp data from hdf5 file.\n",
      "Success.\n",
      "loading photodiode data... done\n",
      "Trying to load timestamp data from hdf5 file.\n",
      "Success.\n",
      "loading photodiode data... done\n",
      "Trying to load timestamp data from hdf5 file.\n",
      "Success.\n",
      "loading photodiode data... done\n",
      "Trying to load timestamp data from hdf5 file.\n",
      "Success.\n",
      "loading photodiode data... done\n"
     ]
    },
    {
     "name": "stderr",
     "output_type": "stream",
     "text": [
      "\r",
      " 66%|██████▌   | 60/91 [38:59<20:46, 40.20s/it]"
     ]
    },
    {
     "name": "stdout",
     "output_type": "stream",
     "text": [
      "===== z: 60 =====\n",
      "Trying to load timestamp data from hdf5 file.\n",
      "Success.\n",
      "loading photodiode data... done\n",
      "Trying to load timestamp data from hdf5 file.\n",
      "Success.\n",
      "loading photodiode data... done\n",
      "Trying to load timestamp data from hdf5 file.\n",
      "Success.\n",
      "loading photodiode data... done\n",
      "Trying to load timestamp data from hdf5 file.\n",
      "Success.\n",
      "loading photodiode data... done\n"
     ]
    },
    {
     "name": "stderr",
     "output_type": "stream",
     "text": [
      "\r",
      " 67%|██████▋   | 61/91 [39:38<19:54, 39.81s/it]"
     ]
    },
    {
     "name": "stdout",
     "output_type": "stream",
     "text": [
      "===== z: 61 =====\n",
      "Trying to load timestamp data from hdf5 file.\n",
      "Success.\n",
      "loading photodiode data... done\n",
      "Trying to load timestamp data from hdf5 file.\n",
      "Success.\n",
      "loading photodiode data... done\n",
      "Trying to load timestamp data from hdf5 file.\n",
      "Success.\n",
      "loading photodiode data... done\n",
      "Trying to load timestamp data from hdf5 file.\n",
      "Success.\n",
      "loading photodiode data... done\n"
     ]
    },
    {
     "name": "stderr",
     "output_type": "stream",
     "text": [
      "\r",
      " 68%|██████▊   | 62/91 [40:18<19:18, 39.95s/it]"
     ]
    },
    {
     "name": "stdout",
     "output_type": "stream",
     "text": [
      "===== z: 62 =====\n",
      "Trying to load timestamp data from hdf5 file.\n",
      "Success.\n",
      "loading photodiode data... done\n",
      "Trying to load timestamp data from hdf5 file.\n",
      "Success.\n",
      "loading photodiode data... done\n",
      "Trying to load timestamp data from hdf5 file.\n",
      "Success.\n",
      "loading photodiode data... done\n",
      "Trying to load timestamp data from hdf5 file.\n",
      "Success.\n",
      "loading photodiode data... done\n"
     ]
    },
    {
     "name": "stderr",
     "output_type": "stream",
     "text": [
      "\r",
      " 69%|██████▉   | 63/91 [40:58<18:33, 39.78s/it]"
     ]
    },
    {
     "name": "stdout",
     "output_type": "stream",
     "text": [
      "===== z: 63 =====\n",
      "Trying to load timestamp data from hdf5 file.\n",
      "Success.\n",
      "loading photodiode data... done\n",
      "Trying to load timestamp data from hdf5 file.\n",
      "Success.\n",
      "loading photodiode data... done\n",
      "Trying to load timestamp data from hdf5 file.\n",
      "Success.\n",
      "loading photodiode data... done\n",
      "Trying to load timestamp data from hdf5 file.\n",
      "Success.\n",
      "loading photodiode data... done\n"
     ]
    },
    {
     "name": "stderr",
     "output_type": "stream",
     "text": [
      "\r",
      " 70%|███████   | 64/91 [41:36<17:45, 39.46s/it]"
     ]
    },
    {
     "name": "stdout",
     "output_type": "stream",
     "text": [
      "===== z: 64 =====\n",
      "Trying to load timestamp data from hdf5 file.\n",
      "Success.\n",
      "loading photodiode data... done\n",
      "Trying to load timestamp data from hdf5 file.\n",
      "Success.\n",
      "loading photodiode data... done\n",
      "Trying to load timestamp data from hdf5 file.\n",
      "Success.\n",
      "loading photodiode data... done\n",
      "Trying to load timestamp data from hdf5 file.\n",
      "Success.\n",
      "loading photodiode data... done\n"
     ]
    },
    {
     "name": "stderr",
     "output_type": "stream",
     "text": [
      "\r",
      " 71%|███████▏  | 65/91 [42:18<17:19, 39.99s/it]"
     ]
    },
    {
     "name": "stdout",
     "output_type": "stream",
     "text": [
      "===== z: 65 =====\n",
      "Trying to load timestamp data from hdf5 file.\n",
      "Success.\n",
      "loading photodiode data... done\n",
      "Trying to load timestamp data from hdf5 file.\n",
      "Success.\n",
      "loading photodiode data... done\n",
      "Trying to load timestamp data from hdf5 file.\n",
      "Success.\n",
      "loading photodiode data... done\n",
      "Trying to load timestamp data from hdf5 file.\n",
      "Success.\n",
      "loading photodiode data... done\n"
     ]
    },
    {
     "name": "stderr",
     "output_type": "stream",
     "text": [
      "\r",
      " 73%|███████▎  | 66/91 [42:58<16:40, 40.03s/it]"
     ]
    },
    {
     "name": "stdout",
     "output_type": "stream",
     "text": [
      "===== z: 66 =====\n",
      "Trying to load timestamp data from hdf5 file.\n",
      "Success.\n",
      "loading photodiode data... done\n",
      "Trying to load timestamp data from hdf5 file.\n",
      "Success.\n",
      "loading photodiode data... done\n",
      "Trying to load timestamp data from hdf5 file.\n",
      "Success.\n",
      "loading photodiode data... done\n",
      "Trying to load timestamp data from hdf5 file.\n",
      "Success.\n",
      "loading photodiode data... done\n"
     ]
    },
    {
     "name": "stderr",
     "output_type": "stream",
     "text": [
      "\r",
      " 74%|███████▎  | 67/91 [43:37<15:57, 39.90s/it]"
     ]
    },
    {
     "name": "stdout",
     "output_type": "stream",
     "text": [
      "===== z: 67 =====\n",
      "Trying to load timestamp data from hdf5 file.\n",
      "Success.\n",
      "loading photodiode data... done\n",
      "Trying to load timestamp data from hdf5 file.\n",
      "Success.\n",
      "loading photodiode data... done\n",
      "Trying to load timestamp data from hdf5 file.\n",
      "Success.\n",
      "loading photodiode data... done\n",
      "Trying to load timestamp data from hdf5 file.\n",
      "Success.\n",
      "loading photodiode data... done\n"
     ]
    },
    {
     "name": "stderr",
     "output_type": "stream",
     "text": [
      "\r",
      " 75%|███████▍  | 68/91 [44:17<15:16, 39.87s/it]"
     ]
    },
    {
     "name": "stdout",
     "output_type": "stream",
     "text": [
      "===== z: 68 =====\n",
      "Trying to load timestamp data from hdf5 file.\n",
      "Success.\n",
      "loading photodiode data... done\n",
      "Trying to load timestamp data from hdf5 file.\n",
      "Success.\n",
      "loading photodiode data... done\n",
      "Trying to load timestamp data from hdf5 file.\n",
      "Success.\n",
      "loading photodiode data... done\n",
      "Trying to load timestamp data from hdf5 file.\n",
      "Success.\n",
      "loading photodiode data... done\n"
     ]
    },
    {
     "name": "stderr",
     "output_type": "stream",
     "text": [
      "\r",
      " 76%|███████▌  | 69/91 [44:57<14:37, 39.87s/it]"
     ]
    },
    {
     "name": "stdout",
     "output_type": "stream",
     "text": [
      "===== z: 69 =====\n",
      "Trying to load timestamp data from hdf5 file.\n",
      "Success.\n",
      "loading photodiode data... done\n",
      "Trying to load timestamp data from hdf5 file.\n",
      "Success.\n",
      "loading photodiode data... done\n",
      "Trying to load timestamp data from hdf5 file.\n",
      "Success.\n",
      "loading photodiode data... done\n",
      "Trying to load timestamp data from hdf5 file.\n",
      "Success.\n",
      "loading photodiode data... done\n"
     ]
    },
    {
     "name": "stderr",
     "output_type": "stream",
     "text": [
      "\r",
      " 77%|███████▋  | 70/91 [45:37<13:56, 39.83s/it]"
     ]
    },
    {
     "name": "stdout",
     "output_type": "stream",
     "text": [
      "===== z: 70 =====\n",
      "Trying to load timestamp data from hdf5 file.\n",
      "Success.\n",
      "loading photodiode data... done\n",
      "Trying to load timestamp data from hdf5 file.\n",
      "Success.\n",
      "loading photodiode data... done\n",
      "Trying to load timestamp data from hdf5 file.\n",
      "Success.\n",
      "loading photodiode data... done\n",
      "Trying to load timestamp data from hdf5 file.\n",
      "Success.\n",
      "loading photodiode data... done\n"
     ]
    },
    {
     "name": "stderr",
     "output_type": "stream",
     "text": [
      "\r",
      " 78%|███████▊  | 71/91 [46:16<13:13, 39.65s/it]"
     ]
    },
    {
     "name": "stdout",
     "output_type": "stream",
     "text": [
      "===== z: 71 =====\n",
      "Trying to load timestamp data from hdf5 file.\n",
      "Success.\n",
      "loading photodiode data... done\n",
      "Trying to load timestamp data from hdf5 file.\n",
      "Success.\n",
      "loading photodiode data... done\n",
      "Trying to load timestamp data from hdf5 file.\n",
      "Success.\n",
      "loading photodiode data... done\n",
      "Trying to load timestamp data from hdf5 file.\n",
      "Success.\n",
      "loading photodiode data... done\n"
     ]
    },
    {
     "name": "stderr",
     "output_type": "stream",
     "text": [
      "\r",
      " 79%|███████▉  | 72/91 [46:55<12:31, 39.58s/it]"
     ]
    },
    {
     "name": "stdout",
     "output_type": "stream",
     "text": [
      "===== z: 72 =====\n",
      "Trying to load timestamp data from hdf5 file.\n",
      "Success.\n",
      "loading photodiode data... done\n",
      "Trying to load timestamp data from hdf5 file.\n",
      "Success.\n",
      "loading photodiode data... done\n",
      "Trying to load timestamp data from hdf5 file.\n",
      "Success.\n",
      "loading photodiode data... done\n",
      "Trying to load timestamp data from hdf5 file.\n",
      "Success.\n",
      "loading photodiode data... done\n"
     ]
    },
    {
     "name": "stderr",
     "output_type": "stream",
     "text": [
      "\r",
      " 80%|████████  | 73/91 [47:34<11:48, 39.34s/it]"
     ]
    },
    {
     "name": "stdout",
     "output_type": "stream",
     "text": [
      "===== z: 73 =====\n",
      "Trying to load timestamp data from hdf5 file.\n",
      "Success.\n",
      "loading photodiode data... done\n",
      "Trying to load timestamp data from hdf5 file.\n",
      "Success.\n",
      "loading photodiode data... done\n",
      "Trying to load timestamp data from hdf5 file.\n",
      "Success.\n",
      "loading photodiode data... done\n",
      "Trying to load timestamp data from hdf5 file.\n",
      "Success.\n",
      "loading photodiode data... done\n"
     ]
    },
    {
     "name": "stderr",
     "output_type": "stream",
     "text": [
      "\r",
      " 81%|████████▏ | 74/91 [48:14<11:08, 39.33s/it]"
     ]
    },
    {
     "name": "stdout",
     "output_type": "stream",
     "text": [
      "===== z: 74 =====\n",
      "Trying to load timestamp data from hdf5 file.\n",
      "Success.\n",
      "loading photodiode data... done\n",
      "Trying to load timestamp data from hdf5 file.\n",
      "Success.\n",
      "loading photodiode data... done\n",
      "Trying to load timestamp data from hdf5 file.\n",
      "Success.\n",
      "loading photodiode data... done\n",
      "Trying to load timestamp data from hdf5 file.\n",
      "Success.\n",
      "loading photodiode data... done\n"
     ]
    },
    {
     "name": "stderr",
     "output_type": "stream",
     "text": [
      "\r",
      " 82%|████████▏ | 75/91 [48:56<10:45, 40.36s/it]"
     ]
    },
    {
     "name": "stdout",
     "output_type": "stream",
     "text": [
      "===== z: 75 =====\n",
      "Trying to load timestamp data from hdf5 file.\n",
      "Success.\n",
      "loading photodiode data... done\n",
      "Trying to load timestamp data from hdf5 file.\n",
      "Success.\n",
      "loading photodiode data... done\n",
      "Trying to load timestamp data from hdf5 file.\n",
      "Success.\n",
      "loading photodiode data... done\n",
      "Trying to load timestamp data from hdf5 file.\n",
      "Success.\n",
      "loading photodiode data... done\n"
     ]
    },
    {
     "name": "stderr",
     "output_type": "stream",
     "text": [
      "\r",
      " 84%|████████▎ | 76/91 [49:36<10:01, 40.09s/it]"
     ]
    },
    {
     "name": "stdout",
     "output_type": "stream",
     "text": [
      "===== z: 76 =====\n",
      "Trying to load timestamp data from hdf5 file.\n",
      "Success.\n",
      "loading photodiode data... done\n",
      "Trying to load timestamp data from hdf5 file.\n",
      "Success.\n",
      "loading photodiode data... done\n",
      "Trying to load timestamp data from hdf5 file.\n",
      "Success.\n",
      "loading photodiode data... done\n",
      "Trying to load timestamp data from hdf5 file.\n",
      "Success.\n",
      "loading photodiode data... done\n"
     ]
    },
    {
     "name": "stderr",
     "output_type": "stream",
     "text": [
      "\r",
      " 85%|████████▍ | 77/91 [50:15<09:17, 39.83s/it]"
     ]
    },
    {
     "name": "stdout",
     "output_type": "stream",
     "text": [
      "===== z: 77 =====\n",
      "Trying to load timestamp data from hdf5 file.\n",
      "Success.\n",
      "loading photodiode data... done\n",
      "Trying to load timestamp data from hdf5 file.\n",
      "Success.\n",
      "loading photodiode data... done\n",
      "Trying to load timestamp data from hdf5 file.\n",
      "Success.\n",
      "loading photodiode data... done\n",
      "Trying to load timestamp data from hdf5 file.\n",
      "Success.\n",
      "loading photodiode data... done\n"
     ]
    },
    {
     "name": "stderr",
     "output_type": "stream",
     "text": [
      "\r",
      " 86%|████████▌ | 78/91 [50:53<08:31, 39.37s/it]"
     ]
    },
    {
     "name": "stdout",
     "output_type": "stream",
     "text": [
      "===== z: 78 =====\n",
      "Trying to load timestamp data from hdf5 file.\n",
      "Success.\n",
      "loading photodiode data... done\n",
      "Trying to load timestamp data from hdf5 file.\n",
      "Success.\n",
      "loading photodiode data... done\n",
      "Trying to load timestamp data from hdf5 file.\n",
      "Success.\n",
      "loading photodiode data... done\n",
      "Trying to load timestamp data from hdf5 file.\n",
      "Success.\n",
      "loading photodiode data... done\n"
     ]
    },
    {
     "name": "stderr",
     "output_type": "stream",
     "text": [
      "\r",
      " 87%|████████▋ | 79/91 [51:31<07:47, 38.98s/it]"
     ]
    },
    {
     "name": "stdout",
     "output_type": "stream",
     "text": [
      "===== z: 79 =====\n",
      "Trying to load timestamp data from hdf5 file.\n",
      "Success.\n",
      "loading photodiode data... done\n",
      "Trying to load timestamp data from hdf5 file.\n",
      "Success.\n",
      "loading photodiode data... done\n",
      "Trying to load timestamp data from hdf5 file.\n",
      "Success.\n",
      "loading photodiode data... done\n",
      "Trying to load timestamp data from hdf5 file.\n",
      "Success.\n",
      "loading photodiode data... done\n"
     ]
    },
    {
     "name": "stderr",
     "output_type": "stream",
     "text": [
      "\r",
      " 88%|████████▊ | 80/91 [52:12<07:12, 39.36s/it]"
     ]
    },
    {
     "name": "stdout",
     "output_type": "stream",
     "text": [
      "===== z: 80 =====\n",
      "Trying to load timestamp data from hdf5 file.\n",
      "Success.\n",
      "loading photodiode data... done\n",
      "Trying to load timestamp data from hdf5 file.\n",
      "Success.\n",
      "loading photodiode data... done\n",
      "Trying to load timestamp data from hdf5 file.\n",
      "Success.\n",
      "loading photodiode data... done\n",
      "Trying to load timestamp data from hdf5 file.\n",
      "Success.\n",
      "loading photodiode data... done\n"
     ]
    },
    {
     "name": "stderr",
     "output_type": "stream",
     "text": [
      "\r",
      " 89%|████████▉ | 81/91 [52:49<06:28, 38.88s/it]"
     ]
    },
    {
     "name": "stdout",
     "output_type": "stream",
     "text": [
      "===== z: 81 =====\n",
      "Trying to load timestamp data from hdf5 file.\n",
      "Success.\n",
      "loading photodiode data... done\n",
      "Trying to load timestamp data from hdf5 file.\n",
      "Success.\n",
      "loading photodiode data... done\n",
      "Trying to load timestamp data from hdf5 file.\n",
      "Success.\n",
      "loading photodiode data... done\n",
      "Trying to load timestamp data from hdf5 file.\n",
      "Success.\n",
      "loading photodiode data... done\n"
     ]
    },
    {
     "name": "stderr",
     "output_type": "stream",
     "text": [
      "\r",
      " 90%|█████████ | 82/91 [53:27<05:47, 38.60s/it]"
     ]
    },
    {
     "name": "stdout",
     "output_type": "stream",
     "text": [
      "===== z: 82 =====\n",
      "Trying to load timestamp data from hdf5 file.\n",
      "Success.\n",
      "loading photodiode data... done\n",
      "Trying to load timestamp data from hdf5 file.\n",
      "Success.\n",
      "loading photodiode data... done\n",
      "Trying to load timestamp data from hdf5 file.\n",
      "Success.\n",
      "loading photodiode data... done\n",
      "Trying to load timestamp data from hdf5 file.\n",
      "Success.\n",
      "loading photodiode data... done\n"
     ]
    },
    {
     "name": "stderr",
     "output_type": "stream",
     "text": [
      "\r",
      " 91%|█████████ | 83/91 [54:07<05:11, 38.90s/it]"
     ]
    },
    {
     "name": "stdout",
     "output_type": "stream",
     "text": [
      "===== z: 83 =====\n",
      "Trying to load timestamp data from hdf5 file.\n",
      "Success.\n",
      "loading photodiode data... done\n",
      "Trying to load timestamp data from hdf5 file.\n",
      "Success.\n",
      "loading photodiode data... done\n",
      "Trying to load timestamp data from hdf5 file.\n",
      "Success.\n",
      "loading photodiode data... done\n",
      "Trying to load timestamp data from hdf5 file.\n",
      "Success.\n",
      "loading photodiode data... done\n"
     ]
    },
    {
     "name": "stderr",
     "output_type": "stream",
     "text": [
      "\r",
      " 92%|█████████▏| 84/91 [54:45<04:30, 38.64s/it]"
     ]
    },
    {
     "name": "stdout",
     "output_type": "stream",
     "text": [
      "===== z: 84 =====\n",
      "Trying to load timestamp data from hdf5 file.\n",
      "Success.\n",
      "loading photodiode data... done\n",
      "Trying to load timestamp data from hdf5 file.\n",
      "Success.\n",
      "loading photodiode data... done\n",
      "Trying to load timestamp data from hdf5 file.\n",
      "Success.\n",
      "loading photodiode data... done\n",
      "Trying to load timestamp data from hdf5 file.\n",
      "Success.\n",
      "loading photodiode data... done\n"
     ]
    },
    {
     "name": "stderr",
     "output_type": "stream",
     "text": [
      "\r",
      " 93%|█████████▎| 85/91 [55:25<03:55, 39.20s/it]"
     ]
    },
    {
     "name": "stdout",
     "output_type": "stream",
     "text": [
      "===== z: 85 =====\n",
      "Trying to load timestamp data from hdf5 file.\n",
      "Success.\n",
      "loading photodiode data... done\n",
      "Trying to load timestamp data from hdf5 file.\n",
      "Success.\n",
      "loading photodiode data... done\n",
      "Trying to load timestamp data from hdf5 file.\n",
      "Success.\n",
      "loading photodiode data... done\n",
      "Trying to load timestamp data from hdf5 file.\n",
      "Success.\n",
      "loading photodiode data... done\n"
     ]
    },
    {
     "name": "stderr",
     "output_type": "stream",
     "text": [
      "\r",
      " 95%|█████████▍| 86/91 [56:03<03:13, 38.64s/it]"
     ]
    },
    {
     "name": "stdout",
     "output_type": "stream",
     "text": [
      "===== z: 86 =====\n",
      "Trying to load timestamp data from hdf5 file.\n",
      "Success.\n",
      "loading photodiode data... done\n",
      "Trying to load timestamp data from hdf5 file.\n",
      "Success.\n",
      "loading photodiode data... done\n",
      "Trying to load timestamp data from hdf5 file.\n",
      "Success.\n",
      "loading photodiode data... done\n",
      "Trying to load timestamp data from hdf5 file.\n",
      "Success.\n",
      "loading photodiode data... done\n"
     ]
    },
    {
     "name": "stderr",
     "output_type": "stream",
     "text": [
      "\r",
      " 96%|█████████▌| 87/91 [56:40<02:33, 38.33s/it]"
     ]
    },
    {
     "name": "stdout",
     "output_type": "stream",
     "text": [
      "===== z: 87 =====\n",
      "Trying to load timestamp data from hdf5 file.\n",
      "Success.\n",
      "loading photodiode data... done\n",
      "Trying to load timestamp data from hdf5 file.\n",
      "Success.\n",
      "loading photodiode data... done\n",
      "Trying to load timestamp data from hdf5 file.\n",
      "Success.\n",
      "loading photodiode data... done\n",
      "Trying to load timestamp data from hdf5 file.\n",
      "Success.\n",
      "loading photodiode data... done\n"
     ]
    },
    {
     "name": "stderr",
     "output_type": "stream",
     "text": [
      "\r",
      " 97%|█████████▋| 88/91 [57:17<01:53, 37.86s/it]"
     ]
    },
    {
     "name": "stdout",
     "output_type": "stream",
     "text": [
      "===== z: 88 =====\n",
      "Trying to load timestamp data from hdf5 file.\n",
      "Success.\n",
      "loading photodiode data... done\n",
      "Trying to load timestamp data from hdf5 file.\n",
      "Success.\n",
      "loading photodiode data... done\n",
      "Trying to load timestamp data from hdf5 file.\n",
      "Success.\n",
      "loading photodiode data... done\n",
      "Trying to load timestamp data from hdf5 file.\n",
      "Success.\n",
      "loading photodiode data... done\n"
     ]
    },
    {
     "name": "stderr",
     "output_type": "stream",
     "text": [
      "\r",
      " 98%|█████████▊| 89/91 [57:55<01:15, 37.71s/it]"
     ]
    },
    {
     "name": "stdout",
     "output_type": "stream",
     "text": [
      "===== z: 89 =====\n",
      "Trying to load timestamp data from hdf5 file.\n",
      "Success.\n",
      "loading photodiode data... done\n",
      "Trying to load timestamp data from hdf5 file.\n",
      "Success.\n",
      "loading photodiode data... done\n",
      "Trying to load timestamp data from hdf5 file.\n",
      "Success.\n",
      "loading photodiode data... done\n",
      "Trying to load timestamp data from hdf5 file.\n",
      "Success.\n",
      "loading photodiode data... done\n"
     ]
    },
    {
     "name": "stderr",
     "output_type": "stream",
     "text": [
      "\r",
      " 99%|█████████▉| 90/91 [58:32<00:37, 37.49s/it]"
     ]
    },
    {
     "name": "stdout",
     "output_type": "stream",
     "text": [
      "===== z: 90 =====\n",
      "Trying to load timestamp data from hdf5 file.\n",
      "Success.\n",
      "loading photodiode data... done\n",
      "Trying to load timestamp data from hdf5 file.\n",
      "Success.\n",
      "loading photodiode data... done\n",
      "Trying to load timestamp data from hdf5 file.\n",
      "Success.\n",
      "loading photodiode data... done\n",
      "Trying to load timestamp data from hdf5 file.\n",
      "Success.\n",
      "loading photodiode data... done\n"
     ]
    },
    {
     "name": "stderr",
     "output_type": "stream",
     "text": [
      "100%|██████████| 91/91 [59:09<00:00, 39.00s/it]\n"
     ]
    }
   ],
   "source": [
    "for z in tqdm(range(91)):\n",
    "    print(f'===== z: {z} =====')\n",
    "    args = {'z': z, \n",
    "            'logfile': \"/oak/stanford/groups/trc/data/yandan/2P_Imaging/2023August/aggregated_fly/log.log\",\n",
    "            'save_directory': \"/oak/stanford/groups/trc/data/yandan/2P_Imaging/2023August/aggregated_fly\"}\n",
    "\n",
    "    main(args)"
   ]
  },
  {
   "cell_type": "code",
   "execution_count": 14,
   "metadata": {
    "collapsed": true
   },
   "outputs": [],
   "source": [
    "foo_1 = np.load('/oak/stanford/groups/trc/data/yandan/2P_Imaging/2023August/aggregated_fly/z47_pooled_behavior.npy',\n",
    "               allow_pickle=True)\n",
    "\n",
    "foo_2 = np.load('/oak/stanford/groups/trc/data/yandan/2P_Imaging/2023August/aggregated_fly/z48_pooled_behavior.npy',\n",
    "               allow_pickle=True)"
   ]
  },
  {
   "cell_type": "code",
   "execution_count": 16,
   "metadata": {},
   "outputs": [
    {
     "data": {
      "text/plain": [
       "['zh_rvalues_37.npy',\n",
       " 'zYa_neg_pvalues_73.npy',\n",
       " 'zZa_pos_rvalues_72.npy',\n",
       " 'zh_pvalues_63.npy',\n",
       " 'zZa_pos_pvalues_33.npy',\n",
       " 'zZa_pos_rvalues_81.npy',\n",
       " 'zY_pos_rvalues_46.npy',\n",
       " 'zZa_neg_pvalues_89.npy',\n",
       " 'zZ_pos_rvalues_66.npy',\n",
       " 'zZ_pvalues_75.npy',\n",
       " 'zZ_pvalues_45.npy',\n",
       " 'zZ_pos_rvalues_89.npy',\n",
       " 'zYa_rvalues_37.npy',\n",
       " 'zYa_neg_pvalues_43.npy',\n",
       " 'zYa_neg_pvalues_36.npy',\n",
       " 'zZ_pos_rvalues_71.npy',\n",
       " 'zYa_pos_rvalues_71.npy',\n",
       " 'zZa_neg_rvalues_24.npy',\n",
       " 'zZ_rvalues_45.npy',\n",
       " 'zZa_pvalues_14.npy',\n",
       " 'zZ_pvalues_88.npy',\n",
       " 'zZ_neg_pvalues_44.npy',\n",
       " 'zYa_pos_pvalues_10.npy',\n",
       " 'zZa_neg_rvalues_30.npy',\n",
       " 'zZa_pos_rvalues_49.npy',\n",
       " 'zY_pos_rvalues_67.npy',\n",
       " 'zZ_pvalues_36.npy',\n",
       " 'zZa_pos_rvalues_27.npy',\n",
       " 'zYa_rvalues_66.npy',\n",
       " 'zZ_neg_rvalues_57.npy',\n",
       " 'zYa_pos_rvalues_59.npy',\n",
       " 'zYa_neg_pvalues_46.npy',\n",
       " 'zYa_pos_rvalues_0.npy',\n",
       " 'zZ_rvalues_68.npy',\n",
       " 'zh_pvalues_23.npy',\n",
       " 'zY_pvalues_8.npy',\n",
       " 'zZa_rvalues_12.npy',\n",
       " 'zYa_rvalues_81.npy',\n",
       " 'zZa_pvalues_47.npy',\n",
       " 'zY_neg_pvalues_51.npy',\n",
       " 'zZ_neg_rvalues_78.npy',\n",
       " 'zZa_rvalues_75.npy',\n",
       " 'zZ_pos_pvalues_74.npy',\n",
       " 'zZ_neg_rvalues_76.npy',\n",
       " 'zZ_pos_rvalues_59.npy',\n",
       " 'zZ_neg_pvalues_62.npy',\n",
       " 'zZ_pos_pvalues_58.npy',\n",
       " 'zY_pos_pvalues_8.npy',\n",
       " 'zY_pvalues_44.npy',\n",
       " 'zZ_pvalues_31.npy',\n",
       " 'zZa_pos_rvalues_75.npy',\n",
       " 'zZ_pvalues_25.npy',\n",
       " 'zZ_pos_rvalues_50.npy',\n",
       " 'zZ_neg_pvalues_26.npy',\n",
       " 'zZa_rvalues_78.npy',\n",
       " 'z30_pooled_behavior.npy',\n",
       " 'zY_neg_rvalues_33.npy',\n",
       " 'zZ_neg_pvalues_24.npy',\n",
       " 'zZa_pos_pvalues_71.npy',\n",
       " 'zYa_pvalues_85.npy',\n",
       " 'zZ_neg_pvalues_14.npy',\n",
       " 'zY_neg_rvalues_88.npy',\n",
       " 'zh_pvalues_19.npy',\n",
       " 'zZ_pvalues_76.npy',\n",
       " 'zZa_pos_pvalues_47.npy',\n",
       " 'zZa_rvalues_62.npy',\n",
       " 'zh_rvalues_21.npy',\n",
       " 'zZa_neg_pvalues_70.npy',\n",
       " 'zYa_pos_pvalues_3.npy',\n",
       " 'zZa_pos_rvalues_60.npy',\n",
       " 'stack87.npy',\n",
       " 'zZ_pos_pvalues_78.npy',\n",
       " 'zY_neg_rvalues_4.npy',\n",
       " 'zZ_pos_rvalues_81.npy',\n",
       " 'z39_pooled_behavior.npy',\n",
       " 'zYa_pos_rvalues_8.npy',\n",
       " 'zh_pvalues_38.npy',\n",
       " 'zZ_rvalues_56.npy',\n",
       " 'zZa_pos_pvalues_54.npy',\n",
       " 'zYa_neg_pvalues_32.npy',\n",
       " 'zZa_pos_pvalues_74.npy',\n",
       " 'zZa_neg_rvalues_85.npy',\n",
       " 'z80_pooled_behavior.npy',\n",
       " 'zYa_pos_rvalues_18.npy',\n",
       " 'zh_rvalues_18.npy',\n",
       " 'zZa_pos_rvalues_35.npy',\n",
       " 'zZa_rvalues_90.npy',\n",
       " 'zZ_neg_rvalues_23.npy',\n",
       " 'zZ_neg_rvalues_0.npy',\n",
       " 'zZa_rvalues_8.npy',\n",
       " 'zYa_pvalues_29.npy',\n",
       " 'zh_rvalues_11.npy',\n",
       " 'z1_pooled_behavior.npy',\n",
       " 'zYa_pvalues_10.npy',\n",
       " 'zY_pos_rvalues_83.npy',\n",
       " 'zZa_neg_rvalues_50.npy',\n",
       " 'zZ_pvalues_84.npy',\n",
       " 'zY_neg_rvalues_2.npy',\n",
       " 'zYa_rvalues_89.npy',\n",
       " 'zYa_pvalues_52.npy',\n",
       " 'zZa_pos_rvalues_84.npy',\n",
       " 'zZa_neg_rvalues_75.npy',\n",
       " 'zY_rvalues_73.npy',\n",
       " 'zZ_pos_rvalues_72.npy',\n",
       " 'zZa_rvalues_45.npy',\n",
       " 'zZa_pvalues_81.npy',\n",
       " 'zYa_pos_rvalues_78.npy',\n",
       " 'zY_pvalues_13.npy',\n",
       " 'zYa_rvalues_76.npy',\n",
       " 'zZ_neg_pvalues_38.npy',\n",
       " 'zZa_neg_pvalues_87.npy',\n",
       " 'zYa_pos_rvalues_21.npy',\n",
       " 'zY_rvalues_78.npy',\n",
       " 'stack5.npy',\n",
       " 'zZ_pos_rvalues_78.npy',\n",
       " 'zYa_pos_pvalues_41.npy',\n",
       " 'zZ_neg_rvalues_12.npy',\n",
       " 'zZ_pvalues_26.npy',\n",
       " 'zZ_neg_pvalues_81.npy',\n",
       " 'zZ_neg_pvalues_88.npy',\n",
       " 'zZ_pvalues_74.npy',\n",
       " 'zZ_pos_rvalues_86.npy',\n",
       " 'z53_pooled_behavior.npy',\n",
       " 'zh_pvalues_81.npy',\n",
       " 'zZa_pvalues_83.npy',\n",
       " 'zYa_neg_pvalues_74.npy',\n",
       " 'stack22.npy',\n",
       " 'zZa_rvalues_28.npy',\n",
       " 'zY_neg_pvalues_37.npy',\n",
       " 'zh_rvalues_22.npy',\n",
       " 'zZ_neg_pvalues_73.npy',\n",
       " 'zZa_neg_rvalues_9.npy',\n",
       " 'zZa_neg_rvalues_29.npy',\n",
       " 'zZ_pvalues_63.npy',\n",
       " 'zY_neg_rvalues_81.npy',\n",
       " 'zY_rvalues_85.npy',\n",
       " 'zY_neg_rvalues_52.npy',\n",
       " 'zZ_pos_pvalues_2.npy',\n",
       " 'zY_pos_rvalues_78.npy',\n",
       " 'zY_rvalues_31.npy',\n",
       " 'zh_pvalues_16.npy',\n",
       " 'zYa_pvalues_34.npy',\n",
       " 'zYa_neg_rvalues_17.npy',\n",
       " 'zY_pvalues_57.npy',\n",
       " 'zYa_rvalues_51.npy',\n",
       " 'z18_pooled_behavior.npy',\n",
       " 'zh_rvalues_24.npy',\n",
       " 'zZ_pos_pvalues_47.npy',\n",
       " 'zZ_pos_rvalues_34.npy',\n",
       " 'zY_rvalues_81.npy',\n",
       " 'zZ_pos_pvalues_88.npy',\n",
       " 'zY_pos_pvalues_64.npy',\n",
       " 'zY_pvalues_47.npy',\n",
       " 'zZ_pos_rvalues_12.npy',\n",
       " 'zY_rvalues_32.npy',\n",
       " 'zZa_rvalues_55.npy',\n",
       " 'zY_pvalues_14.npy',\n",
       " 'zZ_pos_pvalues_17.npy',\n",
       " 'zY_pvalues_11.npy',\n",
       " 'zYa_rvalues_90.npy',\n",
       " 'zY_pos_rvalues_17.npy',\n",
       " 'zYa_pos_pvalues_7.npy',\n",
       " 'z72_pooled_behavior.npy',\n",
       " 'zZa_neg_rvalues_72.npy',\n",
       " 'zY_rvalues_67.npy',\n",
       " 'z64_pooled_behavior.npy',\n",
       " 'z79_pooled_behavior.npy',\n",
       " 'zYa_pos_pvalues_53.npy',\n",
       " 'zY_pvalues_69.npy',\n",
       " 'zYa_pos_rvalues_4.npy',\n",
       " 'zZa_pos_rvalues_51.npy',\n",
       " 'zZa_neg_rvalues_89.npy',\n",
       " 'zZa_neg_pvalues_78.npy',\n",
       " 'zZ_pvalues_83.npy',\n",
       " 'zZa_rvalues_80.npy',\n",
       " 'zYa_neg_rvalues_23.npy',\n",
       " 'zY_pos_pvalues_82.npy',\n",
       " 'zZa_pos_pvalues_88.npy',\n",
       " 'zh_rvalues_45.npy',\n",
       " 'zY_pos_rvalues_38.npy',\n",
       " 'zYa_rvalues_7.npy',\n",
       " 'zh_rvalues_59.npy',\n",
       " 'zZa_rvalues_29.npy',\n",
       " 'zZ_neg_pvalues_78.npy',\n",
       " 'zZa_pos_rvalues_22.npy',\n",
       " 'stack38.npy',\n",
       " 'zZ_neg_rvalues_63.npy',\n",
       " 'zZa_rvalues_4.npy',\n",
       " 'zZa_pos_rvalues_25.npy',\n",
       " 'zY_rvalues_17.npy',\n",
       " 'zY_neg_rvalues_86.npy',\n",
       " 'zh_rvalues_40.npy',\n",
       " 'zY_neg_rvalues_27.npy',\n",
       " 'zZ_neg_rvalues_48.npy',\n",
       " 'zY_rvalues_8.npy',\n",
       " 'zZ_pos_rvalues_75.npy',\n",
       " 'zZa_neg_rvalues_87.npy',\n",
       " 'stack30.npy',\n",
       " 'zZa_neg_rvalues_69.npy',\n",
       " 'zYa_neg_pvalues_72.npy',\n",
       " 'zYa_neg_rvalues_47.npy',\n",
       " 'zYa_pvalues_25.npy',\n",
       " 'zZa_neg_rvalues_22.npy',\n",
       " 'zYa_neg_pvalues_78.npy',\n",
       " 'zZa_rvalues_18.npy',\n",
       " 'zY_pos_pvalues_26.npy',\n",
       " 'zZ_pvalues_41.npy',\n",
       " 'zZ_pos_rvalues_39.npy',\n",
       " 'zYa_pvalues_87.npy',\n",
       " 'zY_neg_pvalues_8.npy',\n",
       " 'stack89.npy',\n",
       " 'z86_pooled_behavior.npy',\n",
       " 'zY_rvalues_11.npy',\n",
       " 'zZ_neg_pvalues_36.npy',\n",
       " 'zZa_pos_pvalues_65.npy',\n",
       " 'zZ_neg_pvalues_86.npy',\n",
       " 'zZa_rvalues_6.npy',\n",
       " 'zZa_pos_pvalues_39.npy',\n",
       " 'zYa_neg_pvalues_17.npy',\n",
       " 'zZa_pvalues_17.npy',\n",
       " 'z85_pooled_behavior.npy',\n",
       " 'zZa_rvalues_13.npy',\n",
       " 'zY_pos_pvalues_49.npy',\n",
       " 'zZ_pos_rvalues_19.npy',\n",
       " 'zYa_rvalues_5.npy',\n",
       " 'z62_pooled_behavior.npy',\n",
       " 'zY_pvalues_52.npy',\n",
       " 'stack29.npy',\n",
       " 'zYa_neg_rvalues_43.npy',\n",
       " 'zZa_pos_pvalues_63.npy',\n",
       " 'zh_rvalues_32.npy',\n",
       " 'stack12.npy',\n",
       " 'zZ_rvalues_90.npy',\n",
       " 'zZa_pos_rvalues_82.npy',\n",
       " 'zYa_rvalues_23.npy',\n",
       " 'zZ_pos_pvalues_9.npy',\n",
       " 'zZa_rvalues_76.npy',\n",
       " 'zh_pvalues_73.npy',\n",
       " 'zY_neg_rvalues_32.npy',\n",
       " 'zYa_neg_rvalues_13.npy',\n",
       " 'zY_pos_pvalues_12.npy',\n",
       " 'zZ_pvalues_69.npy',\n",
       " 'zYa_neg_rvalues_80.npy',\n",
       " 'stack86.npy',\n",
       " 'zYa_pos_pvalues_68.npy',\n",
       " 'zY_neg_pvalues_41.npy',\n",
       " 'zZ_neg_pvalues_82.npy',\n",
       " 'zZa_pos_rvalues_36.npy',\n",
       " 'zYa_pos_rvalues_67.npy',\n",
       " 'zZ_pvalues_81.npy',\n",
       " 'stack49.npy',\n",
       " 'zYa_rvalues_38.npy',\n",
       " 'zZa_rvalues_17.npy',\n",
       " 'zZ_pos_rvalues_8.npy',\n",
       " 'zh_rvalues_38.npy',\n",
       " 'zZa_pos_rvalues_83.npy',\n",
       " 'zYa_pvalues_5.npy',\n",
       " 'zZa_neg_pvalues_51.npy',\n",
       " 'zZ_pos_pvalues_22.npy',\n",
       " 'zZa_pos_rvalues_59.npy',\n",
       " 'zY_neg_rvalues_62.npy',\n",
       " 'zZ_neg_pvalues_75.npy',\n",
       " 'zZa_pos_pvalues_77.npy',\n",
       " 'zY_pvalues_19.npy',\n",
       " 'zY_pvalues_75.npy',\n",
       " 'zh_pvalues_89.npy',\n",
       " 'zYa_pvalues_27.npy',\n",
       " 'zY_pos_pvalues_32.npy',\n",
       " 'zYa_pos_rvalues_25.npy',\n",
       " 'zY_neg_pvalues_78.npy',\n",
       " 'zYa_pos_pvalues_21.npy',\n",
       " 'zZ_rvalues_9.npy',\n",
       " 'zYa_neg_rvalues_61.npy',\n",
       " 'zZ_neg_rvalues_22.npy',\n",
       " 'zZa_neg_pvalues_69.npy',\n",
       " 'zZa_pos_rvalues_56.npy',\n",
       " 'zZ_pvalues_11.npy',\n",
       " 'z27_pooled_behavior.npy',\n",
       " 'zZ_pos_pvalues_90.npy',\n",
       " 'zZa_neg_rvalues_61.npy',\n",
       " 'zZ_neg_pvalues_41.npy',\n",
       " 'zZ_pos_pvalues_14.npy',\n",
       " 'zZa_neg_pvalues_24.npy',\n",
       " 'zZ_neg_rvalues_16.npy',\n",
       " 'zh_pvalues_66.npy',\n",
       " 'stack26.npy',\n",
       " 'zh_rvalues_5.npy',\n",
       " 'zZa_neg_pvalues_76.npy',\n",
       " 'zYa_rvalues_79.npy',\n",
       " 'zYa_neg_pvalues_42.npy',\n",
       " 'zZ_neg_rvalues_64.npy',\n",
       " 'zYa_pvalues_82.npy',\n",
       " 'zZa_rvalues_15.npy',\n",
       " 'zY_pvalues_3.npy',\n",
       " 'zZa_pos_rvalues_87.npy',\n",
       " 'z52_pooled_behavior.npy',\n",
       " 'zY_pos_pvalues_62.npy',\n",
       " 'zYa_neg_pvalues_54.npy',\n",
       " 'zZ_pvalues_28.npy',\n",
       " 'zZ_neg_pvalues_40.npy',\n",
       " 'zZ_rvalues_75.npy',\n",
       " 'zZ_pos_pvalues_15.npy',\n",
       " 'zZ_pvalues_14.npy',\n",
       " 'zYa_neg_pvalues_62.npy',\n",
       " 'zY_pvalues_86.npy',\n",
       " 'zYa_pos_pvalues_26.npy',\n",
       " 'zZ_neg_pvalues_50.npy',\n",
       " 'zZ_pvalues_40.npy',\n",
       " 'zZ_pos_rvalues_68.npy',\n",
       " 'zYa_rvalues_69.npy',\n",
       " 'zYa_neg_rvalues_69.npy',\n",
       " 'zY_pvalues_16.npy',\n",
       " 'zZ_pos_rvalues_21.npy',\n",
       " 'zZ_neg_pvalues_51.npy',\n",
       " 'zY_neg_pvalues_85.npy',\n",
       " 'zYa_neg_rvalues_51.npy',\n",
       " 'zY_rvalues_64.npy',\n",
       " 'z49_pooled_behavior.npy',\n",
       " 'stack11.npy',\n",
       " 'zYa_pos_rvalues_31.npy',\n",
       " 'zYa_pvalues_65.npy',\n",
       " 'zZa_pvalues_48.npy',\n",
       " 'zZ_rvalues_52.npy',\n",
       " 'zh_pvalues_17.npy',\n",
       " 'zZ_neg_pvalues_28.npy',\n",
       " 'zh_pvalues_3.npy',\n",
       " 'zZa_neg_rvalues_37.npy',\n",
       " 'zZa_pos_pvalues_8.npy',\n",
       " 'zYa_neg_pvalues_4.npy',\n",
       " 'zZa_rvalues_43.npy',\n",
       " 'zZa_pos_rvalues_70.npy',\n",
       " 'zYa_pvalues_35.npy',\n",
       " 'zYa_rvalues_30.npy',\n",
       " 'zZa_pos_pvalues_24.npy',\n",
       " 'zZ_pos_rvalues_3.npy',\n",
       " 'zYa_neg_pvalues_47.npy',\n",
       " 'zZ_neg_rvalues_79.npy',\n",
       " 'zY_neg_rvalues_60.npy',\n",
       " 'zY_neg_pvalues_65.npy',\n",
       " 'zY_neg_rvalues_67.npy',\n",
       " 'zZa_neg_pvalues_72.npy',\n",
       " 'zZ_rvalues_17.npy',\n",
       " 'zh_pvalues_52.npy',\n",
       " 'zY_neg_rvalues_39.npy',\n",
       " 'zZa_neg_rvalues_18.npy',\n",
       " 'zZa_pos_pvalues_16.npy',\n",
       " 'zYa_neg_rvalues_68.npy',\n",
       " 'zYa_neg_rvalues_74.npy',\n",
       " 'zZa_neg_rvalues_16.npy',\n",
       " 'zYa_pos_pvalues_57.npy',\n",
       " 'zYa_rvalues_49.npy',\n",
       " 'zY_pos_rvalues_75.npy',\n",
       " 'zYa_neg_rvalues_85.npy',\n",
       " 'stack15.npy',\n",
       " 'zZa_neg_rvalues_14.npy',\n",
       " 'zZa_pos_pvalues_82.npy',\n",
       " 'zYa_neg_pvalues_7.npy',\n",
       " 'zYa_neg_pvalues_66.npy',\n",
       " 'zYa_pos_rvalues_22.npy',\n",
       " 'zY_rvalues_12.npy',\n",
       " 'zY_neg_pvalues_81.npy',\n",
       " 'zY_neg_rvalues_53.npy',\n",
       " 'zZ_pvalues_6.npy',\n",
       " 'zYa_pvalues_76.npy',\n",
       " 'zYa_neg_rvalues_12.npy',\n",
       " 'zYa_pos_rvalues_13.npy',\n",
       " 'zZ_neg_rvalues_56.npy',\n",
       " 'zZ_pos_pvalues_71.npy',\n",
       " 'zYa_pos_pvalues_23.npy',\n",
       " 'zYa_neg_pvalues_67.npy',\n",
       " 'stack21.npy',\n",
       " 'zZa_neg_rvalues_81.npy',\n",
       " 'zZa_rvalues_34.npy',\n",
       " 'zY_neg_pvalues_6.npy',\n",
       " 'zYa_rvalues_34.npy',\n",
       " 'zZ_pos_rvalues_1.npy',\n",
       " 'zZa_rvalues_48.npy',\n",
       " 'zYa_pos_pvalues_1.npy',\n",
       " 'zYa_neg_rvalues_32.npy',\n",
       " 'zh_rvalues_20.npy',\n",
       " 'zZa_pos_rvalues_23.npy',\n",
       " 'zZ_neg_pvalues_47.npy',\n",
       " 'zh_rvalues_2.npy',\n",
       " 'zZa_pos_pvalues_27.npy',\n",
       " 'zYa_pos_pvalues_58.npy',\n",
       " 'zZa_neg_pvalues_13.npy',\n",
       " 'zh_rvalues_57.npy',\n",
       " 'zYa_pos_pvalues_76.npy',\n",
       " 'zZ_neg_pvalues_37.npy',\n",
       " 'zZ_rvalues_22.npy',\n",
       " 'zZ_pvalues_15.npy',\n",
       " 'zY_rvalues_20.npy',\n",
       " 'zZ_pvalues_32.npy',\n",
       " 'zZa_neg_rvalues_48.npy',\n",
       " 'zZa_pos_rvalues_4.npy',\n",
       " 'zY_pos_rvalues_30.npy',\n",
       " 'zY_pos_rvalues_62.npy',\n",
       " 'zY_neg_pvalues_88.npy',\n",
       " 'zYa_pos_pvalues_30.npy',\n",
       " 'zZ_neg_pvalues_8.npy',\n",
       " 'z76_pooled_behavior.npy',\n",
       " 'zYa_pvalues_83.npy',\n",
       " 'zY_pos_rvalues_47.npy',\n",
       " 'zYa_pvalues_41.npy',\n",
       " 'z9_pooled_behavior.npy',\n",
       " 'zh_pvalues_75.npy',\n",
       " 'zYa_neg_rvalues_72.npy',\n",
       " 'zYa_pos_pvalues_54.npy',\n",
       " 'zY_neg_pvalues_16.npy',\n",
       " 'zZa_pos_rvalues_74.npy',\n",
       " 'zY_pos_rvalues_6.npy',\n",
       " 'zZa_pos_rvalues_65.npy',\n",
       " 'zZ_rvalues_69.npy',\n",
       " 'zZa_rvalues_30.npy',\n",
       " 'zZ_rvalues_29.npy',\n",
       " 'zZa_rvalues_25.npy',\n",
       " 'zZa_pos_rvalues_29.npy',\n",
       " 'zZa_neg_rvalues_74.npy',\n",
       " 'zY_rvalues_24.npy',\n",
       " 'z87_pooled_behavior.npy',\n",
       " 'zY_pvalues_41.npy',\n",
       " 'zY_rvalues_41.npy',\n",
       " 'zZ_rvalues_58.npy',\n",
       " 'zY_pvalues_34.npy',\n",
       " 'zY_neg_pvalues_57.npy',\n",
       " 'zZ_rvalues_76.npy',\n",
       " 'zZa_rvalues_38.npy',\n",
       " 'zY_pos_rvalues_51.npy',\n",
       " 'zh_pvalues_59.npy',\n",
       " 'zh_pvalues_46.npy',\n",
       " 'zY_pos_rvalues_58.npy',\n",
       " 'zZa_neg_pvalues_79.npy',\n",
       " 'zh_rvalues_76.npy',\n",
       " 'zZa_neg_rvalues_26.npy',\n",
       " 'zZa_neg_pvalues_10.npy',\n",
       " 'z10_pooled_behavior.npy',\n",
       " 'zYa_pos_pvalues_85.npy',\n",
       " 'zY_neg_pvalues_63.npy',\n",
       " 'zY_rvalues_19.npy',\n",
       " 'zZa_pos_rvalues_9.npy',\n",
       " 'z33_pooled_behavior.npy',\n",
       " 'zY_pos_pvalues_51.npy',\n",
       " 'log.log',\n",
       " 'zY_pos_pvalues_17.npy',\n",
       " 'zZ_pvalues_33.npy',\n",
       " 'stack78.npy',\n",
       " 'zY_pos_pvalues_58.npy',\n",
       " 'zZ_pvalues_13.npy',\n",
       " 'zY_pvalues_40.npy',\n",
       " 'zYa_pvalues_18.npy',\n",
       " 'zY_rvalues_33.npy',\n",
       " 'zYa_neg_rvalues_31.npy',\n",
       " 'zZ_pos_pvalues_44.npy',\n",
       " 'zY_pvalues_25.npy',\n",
       " 'zZ_neg_rvalues_39.npy',\n",
       " 'zh_rvalues_30.npy',\n",
       " 'zZa_pos_pvalues_49.npy',\n",
       " 'zY_pvalues_58.npy',\n",
       " 'zZa_pos_pvalues_51.npy',\n",
       " 'zYa_pvalues_88.npy',\n",
       " 'zZ_neg_rvalues_19.npy',\n",
       " 'zZa_pvalues_23.npy',\n",
       " 'zYa_pvalues_80.npy',\n",
       " 'zZ_neg_pvalues_64.npy',\n",
       " 'zZ_pos_rvalues_83.npy',\n",
       " 'stack9.npy',\n",
       " 'zY_neg_rvalues_24.npy',\n",
       " 'zZa_neg_rvalues_41.npy',\n",
       " 'z75_pooled_behavior.npy',\n",
       " 'zY_pos_pvalues_31.npy',\n",
       " 'zY_neg_rvalues_44.npy',\n",
       " 'zZ_rvalues_4.npy',\n",
       " 'zY_pvalues_27.npy',\n",
       " 'zZ_pvalues_80.npy',\n",
       " 'zZa_neg_rvalues_53.npy',\n",
       " 'zYa_pvalues_73.npy',\n",
       " 'zZ_neg_rvalues_74.npy',\n",
       " 'zZa_neg_rvalues_52.npy',\n",
       " 'zYa_neg_pvalues_52.npy',\n",
       " 'zY_pos_pvalues_29.npy',\n",
       " 'zY_rvalues_38.npy',\n",
       " 'zY_pos_pvalues_76.npy',\n",
       " 'zYa_neg_pvalues_71.npy',\n",
       " 'z59_pooled_behavior.npy',\n",
       " 'zY_rvalues_65.npy',\n",
       " 'zZ_pos_rvalues_56.npy',\n",
       " 'zZa_pos_rvalues_50.npy',\n",
       " 'zh_rvalues_44.npy',\n",
       " 'zYa_pos_rvalues_83.npy',\n",
       " 'zh_rvalues_82.npy',\n",
       " 'zh_rvalues_62.npy',\n",
       " 'zY_rvalues_35.npy',\n",
       " 'zZa_pvalues_57.npy',\n",
       " 'zYa_pvalues_12.npy',\n",
       " 'zZa_pvalues_86.npy',\n",
       " 'stack10.npy',\n",
       " 'zZa_neg_rvalues_83.npy',\n",
       " 'zZ_neg_rvalues_5.npy',\n",
       " 'zZa_pos_rvalues_7.npy',\n",
       " 'zZ_pvalues_73.npy',\n",
       " 'zZa_neg_pvalues_49.npy',\n",
       " 'zY_pvalues_2.npy',\n",
       " 'zZa_neg_pvalues_1.npy',\n",
       " 'zh_rvalues_80.npy',\n",
       " 'zYa_pvalues_13.npy',\n",
       " 'zZ_pos_pvalues_61.npy',\n",
       " 'zZa_pos_rvalues_18.npy',\n",
       " 'zYa_neg_pvalues_60.npy',\n",
       " 'zZ_neg_rvalues_90.npy',\n",
       " 'zZ_neg_pvalues_79.npy',\n",
       " 'z3_pooled_behavior.npy',\n",
       " 'zh_pvalues_26.npy',\n",
       " 'zZa_pos_pvalues_60.npy',\n",
       " 'zY_rvalues_16.npy',\n",
       " 'zZa_neg_pvalues_22.npy',\n",
       " 'zZa_pos_rvalues_10.npy',\n",
       " 'zYa_pvalues_58.npy',\n",
       " 'zZ_rvalues_74.npy',\n",
       " 'stack7.npy',\n",
       " 'zYa_neg_rvalues_21.npy',\n",
       " 'stack60.npy',\n",
       " 'zZa_pos_pvalues_26.npy',\n",
       " 'zZ_pos_pvalues_82.npy',\n",
       " 'zYa_pos_pvalues_79.npy',\n",
       " 'zZ_rvalues_42.npy',\n",
       " 'zZ_neg_pvalues_54.npy',\n",
       " 'zZa_rvalues_58.npy',\n",
       " 'zYa_neg_pvalues_30.npy',\n",
       " 'zZ_pos_rvalues_24.npy',\n",
       " 'zZ_rvalues_61.npy',\n",
       " 'zY_rvalues_10.npy',\n",
       " 'zY_pos_rvalues_10.npy',\n",
       " 'zYa_pos_rvalues_44.npy',\n",
       " 'zY_pos_rvalues_81.npy',\n",
       " 'zYa_neg_rvalues_18.npy',\n",
       " 'zYa_neg_pvalues_22.npy',\n",
       " 'zYa_pos_pvalues_16.npy',\n",
       " 'zY_neg_rvalues_43.npy',\n",
       " 'zYa_pos_pvalues_65.npy',\n",
       " 'zZ_neg_rvalues_45.npy',\n",
       " 'stack90.npy',\n",
       " 'zZa_pvalues_79.npy',\n",
       " 'zY_pvalues_49.npy',\n",
       " 'zZa_pvalues_68.npy',\n",
       " 'zZ_pvalues_16.npy',\n",
       " 'zh_rvalues_9.npy',\n",
       " 'zYa_neg_pvalues_89.npy',\n",
       " 'zY_neg_rvalues_23.npy',\n",
       " 'zZa_pvalues_21.npy',\n",
       " 'zYa_rvalues_80.npy',\n",
       " 'zZ_neg_rvalues_70.npy',\n",
       " 'zY_neg_pvalues_48.npy',\n",
       " 'zZ_neg_pvalues_43.npy',\n",
       " 'zYa_neg_pvalues_14.npy',\n",
       " 'zY_neg_rvalues_57.npy',\n",
       " 'zZ_rvalues_84.npy',\n",
       " 'zZa_rvalues_49.npy',\n",
       " 'zh_pvalues_80.npy',\n",
       " 'zYa_rvalues_71.npy',\n",
       " 'zZ_rvalues_2.npy',\n",
       " 'zY_neg_pvalues_89.npy',\n",
       " 'zZ_neg_rvalues_50.npy',\n",
       " 'stack71.npy',\n",
       " 'stack42.npy',\n",
       " 'zYa_neg_pvalues_0.npy',\n",
       " 'zZ_pvalues_53.npy',\n",
       " 'zZa_neg_pvalues_12.npy',\n",
       " 'zY_pos_pvalues_44.npy',\n",
       " 'zYa_pos_pvalues_73.npy',\n",
       " 'zZ_rvalues_86.npy',\n",
       " 'zZa_pvalues_84.npy',\n",
       " 'zY_neg_pvalues_61.npy',\n",
       " 'zZ_rvalues_78.npy',\n",
       " 'zYa_pos_pvalues_55.npy',\n",
       " 'zY_pvalues_71.npy',\n",
       " 'zY_pvalues_48.npy',\n",
       " 'zY_neg_pvalues_17.npy',\n",
       " 'zZa_neg_pvalues_83.npy',\n",
       " 'zY_neg_rvalues_0.npy',\n",
       " 'zZ_rvalues_28.npy',\n",
       " 'zZ_rvalues_5.npy',\n",
       " 'zZa_pvalues_22.npy',\n",
       " 'zZ_rvalues_57.npy',\n",
       " 'zh_rvalues_36.npy',\n",
       " 'zZa_neg_rvalues_54.npy',\n",
       " 'zZa_pvalues_32.npy',\n",
       " 'zZ_pvalues_64.npy',\n",
       " 'zZa_pos_pvalues_0.npy',\n",
       " 'zYa_pvalues_81.npy',\n",
       " 'zZ_neg_rvalues_8.npy',\n",
       " 'zZa_neg_rvalues_34.npy',\n",
       " 'zZ_neg_pvalues_55.npy',\n",
       " 'zh_pvalues_54.npy',\n",
       " 'zh_pvalues_82.npy',\n",
       " 'zY_pvalues_17.npy',\n",
       " 'zZ_pvalues_12.npy',\n",
       " 'zY_neg_rvalues_16.npy',\n",
       " 'zZ_pos_rvalues_16.npy',\n",
       " 'zY_neg_pvalues_43.npy',\n",
       " 'zYa_pos_pvalues_74.npy',\n",
       " 'zh_pvalues_22.npy',\n",
       " 'zY_neg_pvalues_55.npy',\n",
       " 'zYa_pos_rvalues_26.npy',\n",
       " 'zYa_pvalues_74.npy',\n",
       " 'zZa_rvalues_53.npy',\n",
       " 'zY_pos_rvalues_14.npy',\n",
       " 'zYa_pvalues_24.npy',\n",
       " 'zYa_pvalues_9.npy',\n",
       " 'zZ_pos_pvalues_79.npy',\n",
       " 'zZ_pvalues_2.npy',\n",
       " 'zh_pvalues_48.npy',\n",
       " 'zZa_rvalues_71.npy',\n",
       " 'zYa_pos_pvalues_17.npy',\n",
       " 'zY_neg_pvalues_33.npy',\n",
       " 'z15_pooled_behavior.npy',\n",
       " 'zZa_neg_pvalues_60.npy',\n",
       " 'zZ_pos_pvalues_55.npy',\n",
       " 'zYa_pvalues_50.npy',\n",
       " 'zZa_rvalues_54.npy',\n",
       " 'zh_pvalues_33.npy',\n",
       " 'z16_pooled_behavior.npy',\n",
       " 'zZa_neg_pvalues_11.npy',\n",
       " 'zY_neg_rvalues_89.npy',\n",
       " 'zZ_pvalues_4.npy',\n",
       " 'zYa_rvalues_3.npy',\n",
       " 'zZ_neg_pvalues_6.npy',\n",
       " 'zZ_pos_pvalues_59.npy',\n",
       " 'zZ_pos_rvalues_74.npy',\n",
       " 'zYa_neg_rvalues_56.npy',\n",
       " 'zY_pos_rvalues_63.npy',\n",
       " 'zZa_pos_rvalues_64.npy',\n",
       " 'zYa_pvalues_86.npy',\n",
       " 'z44_pooled_behavior.npy',\n",
       " 'stack72.npy',\n",
       " 'zZa_pvalues_42.npy',\n",
       " 'zZa_pvalues_2.npy',\n",
       " 'zY_neg_pvalues_82.npy',\n",
       " 'z11_pooled_behavior.npy',\n",
       " 'stack76.npy',\n",
       " 'zY_rvalues_48.npy',\n",
       " 'zYa_neg_pvalues_64.npy',\n",
       " 'zZ_rvalues_54.npy',\n",
       " 'zZa_pvalues_75.npy',\n",
       " 'zYa_neg_rvalues_25.npy',\n",
       " 'zZa_pos_rvalues_63.npy',\n",
       " 'zZa_pvalues_70.npy',\n",
       " 'zZ_pvalues_54.npy',\n",
       " 'zZ_rvalues_0.npy',\n",
       " 'zYa_neg_rvalues_0.npy',\n",
       " 'zYa_pvalues_56.npy',\n",
       " 'zZ_pos_pvalues_5.npy',\n",
       " 'zYa_neg_pvalues_21.npy',\n",
       " 'zZ_neg_pvalues_39.npy',\n",
       " 'zY_pos_rvalues_65.npy',\n",
       " 'zh_pvalues_9.npy',\n",
       " 'zY_pvalues_50.npy',\n",
       " 'zY_pvalues_60.npy',\n",
       " 'zY_rvalues_61.npy',\n",
       " 'zZ_pos_rvalues_7.npy',\n",
       " 'zYa_pos_pvalues_47.npy',\n",
       " 'zZa_pos_pvalues_66.npy',\n",
       " 'zY_pvalues_23.npy',\n",
       " 'z12_pooled_behavior.npy',\n",
       " 'zY_neg_pvalues_21.npy',\n",
       " 'zYa_pos_pvalues_11.npy',\n",
       " 'zYa_pos_rvalues_17.npy',\n",
       " 'zZa_pvalues_11.npy',\n",
       " 'zZa_neg_pvalues_29.npy',\n",
       " 'zZa_pvalues_60.npy',\n",
       " 'zYa_rvalues_42.npy',\n",
       " 'zZa_rvalues_69.npy',\n",
       " 'zYa_neg_rvalues_42.npy',\n",
       " 'zZa_pos_rvalues_45.npy',\n",
       " 'zZa_neg_pvalues_73.npy',\n",
       " 'zZa_pos_pvalues_17.npy',\n",
       " 'zY_neg_rvalues_68.npy',\n",
       " 'zZ_rvalues_59.npy',\n",
       " 'zZ_pos_pvalues_11.npy',\n",
       " 'zYa_rvalues_52.npy',\n",
       " 'zY_pvalues_15.npy',\n",
       " 'zY_pvalues_54.npy',\n",
       " 'zYa_pvalues_44.npy',\n",
       " 'zY_pos_pvalues_45.npy',\n",
       " 'zZ_neg_pvalues_27.npy',\n",
       " 'zZ_pvalues_59.npy',\n",
       " 'zYa_neg_rvalues_73.npy',\n",
       " 'zY_pos_rvalues_2.npy',\n",
       " 'zY_neg_rvalues_8.npy',\n",
       " 'zYa_pvalues_49.npy',\n",
       " 'zZa_neg_pvalues_27.npy',\n",
       " 'zY_neg_pvalues_76.npy',\n",
       " 'zZa_rvalues_51.npy',\n",
       " 'zY_rvalues_39.npy',\n",
       " 'zY_neg_rvalues_37.npy',\n",
       " 'zY_pos_pvalues_22.npy',\n",
       " 'zYa_neg_pvalues_3.npy',\n",
       " 'zZa_neg_pvalues_17.npy',\n",
       " 'zh_rvalues_58.npy',\n",
       " 'zZa_pos_pvalues_78.npy',\n",
       " 'zZ_neg_rvalues_31.npy',\n",
       " 'zh_pvalues_65.npy',\n",
       " 'zYa_rvalues_13.npy',\n",
       " 'zY_pvalues_39.npy',\n",
       " 'zZ_neg_pvalues_71.npy',\n",
       " 'zZ_neg_rvalues_37.npy',\n",
       " 'zY_pos_rvalues_44.npy',\n",
       " 'zYa_pos_rvalues_32.npy',\n",
       " 'zh_rvalues_0.npy',\n",
       " 'stack28.npy',\n",
       " 'zZa_pos_rvalues_13.npy',\n",
       " 'zZ_pvalues_62.npy',\n",
       " 'zY_pvalues_5.npy',\n",
       " 'zZ_neg_pvalues_68.npy',\n",
       " 'zZa_pos_rvalues_41.npy',\n",
       " 'zY_rvalues_23.npy',\n",
       " 'zZ_neg_pvalues_87.npy',\n",
       " 'zYa_pvalues_16.npy',\n",
       " 'zY_pos_pvalues_59.npy',\n",
       " 'zZ_neg_pvalues_30.npy',\n",
       " 'zY_rvalues_14.npy',\n",
       " 'zZa_rvalues_32.npy',\n",
       " 'zZ_rvalues_10.npy',\n",
       " 'zZ_neg_rvalues_68.npy',\n",
       " 'zh_rvalues_7.npy',\n",
       " 'zZa_neg_rvalues_71.npy',\n",
       " 'zZ_neg_rvalues_44.npy',\n",
       " 'zYa_rvalues_64.npy',\n",
       " 'zYa_pvalues_19.npy',\n",
       " 'zY_rvalues_56.npy',\n",
       " 'zZa_pos_pvalues_25.npy',\n",
       " 'zYa_rvalues_82.npy',\n",
       " 'z25_pooled_behavior.npy',\n",
       " 'zZ_neg_pvalues_12.npy',\n",
       " 'zZ_neg_rvalues_81.npy',\n",
       " 'zY_neg_pvalues_1.npy',\n",
       " 'zYa_pos_rvalues_2.npy',\n",
       " 'zh_rvalues_12.npy',\n",
       " 'zY_pos_rvalues_29.npy',\n",
       " 'zZ_rvalues_25.npy',\n",
       " 'zZ_pos_rvalues_22.npy',\n",
       " 'zYa_rvalues_65.npy',\n",
       " 'z17_pooled_behavior.npy',\n",
       " 'zY_rvalues_37.npy',\n",
       " 'zY_rvalues_76.npy',\n",
       " 'zY_pvalues_78.npy',\n",
       " 'zY_neg_rvalues_79.npy',\n",
       " 'zY_pos_rvalues_53.npy',\n",
       " 'zZa_rvalues_56.npy',\n",
       " 'zYa_neg_rvalues_54.npy',\n",
       " 'zYa_pos_pvalues_45.npy',\n",
       " 'zY_pos_rvalues_88.npy',\n",
       " 'zZa_neg_pvalues_5.npy',\n",
       " 'zY_neg_rvalues_10.npy',\n",
       " 'zY_neg_pvalues_24.npy',\n",
       " 'zYa_neg_rvalues_39.npy',\n",
       " 'zZ_neg_rvalues_88.npy',\n",
       " 'zYa_pvalues_89.npy',\n",
       " 'zYa_rvalues_19.npy',\n",
       " 'zY_pos_pvalues_19.npy',\n",
       " 'stack85.npy',\n",
       " 'zZa_neg_pvalues_52.npy',\n",
       " 'zZ_neg_pvalues_31.npy',\n",
       " 'zZa_pvalues_63.npy',\n",
       " 'zZa_neg_rvalues_6.npy',\n",
       " 'zY_neg_rvalues_54.npy',\n",
       " 'zZa_neg_pvalues_16.npy',\n",
       " 'zZ_neg_rvalues_9.npy',\n",
       " 'zZa_neg_pvalues_41.npy',\n",
       " 'zZ_pvalues_10.npy',\n",
       " 'zZa_pvalues_29.npy',\n",
       " 'zZa_neg_rvalues_33.npy',\n",
       " 'zh_rvalues_33.npy',\n",
       " 'zZ_pos_rvalues_84.npy',\n",
       " 'zZ_pos_rvalues_67.npy',\n",
       " 'zYa_rvalues_26.npy',\n",
       " 'zZa_pvalues_27.npy',\n",
       " 'zZa_rvalues_21.npy',\n",
       " 'zYa_pos_rvalues_19.npy',\n",
       " 'zh_rvalues_16.npy',\n",
       " 'zZa_pvalues_35.npy',\n",
       " 'zZ_neg_rvalues_66.npy',\n",
       " 'zh_pvalues_78.npy',\n",
       " 'zY_neg_rvalues_74.npy',\n",
       " 'zZa_pos_rvalues_78.npy',\n",
       " 'zY_neg_rvalues_63.npy',\n",
       " 'zY_pos_pvalues_30.npy',\n",
       " 'zY_pos_pvalues_34.npy',\n",
       " 'zYa_neg_rvalues_26.npy',\n",
       " 'zZa_rvalues_83.npy',\n",
       " 'zYa_pvalues_0.npy',\n",
       " 'zYa_pos_rvalues_82.npy',\n",
       " 'zh_pvalues_67.npy',\n",
       " 'zY_pvalues_74.npy',\n",
       " 'zY_rvalues_60.npy',\n",
       " 'zZa_neg_pvalues_65.npy',\n",
       " 'zZa_neg_rvalues_11.npy',\n",
       " 'zY_pvalues_68.npy',\n",
       " 'zh_rvalues_81.npy',\n",
       " 'zYa_rvalues_46.npy',\n",
       " 'zZa_pvalues_53.npy',\n",
       " 'stack46.npy',\n",
       " 'stack84.npy',\n",
       " 'zZ_pos_rvalues_25.npy',\n",
       " 'zZ_rvalues_70.npy',\n",
       " 'zZa_pos_rvalues_19.npy',\n",
       " 'zY_pos_pvalues_9.npy',\n",
       " 'zZa_neg_rvalues_58.npy',\n",
       " 'zY_pos_pvalues_23.npy',\n",
       " 'zYa_neg_pvalues_58.npy',\n",
       " 'zYa_pos_rvalues_3.npy',\n",
       " 'zZ_pvalues_71.npy',\n",
       " 'zZa_pos_pvalues_14.npy',\n",
       " 'zY_neg_pvalues_30.npy',\n",
       " 'zZ_pos_rvalues_0.npy',\n",
       " 'zY_pos_rvalues_23.npy',\n",
       " 'zZ_neg_rvalues_87.npy',\n",
       " 'zZ_neg_rvalues_29.npy',\n",
       " 'zZ_neg_rvalues_69.npy',\n",
       " 'zZ_pvalues_90.npy',\n",
       " 'zZ_neg_pvalues_74.npy',\n",
       " 'zY_pos_rvalues_87.npy',\n",
       " 'z68_pooled_behavior.npy',\n",
       " 'zZa_pos_pvalues_35.npy',\n",
       " 'zZa_neg_pvalues_77.npy',\n",
       " 'zZa_pos_pvalues_4.npy',\n",
       " 'zYa_pos_rvalues_79.npy',\n",
       " 'zZ_neg_rvalues_71.npy',\n",
       " 'stack79.npy',\n",
       " 'zZ_pvalues_22.npy',\n",
       " 'zY_neg_rvalues_83.npy',\n",
       " 'zh_rvalues_19.npy',\n",
       " 'zY_neg_pvalues_7.npy',\n",
       " 'stack27.npy',\n",
       " 'zY_neg_pvalues_77.npy',\n",
       " 'zZa_neg_pvalues_2.npy',\n",
       " 'zY_neg_rvalues_77.npy',\n",
       " 'zh_rvalues_8.npy',\n",
       " 'zZa_neg_pvalues_54.npy',\n",
       " 'zZ_neg_rvalues_10.npy',\n",
       " 'zYa_neg_rvalues_78.npy',\n",
       " 'zYa_pos_rvalues_63.npy',\n",
       " 'zY_rvalues_71.npy',\n",
       " 'zZ_pos_pvalues_36.npy',\n",
       " 'zY_pos_pvalues_70.npy',\n",
       " 'zZa_pvalues_74.npy',\n",
       " 'zZ_pos_rvalues_82.npy',\n",
       " 'zY_pos_pvalues_78.npy',\n",
       " 'zZa_neg_rvalues_3.npy',\n",
       " 'zYa_pos_rvalues_52.npy',\n",
       " 'zZa_neg_rvalues_80.npy',\n",
       " 'zY_pvalues_66.npy',\n",
       " 'zZa_neg_pvalues_53.npy',\n",
       " 'zZ_neg_rvalues_55.npy',\n",
       " 'zYa_neg_pvalues_86.npy',\n",
       " 'zY_rvalues_29.npy',\n",
       " 'zZa_pvalues_30.npy',\n",
       " 'zZa_neg_rvalues_45.npy',\n",
       " 'zY_pos_rvalues_3.npy',\n",
       " 'zYa_pvalues_43.npy',\n",
       " 'zY_pvalues_77.npy',\n",
       " 'zZ_pos_pvalues_6.npy',\n",
       " 'zh_pvalues_29.npy',\n",
       " 'zZ_neg_pvalues_23.npy',\n",
       " 'zYa_pos_rvalues_5.npy',\n",
       " 'zY_rvalues_87.npy',\n",
       " 'zZa_rvalues_87.npy',\n",
       " 'zY_pos_pvalues_66.npy',\n",
       " 'zh_pvalues_35.npy',\n",
       " 'zZa_neg_rvalues_25.npy',\n",
       " 'z22_pooled_behavior.npy',\n",
       " 'zh_rvalues_60.npy',\n",
       " 'zZ_rvalues_19.npy',\n",
       " 'zY_rvalues_79.npy',\n",
       " 'zYa_pos_pvalues_34.npy',\n",
       " 'zh_rvalues_14.npy',\n",
       " 'zZa_neg_pvalues_25.npy',\n",
       " 'zY_neg_pvalues_13.npy',\n",
       " 'zYa_neg_rvalues_6.npy',\n",
       " 'zZa_rvalues_68.npy',\n",
       " 'zYa_pos_pvalues_42.npy',\n",
       " 'zYa_rvalues_53.npy',\n",
       " 'zY_pos_pvalues_1.npy',\n",
       " 'zZa_pvalues_20.npy',\n",
       " 'zZa_neg_pvalues_20.npy',\n",
       " 'z20_pooled_behavior.npy',\n",
       " 'zY_pvalues_79.npy',\n",
       " 'zZ_neg_rvalues_24.npy',\n",
       " 'zY_pos_pvalues_86.npy',\n",
       " 'zZa_pos_pvalues_52.npy',\n",
       " 'z35_pooled_behavior.npy',\n",
       " 'zZa_pos_rvalues_1.npy',\n",
       " 'zYa_pos_pvalues_84.npy',\n",
       " 'zY_neg_pvalues_47.npy',\n",
       " 'zYa_pos_rvalues_41.npy',\n",
       " 'zh_pvalues_62.npy',\n",
       " 'zZa_pos_pvalues_55.npy',\n",
       " 'zZ_pos_rvalues_61.npy',\n",
       " 'zY_neg_pvalues_26.npy',\n",
       " 'zY_pos_rvalues_37.npy',\n",
       " 'zZa_pos_rvalues_5.npy',\n",
       " 'zY_pos_rvalues_27.npy',\n",
       " 'zZa_neg_pvalues_38.npy',\n",
       " 'zY_pos_rvalues_21.npy',\n",
       " 'zYa_rvalues_2.npy',\n",
       " 'zZa_neg_rvalues_64.npy',\n",
       " 'zYa_pvalues_63.npy',\n",
       " 'zY_neg_rvalues_3.npy',\n",
       " 'zZ_neg_pvalues_35.npy',\n",
       " 'zZ_pos_pvalues_34.npy',\n",
       " 'zZa_pos_rvalues_77.npy',\n",
       " 'zZa_rvalues_23.npy',\n",
       " 'zYa_pvalues_14.npy',\n",
       " 'zZ_neg_rvalues_67.npy',\n",
       " 'zY_pos_pvalues_47.npy',\n",
       " 'zY_neg_rvalues_29.npy',\n",
       " 'zZa_pos_rvalues_52.npy',\n",
       " 'zYa_pos_rvalues_85.npy',\n",
       " 'zZa_pvalues_72.npy',\n",
       " 'zZ_pvalues_27.npy',\n",
       " 'zZa_pvalues_8.npy',\n",
       " 'zY_pos_rvalues_32.npy',\n",
       " 'zY_neg_rvalues_72.npy',\n",
       " 'zYa_pos_rvalues_23.npy',\n",
       " 'zZa_pvalues_18.npy',\n",
       " 'zY_pos_pvalues_77.npy',\n",
       " 'zZ_pos_pvalues_28.npy',\n",
       " 'zZa_pos_pvalues_76.npy',\n",
       " 'zY_neg_rvalues_47.npy',\n",
       " 'zZ_pos_pvalues_12.npy',\n",
       " 'zYa_rvalues_41.npy',\n",
       " 'zYa_neg_pvalues_76.npy',\n",
       " 'zZ_neg_pvalues_21.npy',\n",
       " 'zYa_neg_pvalues_82.npy',\n",
       " 'zYa_neg_rvalues_64.npy',\n",
       " 'zY_rvalues_15.npy',\n",
       " 'zYa_neg_rvalues_50.npy',\n",
       " 'zh_pvalues_8.npy',\n",
       " 'zYa_neg_rvalues_53.npy',\n",
       " 'zYa_pvalues_75.npy',\n",
       " 'zZa_pos_pvalues_89.npy',\n",
       " 'zYa_pvalues_54.npy',\n",
       " 'zZa_rvalues_82.npy',\n",
       " 'zZ_rvalues_33.npy',\n",
       " 'zYa_neg_pvalues_44.npy',\n",
       " 'zZ_pos_rvalues_11.npy',\n",
       " 'zZa_pos_pvalues_20.npy',\n",
       " 'zY_pos_pvalues_21.npy',\n",
       " 'zY_pos_rvalues_54.npy',\n",
       " 'zYa_pvalues_53.npy',\n",
       " 'zZ_pvalues_52.npy',\n",
       " 'zZ_rvalues_81.npy',\n",
       " 'zZa_pos_pvalues_1.npy',\n",
       " 'zh_pvalues_25.npy',\n",
       " 'zY_pos_pvalues_48.npy',\n",
       " 'zY_pos_rvalues_76.npy',\n",
       " 'zZ_rvalues_64.npy',\n",
       " 'zY_rvalues_68.npy',\n",
       " 'z38_pooled_behavior.npy',\n",
       " 'z82_pooled_behavior.npy',\n",
       " 'zZ_pos_rvalues_41.npy',\n",
       " 'zYa_rvalues_48.npy',\n",
       " 'zY_pvalues_35.npy',\n",
       " 'zYa_pos_pvalues_43.npy',\n",
       " 'zYa_pos_rvalues_58.npy',\n",
       " 'zZa_neg_pvalues_40.npy',\n",
       " 'zZ_pos_rvalues_33.npy',\n",
       " 'zYa_neg_pvalues_50.npy',\n",
       " 'zZ_pos_rvalues_27.npy',\n",
       " 'zZa_rvalues_7.npy',\n",
       " 'zZ_rvalues_73.npy',\n",
       " 'zh_pvalues_40.npy',\n",
       " 'zY_neg_pvalues_53.npy',\n",
       " 'zY_neg_pvalues_90.npy',\n",
       " 'zZa_rvalues_77.npy',\n",
       " 'zZa_neg_rvalues_82.npy',\n",
       " 'zY_pvalues_4.npy',\n",
       " 'zZ_pos_rvalues_48.npy',\n",
       " 'zZa_pos_pvalues_56.npy',\n",
       " 'zZa_pos_pvalues_37.npy',\n",
       " 'zZa_pos_pvalues_6.npy',\n",
       " 'zY_pos_pvalues_11.npy',\n",
       " 'zZ_rvalues_55.npy',\n",
       " 'zYa_pos_rvalues_15.npy',\n",
       " 'zZa_rvalues_46.npy',\n",
       " 'zZa_pvalues_88.npy',\n",
       " 'zZa_pos_rvalues_28.npy',\n",
       " 'z48_pooled_behavior.npy',\n",
       " 'zZa_pos_rvalues_37.npy',\n",
       " 'zh_pvalues_13.npy',\n",
       " 'zZ_neg_pvalues_65.npy',\n",
       " 'zY_rvalues_69.npy',\n",
       " 'zZ_pos_pvalues_65.npy',\n",
       " 'zY_pvalues_38.npy',\n",
       " 'zh_pvalues_12.npy',\n",
       " 'zYa_rvalues_35.npy',\n",
       " 'zY_pvalues_0.npy',\n",
       " 'zZa_pos_rvalues_30.npy',\n",
       " 'zY_rvalues_36.npy',\n",
       " 'z51_pooled_behavior.npy',\n",
       " 'zZ_pos_pvalues_42.npy',\n",
       " ...]"
      ]
     },
     "execution_count": 16,
     "metadata": {},
     "output_type": "execute_result"
    }
   ],
   "source": [
    "os.listdir(\"/oak/stanford/groups/trc/data/yandan/2P_Imaging/2023August/aggregated_fly/\")"
   ]
  },
  {
   "cell_type": "code",
   "execution_count": 15,
   "metadata": {},
   "outputs": [
    {
     "data": {
      "text/plain": [
       "array({'Y': array([ 0.00016548, -0.01481374,  0.0055856 , ..., -0.00196778,\n",
       "        0.00454664,  0.        ]), 'Z': array([-7.87067429e-05,  3.39911138e-02, -4.01671733e-03, ...,\n",
       "        1.20847846e-02, -4.64960013e-03,  0.00000000e+00]), 'Ya': array([-1.67599290e-06, -1.54819741e-03,  5.51792153e-04, ...,\n",
       "        2.48869048e-04, -5.43126312e-04,  0.00000000e+00]), 'Za': array([1.41709702e-05, 2.76199350e-03, 1.19446828e-03, ...,\n",
       "       2.72286392e-03, 3.55495702e-03, 0.00000000e+00]), 'h': array([ 6.28234309,  5.98544534,  6.11488242, ..., -0.76566147,\n",
       "        0.32084439,  0.        ]), 'Y_pos': array([0.00016548, 0.        , 0.0055856 , ..., 0.        , 0.00454664,\n",
       "       0.        ]), 'Y_neg': array([-0.        ,  0.01481374, -0.        , ...,  0.00196778,\n",
       "       -0.        , -0.        ]), 'Z_pos': array([0.        , 0.03399111, 0.        , ..., 0.01208478, 0.        ,\n",
       "       0.        ]), 'Z_neg': array([ 7.87067429e-05, -0.00000000e+00,  4.01671733e-03, ...,\n",
       "       -0.00000000e+00,  4.64960013e-03, -0.00000000e+00]), 'Ya_pos': array([0.        , 0.        , 0.00055179, ..., 0.00024887, 0.        ,\n",
       "       0.        ]), 'Ya_neg': array([ 1.67599290e-06,  1.54819741e-03, -0.00000000e+00, ...,\n",
       "       -0.00000000e+00,  5.43126312e-04, -0.00000000e+00]), 'Za_pos': array([1.41709702e-05, 2.76199350e-03, 1.19446828e-03, ...,\n",
       "       2.72286392e-03, 3.55495702e-03, 0.00000000e+00]), 'Za_neg': array([-0., -0., -0., ..., -0., -0., -0.])},\n",
       "      dtype=object)"
      ]
     },
     "execution_count": 15,
     "metadata": {},
     "output_type": "execute_result"
    }
   ],
   "source": [
    "foo_1"
   ]
  },
  {
   "cell_type": "code",
   "execution_count": 25,
   "metadata": {},
   "outputs": [
    {
     "data": {
      "text/plain": [
       "array({'Y': array([8.19054198e-05, 7.77400045e-03, 5.66983244e-04, ...,\n",
       "       1.26479540e-03, 3.13025868e-03, 0.00000000e+00]), 'Z': array([-1.62328927e-05,  1.01796963e-02,  1.26811886e-02, ...,\n",
       "        1.37419360e-03,  2.80114136e-03,  0.00000000e+00]), 'Ya': array([ 1.18813904e-05, -7.95443747e-04, -2.88527331e-04, ...,\n",
       "       -2.71767283e-04, -5.44167320e-04,  0.00000000e+00]), 'Za': array([-0.00014385, -0.00548281, -0.00022527, ..., -0.0009889 ,\n",
       "       -0.00199255,  0.        ]), 'h': array([6.28161567, 5.20907892, 5.9667145 , ..., 6.47837592, 0.08871302,\n",
       "       0.        ]), 'Y_pos': array([8.19054198e-05, 7.77400045e-03, 5.66983244e-04, ...,\n",
       "       1.26479540e-03, 3.13025868e-03, 0.00000000e+00]), 'Y_neg': array([-0., -0., -0., ..., -0., -0., -0.]), 'Z_pos': array([0.        , 0.0101797 , 0.01268119, ..., 0.00137419, 0.00280114,\n",
       "       0.        ]), 'Z_neg': array([ 1.62328927e-05, -0.00000000e+00, -0.00000000e+00, ...,\n",
       "       -0.00000000e+00, -0.00000000e+00, -0.00000000e+00]), 'Ya_pos': array([1.18813904e-05, 0.00000000e+00, 0.00000000e+00, ...,\n",
       "       0.00000000e+00, 0.00000000e+00, 0.00000000e+00]), 'Ya_neg': array([-0.        ,  0.00079544,  0.00028853, ...,  0.00027177,\n",
       "        0.00054417, -0.        ]), 'Za_pos': array([0., 0., 0., ..., 0., 0., 0.]), 'Za_neg': array([ 0.00014385,  0.00548281,  0.00022527, ...,  0.0009889 ,\n",
       "        0.00199255, -0.        ])}, dtype=object)"
      ]
     },
     "execution_count": 25,
     "metadata": {},
     "output_type": "execute_result"
    }
   ],
   "source": [
    "foo_2"
   ]
  },
  {
   "cell_type": "code",
   "execution_count": 16,
   "metadata": {
    "scrolled": true
   },
   "outputs": [
    {
     "name": "stdout",
     "output_type": "stream",
     "text": [
      "0\n",
      "Duration: 13.031076431274414\n"
     ]
    },
    {
     "ename": "ValueError",
     "evalue": "Wrong shape for connectivity matrix: (32768, 32768) when X is (45844, 13536)",
     "output_type": "error",
     "traceback": [
      "\u001b[0;31m---------------------------------------------------------------------------\u001b[0m",
      "\u001b[0;31mValueError\u001b[0m                                Traceback (most recent call last)",
      "\u001b[0;32m<ipython-input-16-f4465e0f3721>\u001b[0m in \u001b[0;36m<module>\u001b[0;34m()\u001b[0m\n\u001b[1;32m     24\u001b[0m \u001b[0;34m\u001b[0m\u001b[0m\n\u001b[1;32m     25\u001b[0m     \u001b[0mn_clusters\u001b[0m \u001b[0;34m=\u001b[0m \u001b[0;36m2000\u001b[0m \u001b[0;31m# you have to tell the function how many supervoxels you want. I swept this number.\u001b[0m\u001b[0;34m\u001b[0m\u001b[0m\n\u001b[0;32m---> 26\u001b[0;31m     \u001b[0mcluster_model\u001b[0m \u001b[0;34m=\u001b[0m \u001b[0mcreate_clusters\u001b[0m\u001b[0;34m(\u001b[0m\u001b[0mbrain\u001b[0m\u001b[0;34m,\u001b[0m \u001b[0mn_clusters\u001b[0m\u001b[0;34m)\u001b[0m\u001b[0;34m\u001b[0m\u001b[0m\n\u001b[0m\u001b[1;32m     27\u001b[0m     \u001b[0mlabels\u001b[0m\u001b[0;34m.\u001b[0m\u001b[0mappend\u001b[0m\u001b[0;34m(\u001b[0m\u001b[0mcluster_model\u001b[0m\u001b[0;34m.\u001b[0m\u001b[0mlabels_\u001b[0m\u001b[0;34m)\u001b[0m\u001b[0;34m\u001b[0m\u001b[0m\n\u001b[1;32m     28\u001b[0m \u001b[0;34m\u001b[0m\u001b[0m\n",
      "\u001b[0;32m<ipython-input-16-f4465e0f3721>\u001b[0m in \u001b[0;36mcreate_clusters\u001b[0;34m(brain, n_clusters)\u001b[0m\n\u001b[1;32m      8\u001b[0m                                     \u001b[0mlinkage\u001b[0m\u001b[0;34m=\u001b[0m\u001b[0;34m'ward'\u001b[0m\u001b[0;34m,\u001b[0m\u001b[0;34m\u001b[0m\u001b[0m\n\u001b[1;32m      9\u001b[0m                                     connectivity=connectivity)\n\u001b[0;32m---> 10\u001b[0;31m     \u001b[0mcluster_model\u001b[0m\u001b[0;34m.\u001b[0m\u001b[0mfit\u001b[0m\u001b[0;34m(\u001b[0m\u001b[0msuper_to_cluster\u001b[0m\u001b[0;34m)\u001b[0m\u001b[0;34m\u001b[0m\u001b[0m\n\u001b[0m\u001b[1;32m     11\u001b[0m     \u001b[0mprint\u001b[0m\u001b[0;34m(\u001b[0m\u001b[0;34m'Duration: {}'\u001b[0m\u001b[0;34m.\u001b[0m\u001b[0mformat\u001b[0m\u001b[0;34m(\u001b[0m\u001b[0mtime\u001b[0m\u001b[0;34m.\u001b[0m\u001b[0mtime\u001b[0m\u001b[0;34m(\u001b[0m\u001b[0;34m)\u001b[0m\u001b[0;34m-\u001b[0m\u001b[0mt0\u001b[0m\u001b[0;34m)\u001b[0m\u001b[0;34m)\u001b[0m\u001b[0;34m\u001b[0m\u001b[0m\n\u001b[1;32m     12\u001b[0m     \u001b[0;32mreturn\u001b[0m \u001b[0mcluster_model\u001b[0m\u001b[0;34m\u001b[0m\u001b[0m\n",
      "\u001b[0;32m~/.local/lib/python3.6/site-packages/sklearn/cluster/_agglomerative.py\u001b[0m in \u001b[0;36mfit\u001b[0;34m(self, X, y)\u001b[0m\n\u001b[1;32m    898\u001b[0m                                          \u001b[0mn_clusters\u001b[0m\u001b[0;34m=\u001b[0m\u001b[0mn_clusters\u001b[0m\u001b[0;34m,\u001b[0m\u001b[0;34m\u001b[0m\u001b[0m\n\u001b[1;32m    899\u001b[0m                                          \u001b[0mreturn_distance\u001b[0m\u001b[0;34m=\u001b[0m\u001b[0mreturn_distance\u001b[0m\u001b[0;34m,\u001b[0m\u001b[0;34m\u001b[0m\u001b[0m\n\u001b[0;32m--> 900\u001b[0;31m                                          **kwargs)\n\u001b[0m\u001b[1;32m    901\u001b[0m         (self.children_,\n\u001b[1;32m    902\u001b[0m          \u001b[0mself\u001b[0m\u001b[0;34m.\u001b[0m\u001b[0mn_connected_components_\u001b[0m\u001b[0;34m,\u001b[0m\u001b[0;34m\u001b[0m\u001b[0m\n",
      "\u001b[0;32m~/.local/lib/python3.6/site-packages/joblib/memory.py\u001b[0m in \u001b[0;36m__call__\u001b[0;34m(self, *args, **kwargs)\u001b[0m\n\u001b[1;32m    592\u001b[0m \u001b[0;34m\u001b[0m\u001b[0m\n\u001b[1;32m    593\u001b[0m     \u001b[0;32mdef\u001b[0m \u001b[0m__call__\u001b[0m\u001b[0;34m(\u001b[0m\u001b[0mself\u001b[0m\u001b[0;34m,\u001b[0m \u001b[0;34m*\u001b[0m\u001b[0margs\u001b[0m\u001b[0;34m,\u001b[0m \u001b[0;34m**\u001b[0m\u001b[0mkwargs\u001b[0m\u001b[0;34m)\u001b[0m\u001b[0;34m:\u001b[0m\u001b[0;34m\u001b[0m\u001b[0m\n\u001b[0;32m--> 594\u001b[0;31m         \u001b[0;32mreturn\u001b[0m \u001b[0mself\u001b[0m\u001b[0;34m.\u001b[0m\u001b[0m_cached_call\u001b[0m\u001b[0;34m(\u001b[0m\u001b[0margs\u001b[0m\u001b[0;34m,\u001b[0m \u001b[0mkwargs\u001b[0m\u001b[0;34m)\u001b[0m\u001b[0;34m[\u001b[0m\u001b[0;36m0\u001b[0m\u001b[0;34m]\u001b[0m\u001b[0;34m\u001b[0m\u001b[0m\n\u001b[0m\u001b[1;32m    595\u001b[0m \u001b[0;34m\u001b[0m\u001b[0m\n\u001b[1;32m    596\u001b[0m     \u001b[0;32mdef\u001b[0m \u001b[0m__getstate__\u001b[0m\u001b[0;34m(\u001b[0m\u001b[0mself\u001b[0m\u001b[0;34m)\u001b[0m\u001b[0;34m:\u001b[0m\u001b[0;34m\u001b[0m\u001b[0m\n",
      "\u001b[0;32m~/.local/lib/python3.6/site-packages/joblib/memory.py\u001b[0m in \u001b[0;36m_cached_call\u001b[0;34m(self, args, kwargs, shelving)\u001b[0m\n\u001b[1;32m    535\u001b[0m \u001b[0;34m\u001b[0m\u001b[0m\n\u001b[1;32m    536\u001b[0m         \u001b[0;32mif\u001b[0m \u001b[0mmust_call\u001b[0m\u001b[0;34m:\u001b[0m\u001b[0;34m\u001b[0m\u001b[0m\n\u001b[0;32m--> 537\u001b[0;31m             \u001b[0mout\u001b[0m\u001b[0;34m,\u001b[0m \u001b[0mmetadata\u001b[0m \u001b[0;34m=\u001b[0m \u001b[0mself\u001b[0m\u001b[0;34m.\u001b[0m\u001b[0mcall\u001b[0m\u001b[0;34m(\u001b[0m\u001b[0;34m*\u001b[0m\u001b[0margs\u001b[0m\u001b[0;34m,\u001b[0m \u001b[0;34m**\u001b[0m\u001b[0mkwargs\u001b[0m\u001b[0;34m)\u001b[0m\u001b[0;34m\u001b[0m\u001b[0m\n\u001b[0m\u001b[1;32m    538\u001b[0m             \u001b[0;32mif\u001b[0m \u001b[0mself\u001b[0m\u001b[0;34m.\u001b[0m\u001b[0mmmap_mode\u001b[0m \u001b[0;32mis\u001b[0m \u001b[0;32mnot\u001b[0m \u001b[0;32mNone\u001b[0m\u001b[0;34m:\u001b[0m\u001b[0;34m\u001b[0m\u001b[0m\n\u001b[1;32m    539\u001b[0m                 \u001b[0;31m# Memmap the output at the first call to be consistent with\u001b[0m\u001b[0;34m\u001b[0m\u001b[0;34m\u001b[0m\u001b[0m\n",
      "\u001b[0;32m~/.local/lib/python3.6/site-packages/joblib/memory.py\u001b[0m in \u001b[0;36mcall\u001b[0;34m(self, *args, **kwargs)\u001b[0m\n\u001b[1;32m    777\u001b[0m         \u001b[0;32mif\u001b[0m \u001b[0mself\u001b[0m\u001b[0;34m.\u001b[0m\u001b[0m_verbose\u001b[0m \u001b[0;34m>\u001b[0m \u001b[0;36m0\u001b[0m\u001b[0;34m:\u001b[0m\u001b[0;34m\u001b[0m\u001b[0m\n\u001b[1;32m    778\u001b[0m             \u001b[0mprint\u001b[0m\u001b[0;34m(\u001b[0m\u001b[0mformat_call\u001b[0m\u001b[0;34m(\u001b[0m\u001b[0mself\u001b[0m\u001b[0;34m.\u001b[0m\u001b[0mfunc\u001b[0m\u001b[0;34m,\u001b[0m \u001b[0margs\u001b[0m\u001b[0;34m,\u001b[0m \u001b[0mkwargs\u001b[0m\u001b[0;34m)\u001b[0m\u001b[0;34m)\u001b[0m\u001b[0;34m\u001b[0m\u001b[0m\n\u001b[0;32m--> 779\u001b[0;31m         \u001b[0moutput\u001b[0m \u001b[0;34m=\u001b[0m \u001b[0mself\u001b[0m\u001b[0;34m.\u001b[0m\u001b[0mfunc\u001b[0m\u001b[0;34m(\u001b[0m\u001b[0;34m*\u001b[0m\u001b[0margs\u001b[0m\u001b[0;34m,\u001b[0m \u001b[0;34m**\u001b[0m\u001b[0mkwargs\u001b[0m\u001b[0;34m)\u001b[0m\u001b[0;34m\u001b[0m\u001b[0m\n\u001b[0m\u001b[1;32m    780\u001b[0m         self.store_backend.dump_item(\n\u001b[1;32m    781\u001b[0m             [func_id, args_id], output, verbose=self._verbose)\n",
      "\u001b[0;32m~/.local/lib/python3.6/site-packages/sklearn/utils/validation.py\u001b[0m in \u001b[0;36minner_f\u001b[0;34m(*args, **kwargs)\u001b[0m\n\u001b[1;32m     61\u001b[0m             \u001b[0mextra_args\u001b[0m \u001b[0;34m=\u001b[0m \u001b[0mlen\u001b[0m\u001b[0;34m(\u001b[0m\u001b[0margs\u001b[0m\u001b[0;34m)\u001b[0m \u001b[0;34m-\u001b[0m \u001b[0mlen\u001b[0m\u001b[0;34m(\u001b[0m\u001b[0mall_args\u001b[0m\u001b[0;34m)\u001b[0m\u001b[0;34m\u001b[0m\u001b[0m\n\u001b[1;32m     62\u001b[0m             \u001b[0;32mif\u001b[0m \u001b[0mextra_args\u001b[0m \u001b[0;34m<=\u001b[0m \u001b[0;36m0\u001b[0m\u001b[0;34m:\u001b[0m\u001b[0;34m\u001b[0m\u001b[0m\n\u001b[0;32m---> 63\u001b[0;31m                 \u001b[0;32mreturn\u001b[0m \u001b[0mf\u001b[0m\u001b[0;34m(\u001b[0m\u001b[0;34m*\u001b[0m\u001b[0margs\u001b[0m\u001b[0;34m,\u001b[0m \u001b[0;34m**\u001b[0m\u001b[0mkwargs\u001b[0m\u001b[0;34m)\u001b[0m\u001b[0;34m\u001b[0m\u001b[0m\n\u001b[0m\u001b[1;32m     64\u001b[0m \u001b[0;34m\u001b[0m\u001b[0m\n\u001b[1;32m     65\u001b[0m             \u001b[0;31m# extra_args > 0\u001b[0m\u001b[0;34m\u001b[0m\u001b[0;34m\u001b[0m\u001b[0m\n",
      "\u001b[0;32m~/.local/lib/python3.6/site-packages/sklearn/cluster/_agglomerative.py\u001b[0m in \u001b[0;36mward_tree\u001b[0;34m(X, connectivity, n_clusters, return_distance)\u001b[0m\n\u001b[1;32m    245\u001b[0m     connectivity, n_connected_components = _fix_connectivity(\n\u001b[1;32m    246\u001b[0m                                                 \u001b[0mX\u001b[0m\u001b[0;34m,\u001b[0m \u001b[0mconnectivity\u001b[0m\u001b[0;34m,\u001b[0m\u001b[0;34m\u001b[0m\u001b[0m\n\u001b[0;32m--> 247\u001b[0;31m                                                 affinity='euclidean')\n\u001b[0m\u001b[1;32m    248\u001b[0m     \u001b[0;32mif\u001b[0m \u001b[0mn_clusters\u001b[0m \u001b[0;32mis\u001b[0m \u001b[0;32mNone\u001b[0m\u001b[0;34m:\u001b[0m\u001b[0;34m\u001b[0m\u001b[0m\n\u001b[1;32m    249\u001b[0m         \u001b[0mn_nodes\u001b[0m \u001b[0;34m=\u001b[0m \u001b[0;36m2\u001b[0m \u001b[0;34m*\u001b[0m \u001b[0mn_samples\u001b[0m \u001b[0;34m-\u001b[0m \u001b[0;36m1\u001b[0m\u001b[0;34m\u001b[0m\u001b[0m\n",
      "\u001b[0;32m~/.local/lib/python3.6/site-packages/sklearn/cluster/_agglomerative.py\u001b[0m in \u001b[0;36m_fix_connectivity\u001b[0;34m(X, connectivity, affinity)\u001b[0m\n\u001b[1;32m     44\u001b[0m             connectivity.shape[1] != n_samples):\n\u001b[1;32m     45\u001b[0m         raise ValueError('Wrong shape for connectivity matrix: %s '\n\u001b[0;32m---> 46\u001b[0;31m                          'when X is %s' % (connectivity.shape, X.shape))\n\u001b[0m\u001b[1;32m     47\u001b[0m \u001b[0;34m\u001b[0m\u001b[0m\n\u001b[1;32m     48\u001b[0m     \u001b[0;31m# Make the connectivity matrix symmetric:\u001b[0m\u001b[0;34m\u001b[0m\u001b[0;34m\u001b[0m\u001b[0m\n",
      "\u001b[0;31mValueError\u001b[0m: Wrong shape for connectivity matrix: (32768, 32768) when X is (45844, 13536)"
     ]
    }
   ],
   "source": [
    "def create_clusters(brain, n_clusters):\n",
    "    t0 = time.time()\n",
    "    clustering_dir = \"/oak/stanford/groups/trc/data/yandan/2P_Imaging/2023August/aggregated_fly\"\n",
    "    super_to_cluster = brain.reshape(-1, 3384*4)\n",
    "    connectivity = image.grid_to_graph(256,128) ### this is based on image dimensions of a single slice\n",
    "    cluster_model = AgglomerativeClustering(n_clusters=n_clusters,\n",
    "                                    memory=clustering_dir,\n",
    "                                    linkage='ward',\n",
    "                                    connectivity=connectivity)\n",
    "    cluster_model.fit(super_to_cluster)\n",
    "    print('Duration: {}'.format(time.time()-t0))\n",
    "    return cluster_model\n",
    "\n",
    "labels = []\n",
    "### loop over z-slices\n",
    "for z in range(49):\n",
    "    print(z)\n",
    "    t0 = time.time()\n",
    "    brain_file = \"/oak/stanford/groups/trc/data/yandan/2P_Imaging/2023August/aggregated_fly/stack{}.npy\".format(z)\n",
    "    brain = np.array(np.load(brain_file), copy=True)\n",
    "    # Delete a fly that is in the superslice but was excluded from all analysis due to not passing quality control\n",
    "    print(f'Duration: {time.time()-t0}')\n",
    "    # brain = np.delete(brain, fly_idx_delete, axis=-1) #### DELETING FLY_095 ####\n",
    "\n",
    "    n_clusters = 2000 # you have to tell the function how many supervoxels you want. I swept this number.\n",
    "    cluster_model = create_clusters(brain, n_clusters)\n",
    "    labels.append(cluster_model.labels_)\n",
    "    \n",
    "save_file = '/oak/stanford/groups/trc/data/yandan/2P_Imaging/2023August/aggregated_fly/darkbar_4_cluster_labels_2000'\n",
    "np.save(save_file, np.asarray(labels))"
   ]
  },
  {
   "cell_type": "code",
   "execution_count": null,
   "metadata": {
    "collapsed": true
   },
   "outputs": [],
   "source": []
  }
 ],
 "metadata": {
  "kernelspec": {
   "display_name": "Python 3",
   "language": "python",
   "name": "python3"
  },
  "language_info": {
   "codemirror_mode": {
    "name": "ipython",
    "version": 3
   },
   "file_extension": ".py",
   "mimetype": "text/x-python",
   "name": "python",
   "nbconvert_exporter": "python",
   "pygments_lexer": "ipython3",
   "version": "3.6.1"
  }
 },
 "nbformat": 4,
 "nbformat_minor": 2
}
