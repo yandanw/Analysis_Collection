{
 "cells": [
  {
   "cell_type": "code",
   "execution_count": 7,
   "metadata": {},
   "outputs": [],
   "source": [
    "import brainsss\n",
    "import os\n",
    "import numpy as np\n",
    "import matplotlib.pyplot as plt\n",
    "%matplotlib inline\n",
    "from sklearn.cluster import AgglomerativeClustering\n",
    "import scipy\n",
    "from scipy.cluster.hierarchy import dendrogram\n",
    "from scipy.cluster.hierarchy import fcluster\n",
    "from scipy.cluster import hierarchy\n",
    "import matplotlib as mpl\n",
    "from matplotlib.pyplot import cm\n",
    "import random\n",
    "from scipy.stats import sem\n",
    "import time\n",
    "import h5py\n",
    "import ants\n",
    "import nibabel as nib\n",
    "import matplotlib\n",
    "from scipy.ndimage import gaussian_filter1d\n",
    "from scipy.interpolate import interp1d as interp1d"
   ]
  },
  {
   "cell_type": "code",
   "execution_count": 2,
   "metadata": {
    "collapsed": true
   },
   "outputs": [],
   "source": [
    "func_path = '/oak/stanford/groups/trc/data/Brezovec/2P_Imaging/20190101_walking_dataset/fly_262/func_0/'"
   ]
  },
  {
   "cell_type": "code",
   "execution_count": null,
   "metadata": {
    "collapsed": true
   },
   "outputs": [],
   "source": []
  },
  {
   "cell_type": "code",
   "execution_count": 8,
   "metadata": {},
   "outputs": [
    {
     "name": "stdout",
     "output_type": "stream",
     "text": [
      "loading photodiode data... done\n",
      "Trying to load timestamp data from hdf5 file.\n",
      "Success.\n",
      "(256, 128, 49, 3384)\n"
     ]
    }
   ],
   "source": [
    "###########################\n",
    "### PREP VISUAL STIMULI ###\n",
    "###########################\n",
    "\n",
    "vision_path = os.path.join(func_path, 'visual')\n",
    "### Load Photodiode ###\n",
    "t, ft_triggers, pd1, pd2 = brainsss.load_photodiode(vision_path)\n",
    "stimulus_start_times = brainsss.extract_stim_times_from_pd(pd2, t)\n",
    "### Unifrom the units and Make then intigers ###\n",
    "stimulus_start_times = (stimulus_start_times*100).astype('int') #index needs to be an integers\n",
    "\n",
    "\n",
    "####################\n",
    "### Prep Fictrac ###\n",
    "####################\n",
    "\n",
    "fictrac_path = os.path.join(func_path, 'fictrac')\n",
    "fictrac_raw = brainsss.load_fictrac(fictrac_path)\n",
    "\n",
    "timestamps = brainsss.load_timestamps(os.path.join(func_path, 'imaging'))\n",
    "### find the timestamps for neural data ###\n",
    "fixed = brainsss.load_fda_meanbrain()\n",
    "\n",
    "fps = 100\n",
    "resolution = 10 #desired resolution in ms\n",
    "expt_len = fictrac_raw.shape[0]/fps*1000\n",
    "behaviors = ['dRotLabY', 'dRotLabZ', 'heading']\n",
    "fictrac = {}\n",
    "for behavior in behaviors:\n",
    "    if behavior == 'dRotLabY': short = 'Y'\n",
    "    elif behavior == 'dRotLabZ': short = 'Z'\n",
    "    elif behavior == 'heading': short = 'h'\n",
    "    fictrac[short] = brainsss.smooth_and_interp_fictrac(fictrac_raw, fps, resolution, expt_len, behavior)\n",
    "    #fictrac[short] = np.roll(fictrac[short],400) # <------- misalignment is corrected !!!!!!\n",
    "fictrac_timestamps = np.arange(0,expt_len,resolution)\n",
    "\n",
    "fictrac['h'] = np.rad2deg(fictrac['h'])\n",
    "\n",
    "def extract_traces(fictrac, stim_times, pre_window, post_window, behavior='Z'):\n",
    "    traces = []\n",
    "    for i in range(len(stim_times)):\n",
    "        trace = fictrac[behavior][stim_times[i]-pre_window:stim_times[i]+post_window]\n",
    "        if len(trace) == pre_window + post_window: # this handles fictrac that crashed or was aborted or some bullshit\n",
    "            traces.append(trace)\n",
    "    traces = np.asarray(traces)\n",
    "    mean_trace = np.mean(traces,axis=0)\n",
    "    sem_trace = scipy.stats.sem(traces,axis=0)\n",
    "    return traces, mean_trace, sem_trace\n",
    "\n",
    "### Prep for neural data ###\n",
    "neural_file = os.path.join(func_path, 'functional_channel_2_moco_zscore_highpass.h5') #\n",
    "with h5py.File(neural_file, 'r') as h:\n",
    "    print(h['data'].shape)\n",
    "    neural = h['data'][:]\n",
    "\n",
    "\n",
    "### Prep for Explotion ###\n",
    "atlas = brainsss.load_roi_atlas()\n",
    "\n",
    "explosion_rois = brainsss.load_explosion_groups()\n",
    "all_rois = brainsss.unnest_roi_groups(explosion_rois)\n",
    "roi_masks = brainsss.make_single_roi_masks(all_rois, atlas)\n",
    "roi_contours = brainsss.make_single_roi_contours(roi_masks, atlas)"
   ]
  },
  {
   "cell_type": "code",
   "execution_count": 18,
   "metadata": {},
   "outputs": [
    {
     "data": {
      "text/plain": [
       "(180000,)"
      ]
     },
     "execution_count": 18,
     "metadata": {},
     "output_type": "execute_result"
    }
   ],
   "source": [
    "timestamps.shape\n",
    "heading.shape\n",
    "fictrac_timestamps.shape"
   ]
  },
  {
   "cell_type": "code",
   "execution_count": 9,
   "metadata": {
    "collapsed": true
   },
   "outputs": [],
   "source": [
    "heading = fictrac['h']-fictrac['h'][100]\n",
    "### The bar showed at 1st second\n",
    "### so the starting position of the bar should remove the deviation created by the 1 secnd.\n",
    "\n",
    "### move negative values to be just under 360, and move nums above 360 to be just above 0\n",
    "heading = heading%360\n",
    "# timestamps = brainsss.load_timestamps(os.path.join(func_path, 'imaging'))\n",
    "### find the timestamps for neural data ###\n",
    "fictrac_timestamps = np.arange(0,1800000,10)\n",
    "\n",
    "def interpolate_to_neural(slice_num, timestamps):\n",
    "    x = timestamps[:, slice_num]\n",
    "    f = interp1d(fictrac_timestamps, heading, fill_value=\"extrapolate\") \n",
    "    ynew = f(x)\n",
    "    return ynew"
   ]
  },
  {
   "cell_type": "code",
   "execution_count": 11,
   "metadata": {
    "collapsed": true
   },
   "outputs": [],
   "source": []
  },
  {
   "cell_type": "code",
   "execution_count": 20,
   "metadata": {
    "collapsed": true
   },
   "outputs": [],
   "source": [
    "turning = fictrac['Z']-fictrac['Z'][100]\n",
    "### The bar showed at 1st second\n",
    "### so the starting position of the bar should remove the deviation created by the 1 secnd.\n",
    "def interpolate_turning_to_neural(slice_num, timestamps):\n",
    "    x = timestamps[:, slice_num]\n",
    "    f = interp1d(fictrac_timestamps, turning, fill_value=\"extrapolate\") \n",
    "    ynew = f(x)\n",
    "    return ynew"
   ]
  },
  {
   "cell_type": "code",
   "execution_count": 31,
   "metadata": {},
   "outputs": [
    {
     "data": {
      "text/plain": [
       "[<matplotlib.lines.Line2D at 0x7fcf5ddeada0>]"
      ]
     },
     "execution_count": 31,
     "metadata": {},
     "output_type": "execute_result"
    },
    {
     "data": {
      "image/png": "[encoded data removed]",
      "text/plain": [
       "<Figure size 432x288 with 1 Axes>"
      ]
     },
     "metadata": {},
     "output_type": "display_data"
    }
   ],
   "source": [
    "plt.plot(turning)"
   ]
  },
  {
   "cell_type": "code",
   "execution_count": 30,
   "metadata": {},
   "outputs": [
    {
     "data": {
      "text/plain": [
       "[<matplotlib.lines.Line2D at 0x7fcf5ddeaa20>]"
      ]
     },
     "execution_count": 30,
     "metadata": {},
     "output_type": "execute_result"
    },
    {
     "data": {
      "image/png": "[encoded data removed]",
      "text/plain": [
       "<Figure size 432x288 with 1 Axes>"
      ]
     },
     "metadata": {},
     "output_type": "display_data"
    }
   ],
   "source": [
    "turning_interpolated_single = interpolate_turning_to_neural(10, timestamps)\n",
    "\n",
    "plt.plot(turning_interpolated_single)"
   ]
  },
  {
   "cell_type": "code",
   "execution_count": 24,
   "metadata": {},
   "outputs": [
    {
     "name": "stdout",
     "output_type": "stream",
     "text": [
      "0\n",
      "(3384,)\n",
      "1\n",
      "(3384,)\n",
      "2\n",
      "(3384,)\n",
      "3\n",
      "(3384,)\n",
      "4\n",
      "(3384,)\n",
      "5\n",
      "(3384,)\n",
      "6\n",
      "(3384,)\n",
      "7\n",
      "(3384,)\n",
      "8\n",
      "(3384,)\n",
      "9\n",
      "(3384,)\n",
      "10\n",
      "(3384,)\n",
      "11\n",
      "(3384,)\n",
      "12\n",
      "(3384,)\n",
      "13\n",
      "(3384,)\n",
      "14\n",
      "(3384,)\n",
      "15\n",
      "(3384,)\n",
      "16\n",
      "(3384,)\n",
      "17\n",
      "(3384,)\n",
      "18\n",
      "(3384,)\n",
      "19\n",
      "(3384,)\n",
      "20\n",
      "(3384,)\n",
      "21\n",
      "(3384,)\n",
      "22\n",
      "(3384,)\n",
      "23\n",
      "(3384,)\n",
      "24\n",
      "(3384,)\n",
      "25\n",
      "(3384,)\n",
      "26\n",
      "(3384,)\n",
      "27\n",
      "(3384,)\n",
      "28\n",
      "(3384,)\n",
      "29\n",
      "(3384,)\n",
      "30\n",
      "(3384,)\n",
      "31\n",
      "(3384,)\n",
      "32\n",
      "(3384,)\n",
      "33\n",
      "(3384,)\n",
      "34\n",
      "(3384,)\n",
      "35\n",
      "(3384,)\n",
      "36\n",
      "(3384,)\n",
      "37\n",
      "(3384,)\n",
      "38\n",
      "(3384,)\n",
      "39\n",
      "(3384,)\n",
      "40\n",
      "(3384,)\n",
      "41\n",
      "(3384,)\n",
      "42\n",
      "(3384,)\n",
      "43\n",
      "(3384,)\n",
      "44\n",
      "(3384,)\n",
      "45\n",
      "(3384,)\n",
      "46\n",
      "(3384,)\n",
      "47\n",
      "(3384,)\n",
      "48\n",
      "(3384,)\n"
     ]
    },
    {
     "data": {
      "text/plain": [
       "(12, 256, 128, 49)"
      ]
     },
     "execution_count": 24,
     "metadata": {},
     "output_type": "execute_result"
    }
   ],
   "source": [
    "bins = np.arange(-180,181,30)\n",
    "all_slices = []\n",
    "for z in range(49):\n",
    "    print(z)\n",
    "    slice_neural = neural[:,:,z,:]\n",
    "    \n",
    "    heading_interpolated = interpolate_to_neural(z,timestamps)\n",
    "    ### redefine 0\n",
    "    heading_interpolated -= 180\n",
    "    \n",
    "    avg_neural_barposition = []\n",
    "    bin_middle = []\n",
    "    for i in range(len(bins)-1):\n",
    "        start = bins[i]\n",
    "        stop = bins[i+1]\n",
    "        bin_middle.append((start+stop)/2)\n",
    "        ids = np.where(np.logical_and(heading_interpolated>start, heading_interpolated<=stop))[0]\n",
    "        avg_neural_barposition.append(np.mean(slice_neural[:,:,ids],axis=2))\n",
    "    all_slices.append(np.asarray(avg_neural_barposition))\n",
    "all_slices = np.asarray(all_slices)\n",
    "\n",
    "\n",
    "#STA_brain should be shape (12,256,128,49)\n",
    "all_slices = np.moveaxis(all_slices,0,3)\n",
    "all_slices.shape\n",
    "\n"
   ]
  },
  {
   "cell_type": "code",
   "execution_count": 40,
   "metadata": {},
   "outputs": [
    {
     "data": {
      "text/plain": [
       "[-165.0,\n",
       " -135.0,\n",
       " -105.0,\n",
       " -75.0,\n",
       " -45.0,\n",
       " -15.0,\n",
       " 15.0,\n",
       " 45.0,\n",
       " 75.0,\n",
       " 105.0,\n",
       " 135.0,\n",
       " 165.0]"
      ]
     },
     "execution_count": 40,
     "metadata": {},
     "output_type": "execute_result"
    }
   ],
   "source": [
    "bin_middle"
   ]
  },
  {
   "cell_type": "code",
   "execution_count": 75,
   "metadata": {},
   "outputs": [
    {
     "data": {
      "text/plain": [
       "-120"
      ]
     },
     "execution_count": 75,
     "metadata": {},
     "output_type": "execute_result"
    }
   ],
   "source": [
    "bins[2]"
   ]
  },
  {
   "cell_type": "code",
   "execution_count": 14,
   "metadata": {},
   "outputs": [
    {
     "data": {
      "text/plain": [
       "(256, 128, 49)"
      ]
     },
     "execution_count": 14,
     "metadata": {},
     "output_type": "execute_result"
    }
   ],
   "source": [
    "one_slice = all_slices[3,:,:,:]\n",
    "one_slice.shape"
   ]
  },
  {
   "cell_type": "code",
   "execution_count": 110,
   "metadata": {},
   "outputs": [],
   "source": [
    "turning_interpolated_single = interpolate_turning_to_neural(20, timestamps)\n",
    "heading_interpolated_single = interpolate_to_neural(20,timestamps)\n",
    "ids_s= np.where(np.logical_and(heading_interpolated_single>0,heading_interpolated_single<10))\n",
    "ins_s= np.where(turning_interpolated_single<0)\n",
    "#idx_m = np.where(ids_s == ins_s)\n"
   ]
  },
  {
   "cell_type": "code",
   "execution_count": 111,
   "metadata": {},
   "outputs": [
    {
     "data": {
      "text/plain": [
       "array([  61,   62,  207,  211,  248,  250,  271,  442,  447,  465,  704,\n",
       "        707,  711,  724, 1028, 1205, 1286, 1287, 1288, 1289, 1290, 1291,\n",
       "       1292, 1293, 1294, 1881, 1907, 1908, 1925, 2054, 2056, 2063, 2096,\n",
       "       2649, 2715, 2838, 2924, 2938, 3009, 3023, 3319, 3321])"
      ]
     },
     "execution_count": 111,
     "metadata": {},
     "output_type": "execute_result"
    }
   ],
   "source": [
    "ids_s[0]"
   ]
  },
  {
   "cell_type": "code",
   "execution_count": 113,
   "metadata": {},
   "outputs": [
    {
     "name": "stdout",
     "output_type": "stream",
     "text": [
      "[  61   62  207  211  248  250  271  442  447  465  704  707  711  724\n",
      " 1028 1205 1286 1287 1288 1289 1290 1291 1292 1293 1294 1881 1907 1908\n",
      " 1925 2054 2056 2063 2096 2649 2715 2838 2924 2938 3009 3023 3319 3321]\n"
     ]
    }
   ],
   "source": [
    "print(np.intersect1d(ids_s[0],ins_s[0]))"
   ]
  },
  {
   "cell_type": "code",
   "execution_count": 114,
   "metadata": {},
   "outputs": [
    {
     "data": {
      "text/plain": [
       "(3359,)"
      ]
     },
     "execution_count": 114,
     "metadata": {},
     "output_type": "execute_result"
    }
   ],
   "source": [
    "ins_s[0].shape"
   ]
  },
  {
   "cell_type": "code",
   "execution_count": 95,
   "metadata": {},
   "outputs": [
    {
     "data": {
      "text/plain": [
       "(array([  21,   23,   60,   61,   62,  207,  211,  227,  237,  238,  239,\n",
       "         240,  241,  242,  243,  244,  245,  246,  247,  248,  249,  250,\n",
       "         271,  282,  441,  442,  443,  444,  445,  447,  449,  456,  457,\n",
       "         459,  462,  463,  465,  466,  467,  468,  469,  470,  471,  526,\n",
       "         537,  628,  629,  637,  704,  707,  711,  713,  718,  719,  724,\n",
       "         772,  773,  776,  778,  783,  784,  785,  786,  948,  949,  951,\n",
       "        1028, 1076, 1170, 1205, 1232, 1233, 1279, 1286, 1287, 1288, 1289,\n",
       "        1290, 1291, 1292, 1293, 1294, 1295, 1321, 1335, 1404, 1405, 1406,\n",
       "        1412, 1413, 1414, 1472, 1519, 1521, 1559, 1668, 1669, 1734, 1742,\n",
       "        1792, 1793, 1825, 1830, 1878, 1881, 1886, 1907, 1908, 1925, 1926,\n",
       "        1927, 1929, 1930, 1931, 1932, 1933, 1934, 1935, 1936, 1937, 1939,\n",
       "        1941, 2044, 2045, 2046, 2050, 2054, 2056, 2057, 2058, 2059, 2060,\n",
       "        2061, 2062, 2063, 2096, 2100, 2161, 2185, 2288, 2289, 2325, 2373,\n",
       "        2423, 2649, 2650, 2655, 2661, 2680, 2686, 2688, 2689, 2715, 2749,\n",
       "        2837, 2838, 2924, 2938, 2942, 3009, 3020, 3023, 3066, 3109, 3123,\n",
       "        3124, 3125, 3126, 3127, 3128, 3129, 3130, 3131, 3133, 3134, 3138,\n",
       "        3139, 3319, 3321, 3323, 3339, 3363, 3364, 3368, 3371, 3372, 3373]),)"
      ]
     },
     "execution_count": 95,
     "metadata": {},
     "output_type": "execute_result"
    }
   ],
   "source": [
    "a = np.logical_and(heading_interpolated_single>0,heading_interpolated_single<30)\n",
    "np.where(a)"
   ]
  },
  {
   "cell_type": "code",
   "execution_count": 85,
   "metadata": {},
   "outputs": [
    {
     "data": {
      "text/plain": [
       "(array([], dtype=int64),)"
      ]
     },
     "execution_count": 85,
     "metadata": {},
     "output_type": "execute_result"
    }
   ],
   "source": [
    "np.where(-150<heading_interpolated_single[0]<=-120)"
   ]
  },
  {
   "cell_type": "code",
   "execution_count": 34,
   "metadata": {},
   "outputs": [
    {
     "data": {
      "text/plain": [
       "(3384,)"
      ]
     },
     "execution_count": 34,
     "metadata": {},
     "output_type": "execute_result"
    }
   ],
   "source": [
    "turning_interpolated_single.shape"
   ]
  },
  {
   "cell_type": "code",
   "execution_count": 115,
   "metadata": {},
   "outputs": [
    {
     "name": "stdout",
     "output_type": "stream",
     "text": [
      "0\n",
      "1\n",
      "2\n",
      "3\n",
      "4\n",
      "5\n",
      "6\n",
      "7\n",
      "8\n",
      "9\n",
      "10\n",
      "11\n",
      "12\n",
      "13\n",
      "14\n",
      "15\n",
      "16\n",
      "17\n",
      "18\n",
      "19\n",
      "20\n",
      "21\n",
      "22\n",
      "23\n",
      "24\n",
      "25\n",
      "26\n",
      "27\n",
      "28\n",
      "29\n",
      "30\n",
      "31\n",
      "32\n",
      "33\n",
      "34\n",
      "35\n",
      "36\n",
      "37\n",
      "38\n",
      "39\n",
      "40\n",
      "41\n",
      "42\n",
      "43\n",
      "44\n",
      "45\n",
      "46\n",
      "47\n",
      "48\n"
     ]
    },
    {
     "data": {
      "text/plain": [
       "(256, 128, 49, 12)"
      ]
     },
     "execution_count": 115,
     "metadata": {},
     "output_type": "execute_result"
    }
   ],
   "source": [
    "bins = np.arange(-180,181,30)\n",
    "all_slices_HT = []\n",
    "for z in range(49):\n",
    "    print(z)\n",
    "    slice_neural = neural[:,:,z,:]\n",
    "    \n",
    "    heading_interpolated = interpolate_to_neural(z,timestamps)\n",
    "    ### redefine 0\n",
    "    heading_interpolated -= 180\n",
    "    \n",
    "    turning_interpolated = interpolate_turning_to_neural(z,timestamps)\n",
    "    \n",
    "    avg_neural_barposition_HT = []\n",
    "    bin_middle = []\n",
    "    for i in range(len(bins)-1):\n",
    "        start = bins[i]\n",
    "        stop = bins[i+1]\n",
    "        bin_middle.append((start+stop)/2)\n",
    "        ids = np.where(np.logical_and(heading_interpolated>start, heading_interpolated<=stop))[0]\n",
    "        ins_l = np.where(turning_interpolated <0)\n",
    "        idx = np.intersect1d(ids,ins_l)\n",
    "        avg_neural_barposition_HT.append(np.mean(slice_neural[:,:,idx],axis=2))\n",
    "    all_slices_HT.append(np.asarray(avg_neural_barposition_HT))\n",
    "all_slices_HT = np.asarray(all_slices_HT)\n",
    "\n",
    "\n",
    "#STA_brain should be shape (12,256,128,49)\n",
    "all_slices_HT = np.moveaxis(all_slices,0,3)\n",
    "all_slices_HT.shape\n",
    "\n"
   ]
  },
  {
   "cell_type": "code",
   "execution_count": null,
   "metadata": {
    "collapsed": true
   },
   "outputs": [],
   "source": [
    "avg_neural_barposition = []\n",
    "bin_middle = []\n",
    "for i in range(len(bins)-1):\n",
    "    start = bins[i]\n",
    "    stop = bins[i+1]\n",
    "    bin_middle.append((start+stop)/2)\n",
    "    ids = np.where(np.logical_and(heading_interpolated>start, heading_interpolated<=stop))[0]\n",
    "    avg_neural_barposition.append(np.mean(slice_neural[:,:,ids],axis=2))\n",
    "    \n",
    "\n",
    "np.append((bins-18),(306+36))\n",
    "plt.figure(figsize=(10,30))\n",
    "for i in range(len(avg_neural_barposition)):\n",
    "    plt.subplot(12,1,i+1)\n",
    "    plt.imshow(avg_neural_barposition[i].T,vmin=-0.5,vmax=0.5,cmap='seismic')\n",
    "    plt.ylabel(bin_middle[i])"
   ]
  },
  {
   "cell_type": "code",
   "execution_count": null,
   "metadata": {
    "collapsed": true
   },
   "outputs": [],
   "source": []
  },
  {
   "cell_type": "code",
   "execution_count": 116,
   "metadata": {
    "collapsed": true
   },
   "outputs": [],
   "source": [
    "warps = brainsss.warp_STA_brain(STA_brain=np.rollaxis(all_slices_HT,3,0), fly='fly_262', fixed=fixed, anat_to_mean_type='myr')"
   ]
  },
  {
   "cell_type": "code",
   "execution_count": 117,
   "metadata": {
    "collapsed": true
   },
   "outputs": [],
   "source": [
    "explosions = []\n",
    "t0 = time.time()\n",
    "for angle in range(12):\n",
    "    input_canvas = np.ones((500,500,3)) #+.5 #.5 for diverging\n",
    "    data_to_plot = warps[angle][:,:,::-1]\n",
    "    vmax = 0.5\n",
    "    explosion_map = brainsss.place_roi_groups_on_canvas(explosion_rois,\n",
    "                                                        roi_masks,\n",
    "                                                        roi_contours,\n",
    "                                                        data_to_plot,\n",
    "                                                        input_canvas,\n",
    "                                                        vmax=vmax,\n",
    "                                                        cmap='seismic',\n",
    "                                                        diverging=True)#'hot')\n",
    "    explosions.append(explosion_map)"
   ]
  },
  {
   "cell_type": "code",
   "execution_count": 118,
   "metadata": {},
   "outputs": [
    {
     "data": {
      "image/png": "[encoded data removed]",
      "text/plain": [
       "<Figure size 1008x360 with 12 Axes>"
      ]
     },
     "metadata": {},
     "output_type": "display_data"
    }
   ],
   "source": [
    "plt.figure(figsize=(14,5))\n",
    "\n",
    "for k,i in enumerate([5, 4, 3, 2, 1, 0, 6, 7, 8, 9, 10, 11]):\n",
    "    plt.subplot(2,6,k+1)\n",
    "    plt.imshow(explosions[i][150:,:])\n",
    "    plt.title(F\"Angle: {bin_middle[i]}\")\n",
    "    plt.axis('off')\n",
    "    \n",
    "#save_file = os.path.join(dataset_path, fly, 'figs', '20230129')\n",
    "#plt.savefig(save_file,dpi=300,bbox_inches='tight',transparent=False)"
   ]
  },
  {
   "cell_type": "code",
   "execution_count": 7,
   "metadata": {},
   "outputs": [
    {
     "data": {
      "text/plain": [
       "[<matplotlib.lines.Line2D at 0x7fdfb8d76358>]"
      ]
     },
     "execution_count": 7,
     "metadata": {},
     "output_type": "execute_result"
    },
    {
     "data": {
      "image/png": "[encoded data removed]",
      "text/plain": [
       "<Figure size 432x288 with 1 Axes>"
      ]
     },
     "metadata": {},
     "output_type": "display_data"
    }
   ],
   "source": [
    "plt.plot(turning)"
   ]
  },
  {
   "cell_type": "code",
   "execution_count": 120,
   "metadata": {
    "collapsed": true
   },
   "outputs": [],
   "source": [
    "corrs = []\n",
    "behavior = 'dRotLabZ'\n",
    "for z in range(49):\n",
    "    fictrac_trace = brainsss.smooth_and_interp_fictrac(fictrac_raw, fps, resolution, expt_len, behavior, timestamps[:,z])\n",
    "    fictrac_trace_L = np.clip(fictrac_trace.flatten(),None,0)*-1 #only needed for Z that has +-.\n",
    "    # shifted_beh = np.roll(fictrac['Y'][:,0],8) # mismatch of the time\n",
    "    for voxel in range(2000):\n",
    "        corrs.append(scipy.stats.pearsonr(all_signals[z,voxel,:], fictrac_trace.flatten())[0])"
   ]
  },
  {
   "cell_type": "code",
   "execution_count": 121,
   "metadata": {},
   "outputs": [],
   "source": [
    "n_clusters = 2000\n",
    "cluster_dir = os.path.join(func_path, 'clustering')\n",
    "\n",
    "load_file = os.path.join(cluster_dir, 'cluster_labels.npy')\n",
    "cluster_labels = np.load(load_file)\n",
    "\n",
    "load_file = os.path.join(cluster_dir, 'cluster_signals.npy')\n",
    "all_signals = np.load(load_file)\n",
    "\n",
    "def supervoxel_to_full_res(brain, cluster_labels):\n",
    "    n_clusters = brain.shape[1]\n",
    "    \n",
    "    reformed_brain = []\n",
    "    for z in range(49):\n",
    "        colored_by_betas = np.zeros((256*128))\n",
    "        for cluster_num in range(n_clusters):\n",
    "            cluster_indicies = np.where(cluster_labels[z,:]==cluster_num)[0]\n",
    "            colored_by_betas[cluster_indicies] = brain[z,cluster_num]\n",
    "        colored_by_betas = colored_by_betas.reshape(256,128)\n",
    "        reformed_brain.append(colored_by_betas)\n",
    "    return np.asarray(reformed_brain)\n",
    "\n",
    "whole_corr = np.reshape(np.asarray(corrs),(49,2000))\n"
   ]
  },
  {
   "cell_type": "code",
   "execution_count": 123,
   "metadata": {},
   "outputs": [
    {
     "data": {
      "text/plain": [
       "(49, 2000)"
      ]
     },
     "execution_count": 123,
     "metadata": {},
     "output_type": "execute_result"
    }
   ],
   "source": [
    "whole_corr.shape"
   ]
  },
  {
   "cell_type": "code",
   "execution_count": 131,
   "metadata": {},
   "outputs": [
    {
     "data": {
      "text/plain": [
       "(3384, 49)"
      ]
     },
     "execution_count": 131,
     "metadata": {},
     "output_type": "execute_result"
    }
   ],
   "source": [
    "timestamps.shape"
   ]
  },
  {
   "cell_type": "code",
   "execution_count": 133,
   "metadata": {},
   "outputs": [
    {
     "name": "stdout",
     "output_type": "stream",
     "text": [
      "0\n",
      "1\n",
      "2\n",
      "3\n",
      "4\n",
      "5\n",
      "6\n",
      "7\n",
      "8\n",
      "9\n",
      "10\n",
      "11\n",
      "12\n",
      "13\n",
      "14\n",
      "15\n",
      "16\n",
      "17\n",
      "18\n",
      "19\n",
      "20\n",
      "21\n",
      "22\n",
      "23\n",
      "24\n",
      "25\n",
      "26\n",
      "27\n",
      "28\n",
      "29\n",
      "30\n",
      "31\n",
      "32\n",
      "33\n",
      "34\n",
      "35\n",
      "36\n",
      "37\n",
      "38\n",
      "39\n",
      "40\n",
      "41\n",
      "42\n",
      "43\n",
      "44\n",
      "45\n",
      "46\n",
      "47\n",
      "48\n"
     ]
    },
    {
     "name": "stderr",
     "output_type": "stream",
     "text": [
      "/home/users/yandanw/.local/lib/python3.6/site-packages/numpy/core/fromnumeric.py:3373: RuntimeWarning:\n",
      "\n",
      "Mean of empty slice.\n",
      "\n",
      "/home/users/yandanw/.local/lib/python3.6/site-packages/numpy/core/_methods.py:163: RuntimeWarning:\n",
      "\n",
      "invalid value encountered in true_divide\n",
      "\n"
     ]
    },
    {
     "data": {
      "text/plain": [
       "(128, 49, 12, 256)"
      ]
     },
     "execution_count": 133,
     "metadata": {},
     "output_type": "execute_result"
    }
   ],
   "source": [
    "bins = np.arange(-180,181,30)\n",
    "all_slices_TH = []\n",
    "for z in range(49):\n",
    "    print(z)\n",
    "    slice_neural = whole_corr[z,:]\n",
    "    \n",
    "    heading_interpolated = interpolate_to_neural(z,whole_corr)\n",
    "    ### redefine 0\n",
    "    heading_interpolated -= 180\n",
    "    \n",
    "    avg_neural_barposition_TH = []\n",
    "    bin_middle = []\n",
    "    for i in range(len(bins)-1):\n",
    "        start = bins[i]\n",
    "        stop = bins[i+1]\n",
    "        bin_middle.append((start+stop)/2)\n",
    "        ids_TH = np.where(np.logical_and(heading_interpolated>start, heading_interpolated<=stop))[0]\n",
    "        avg_neural_barposition_TH.append(np.mean(whole_corr[:,ids_TH],axis=1))\n",
    "    all_slices_TH.append(np.asarray(avg_neural_barposition_TH))\n",
    "all_slices_TH = np.asarray(all_slices_TH)\n",
    "\n",
    "\n",
    "#STA_brain should be shape (12,256,128,49)\n",
    "all_slices_TH = np.moveaxis(all_slices,0,3)\n",
    "all_slices_TH.shape"
   ]
  },
  {
   "cell_type": "code",
   "execution_count": 134,
   "metadata": {},
   "outputs": [
    {
     "ename": "ValueError",
     "evalue": "must give a spacing value for each dimension (4)",
     "output_type": "error",
     "traceback": [
      "\u001b[0;31m---------------------------------------------------------------------------\u001b[0m",
      "\u001b[0;31mValueError\u001b[0m                                Traceback (most recent call last)",
      "\u001b[0;32m<ipython-input-134-8d28a1d25985>\u001b[0m in \u001b[0;36m<module>\u001b[0;34m()\u001b[0m\n\u001b[1;32m      2\u001b[0m \u001b[0mSTA_brain\u001b[0m \u001b[0;34m=\u001b[0m \u001b[0mnp\u001b[0m\u001b[0;34m.\u001b[0m\u001b[0mswapaxes\u001b[0m\u001b[0;34m(\u001b[0m\u001b[0mall_slices_TH\u001b[0m\u001b[0;34m[\u001b[0m\u001b[0mnp\u001b[0m\u001b[0;34m.\u001b[0m\u001b[0mnewaxis\u001b[0m\u001b[0;34m,\u001b[0m\u001b[0;34m:\u001b[0m\u001b[0;34m,\u001b[0m\u001b[0;34m:\u001b[0m\u001b[0;34m,\u001b[0m\u001b[0;34m:\u001b[0m\u001b[0;34m]\u001b[0m\u001b[0;34m,\u001b[0m\u001b[0;36m0\u001b[0m\u001b[0;34m,\u001b[0m\u001b[0;36m1\u001b[0m\u001b[0;34m)\u001b[0m\u001b[0;34m\u001b[0m\u001b[0m\n\u001b[1;32m      3\u001b[0m \u001b[0;31m# STA_brain.shape\u001b[0m\u001b[0;34m\u001b[0m\u001b[0;34m\u001b[0m\u001b[0m\n\u001b[0;32m----> 4\u001b[0;31m \u001b[0mwarps_ZPOS\u001b[0m \u001b[0;34m=\u001b[0m \u001b[0mbrainsss\u001b[0m\u001b[0;34m.\u001b[0m\u001b[0mwarp_STA_brain\u001b[0m\u001b[0;34m(\u001b[0m\u001b[0mSTA_brain\u001b[0m\u001b[0;34m=\u001b[0m\u001b[0mSTA_brain\u001b[0m\u001b[0;34m,\u001b[0m \u001b[0mfly\u001b[0m\u001b[0;34m=\u001b[0m\u001b[0;34m'fly_262'\u001b[0m\u001b[0;34m,\u001b[0m \u001b[0mfixed\u001b[0m\u001b[0;34m=\u001b[0m\u001b[0mfixed\u001b[0m\u001b[0;34m,\u001b[0m \u001b[0manat_to_mean_type\u001b[0m\u001b[0;34m=\u001b[0m\u001b[0;34m'myr'\u001b[0m\u001b[0;34m)\u001b[0m\u001b[0;34m\u001b[0m\u001b[0m\n\u001b[0m\u001b[1;32m      5\u001b[0m \u001b[0;34m\u001b[0m\u001b[0m\n\u001b[1;32m      6\u001b[0m \u001b[0minput_canvas\u001b[0m \u001b[0;34m=\u001b[0m \u001b[0mnp\u001b[0m\u001b[0;34m.\u001b[0m\u001b[0mzeros\u001b[0m\u001b[0;34m(\u001b[0m\u001b[0;34m(\u001b[0m\u001b[0;36m500\u001b[0m\u001b[0;34m,\u001b[0m\u001b[0;36m500\u001b[0m\u001b[0;34m,\u001b[0m\u001b[0;36m3\u001b[0m\u001b[0;34m)\u001b[0m\u001b[0;34m)\u001b[0m \u001b[0;31m#+.5 #.5 for diverging\u001b[0m\u001b[0;34m\u001b[0m\u001b[0m\n",
      "\u001b[0;32m~/projects/brainsss/brainsss/brain_utils.py\u001b[0m in \u001b[0;36mwarp_STA_brain\u001b[0;34m(STA_brain, fly, fixed, anat_to_mean_type)\u001b[0m\n\u001b[1;32m    118\u001b[0m         \u001b[0mto_warp\u001b[0m \u001b[0;34m=\u001b[0m \u001b[0mnp\u001b[0m\u001b[0;34m.\u001b[0m\u001b[0mrollaxis\u001b[0m\u001b[0;34m(\u001b[0m\u001b[0mSTA_brain\u001b[0m\u001b[0;34m[\u001b[0m\u001b[0;34m:\u001b[0m\u001b[0;34m,\u001b[0m\u001b[0mtp\u001b[0m\u001b[0;34m,\u001b[0m\u001b[0;34m:\u001b[0m\u001b[0;34m,\u001b[0m\u001b[0;34m:\u001b[0m\u001b[0;34m]\u001b[0m\u001b[0;34m,\u001b[0m\u001b[0;36m0\u001b[0m\u001b[0;34m,\u001b[0m\u001b[0;36m3\u001b[0m\u001b[0;34m)\u001b[0m\u001b[0;34m\u001b[0m\u001b[0m\n\u001b[1;32m    119\u001b[0m         \u001b[0mmoving\u001b[0m \u001b[0;34m=\u001b[0m \u001b[0mants\u001b[0m\u001b[0;34m.\u001b[0m\u001b[0mfrom_numpy\u001b[0m\u001b[0;34m(\u001b[0m\u001b[0mto_warp\u001b[0m\u001b[0;34m)\u001b[0m\u001b[0;34m\u001b[0m\u001b[0m\n\u001b[0;32m--> 120\u001b[0;31m         \u001b[0mmoving\u001b[0m\u001b[0;34m.\u001b[0m\u001b[0mset_spacing\u001b[0m\u001b[0;34m(\u001b[0m\u001b[0mmoving_resolution\u001b[0m\u001b[0;34m)\u001b[0m\u001b[0;34m\u001b[0m\u001b[0m\n\u001b[0m\u001b[1;32m    121\u001b[0m         \u001b[0;31m########################\u001b[0m\u001b[0;34m\u001b[0m\u001b[0;34m\u001b[0m\u001b[0m\n\u001b[1;32m    122\u001b[0m         \u001b[0;31m### Apply Transforms ###\u001b[0m\u001b[0;34m\u001b[0m\u001b[0;34m\u001b[0m\u001b[0m\n",
      "\u001b[0;32m~/.local/lib/python3.6/site-packages/ants/core/ants_image.py\u001b[0m in \u001b[0;36mset_spacing\u001b[0;34m(self, new_spacing)\u001b[0m\n\u001b[1;32m    124\u001b[0m             \u001b[0;32mraise\u001b[0m \u001b[0mValueError\u001b[0m\u001b[0;34m(\u001b[0m\u001b[0;34m'arg must be tuple or list'\u001b[0m\u001b[0;34m)\u001b[0m\u001b[0;34m\u001b[0m\u001b[0m\n\u001b[1;32m    125\u001b[0m         \u001b[0;32mif\u001b[0m \u001b[0mlen\u001b[0m\u001b[0;34m(\u001b[0m\u001b[0mnew_spacing\u001b[0m\u001b[0;34m)\u001b[0m \u001b[0;34m!=\u001b[0m \u001b[0mself\u001b[0m\u001b[0;34m.\u001b[0m\u001b[0mdimension\u001b[0m\u001b[0;34m:\u001b[0m\u001b[0;34m\u001b[0m\u001b[0m\n\u001b[0;32m--> 126\u001b[0;31m             \u001b[0;32mraise\u001b[0m \u001b[0mValueError\u001b[0m\u001b[0;34m(\u001b[0m\u001b[0;34m'must give a spacing value for each dimension (%i)'\u001b[0m \u001b[0;34m%\u001b[0m \u001b[0mself\u001b[0m\u001b[0;34m.\u001b[0m\u001b[0mdimension\u001b[0m\u001b[0;34m)\u001b[0m\u001b[0;34m\u001b[0m\u001b[0m\n\u001b[0m\u001b[1;32m    127\u001b[0m \u001b[0;34m\u001b[0m\u001b[0m\n\u001b[1;32m    128\u001b[0m         \u001b[0mlibfn\u001b[0m \u001b[0;34m=\u001b[0m \u001b[0mutils\u001b[0m\u001b[0;34m.\u001b[0m\u001b[0mget_lib_fn\u001b[0m\u001b[0;34m(\u001b[0m\u001b[0;34m'setSpacing%s'\u001b[0m\u001b[0;34m%\u001b[0m\u001b[0mself\u001b[0m\u001b[0;34m.\u001b[0m\u001b[0m_libsuffix\u001b[0m\u001b[0;34m)\u001b[0m\u001b[0;34m\u001b[0m\u001b[0m\n",
      "\u001b[0;31mValueError\u001b[0m: must give a spacing value for each dimension (4)"
     ]
    }
   ],
   "source": [
    "whole_corr_reformed = supervoxel_to_full_res(whole_corr, cluster_labels)\n",
    "STA_brain = np.swapaxes(all_slices_TH[np.newaxis,:,:,:],0,1)\n",
    "# STA_brain.shape\n",
    "warps_ZPOS = brainsss.warp_STA_brain(STA_brain=STA_brain, fly='fly_262', fixed=fixed, anat_to_mean_type='myr')\n",
    "\n",
    "input_canvas = np.zeros((500,500,3)) #+.5 #.5 for diverging\n",
    "data_to_plot = warps_ZPOS[0][:,:,::-1]\n",
    "vmax = .2\n",
    "explosion_map = brainsss.place_roi_groups_on_canvas(explosion_rois,\n",
    "                                                            roi_masks,\n",
    "                                                            roi_contours,\n",
    "                                                            data_to_plot,\n",
    "                                                            input_canvas,\n",
    "                                                            vmax=vmax,\n",
    "                                                            cmap='hot',\n",
    "                                                            diverging=False)#'hot')"
   ]
  },
  {
   "cell_type": "code",
   "execution_count": null,
   "metadata": {
    "collapsed": true
   },
   "outputs": [],
   "source": []
  },
  {
   "cell_type": "code",
   "execution_count": null,
   "metadata": {
    "collapsed": true
   },
   "outputs": [],
   "source": []
  },
  {
   "cell_type": "code",
   "execution_count": 10,
   "metadata": {
    "collapsed": true
   },
   "outputs": [],
   "source": [
    "left_turning= np.clip(fictrac['Z'],0,360)"
   ]
  },
  {
   "cell_type": "code",
   "execution_count": 11,
   "metadata": {},
   "outputs": [
    {
     "data": {
      "text/plain": [
       "[<matplotlib.lines.Line2D at 0x7fdfbb93bfd0>]"
      ]
     },
     "execution_count": 11,
     "metadata": {},
     "output_type": "execute_result"
    },
    {
     "data": {
      "image/png": "[encoded data removed]",
      "text/plain": [
       "<Figure size 432x288 with 1 Axes>"
      ]
     },
     "metadata": {},
     "output_type": "display_data"
    }
   ],
   "source": [
    "plt.plot(left_turning)"
   ]
  },
  {
   "cell_type": "code",
   "execution_count": 12,
   "metadata": {
    "collapsed": true
   },
   "outputs": [],
   "source": [
    "right_turning = np.clip(fictrac['Z'],-360,0)"
   ]
  },
  {
   "cell_type": "code",
   "execution_count": 13,
   "metadata": {},
   "outputs": [
    {
     "data": {
      "text/plain": [
       "[<matplotlib.lines.Line2D at 0x7fdfb9d90240>]"
      ]
     },
     "execution_count": 13,
     "metadata": {},
     "output_type": "execute_result"
    },
    {
     "data": {
      "image/png": "[encoded data removed]",
      "text/plain": [
       "<Figure size 432x288 with 1 Axes>"
      ]
     },
     "metadata": {},
     "output_type": "display_data"
    }
   ],
   "source": [
    "plt.plot(right_turning)"
   ]
  },
  {
   "cell_type": "code",
   "execution_count": 14,
   "metadata": {},
   "outputs": [
    {
     "data": {
      "text/plain": [
       "(180000,)"
      ]
     },
     "execution_count": 14,
     "metadata": {},
     "output_type": "execute_result"
    }
   ],
   "source": [
    "turning.shape"
   ]
  },
  {
   "cell_type": "code",
   "execution_count": 15,
   "metadata": {},
   "outputs": [
    {
     "name": "stdout",
     "output_type": "stream",
     "text": [
      "Trying to load timestamp data from hdf5 file.\n",
      "Success.\n"
     ]
    }
   ],
   "source": [
    "timestamps = brainsss.load_timestamps(os.path.join(func_path, 'imaging'))\n",
    "### 1. find the timestamps for neural data ###"
   ]
  },
  {
   "cell_type": "code",
   "execution_count": 16,
   "metadata": {},
   "outputs": [
    {
     "data": {
      "text/plain": [
       "(3384, 49)"
      ]
     },
     "execution_count": 16,
     "metadata": {},
     "output_type": "execute_result"
    }
   ],
   "source": [
    "timestamps.shape"
   ]
  },
  {
   "cell_type": "code",
   "execution_count": 17,
   "metadata": {
    "collapsed": true
   },
   "outputs": [],
   "source": [
    "fictrac_timestamps = np.arange(0,1800000,10)"
   ]
  },
  {
   "cell_type": "code",
   "execution_count": 18,
   "metadata": {},
   "outputs": [
    {
     "data": {
      "text/plain": [
       "180000"
      ]
     },
     "execution_count": 18,
     "metadata": {},
     "output_type": "execute_result"
    }
   ],
   "source": [
    "len(fictrac_timestamps)"
   ]
  },
  {
   "cell_type": "code",
   "execution_count": 19,
   "metadata": {
    "collapsed": true
   },
   "outputs": [],
   "source": [
    "from scipy.interpolate import interp1d as interp1d\n",
    "def interpolate_to_neural(slice_num, timestamps):\n",
    "    x = timestamps[:, slice_num]\n",
    "    f = interp1d(fictrac_timestamps, heading, fill_value=\"extrapolate\") \n",
    "    ynew = f(x)\n",
    "    return ynew"
   ]
  },
  {
   "cell_type": "code",
   "execution_count": 20,
   "metadata": {},
   "outputs": [
    {
     "name": "stdout",
     "output_type": "stream",
     "text": [
      "(256, 128, 49, 3384)\n"
     ]
    }
   ],
   "source": [
    "neural_file = os.path.join(func_path, 'functional_channel_2_moco_zscore_highpass.h5') #\n",
    "with h5py.File(neural_file, 'r') as h:\n",
    "    print(h['data'].shape)\n",
    "    neural = h['data'][:]"
   ]
  },
  {
   "cell_type": "code",
   "execution_count": null,
   "metadata": {
    "collapsed": true
   },
   "outputs": [],
   "source": [
    "whole_corr = np.reshape(np.asarray(corrs),(49,2000))\n",
    "whole_corr_reformed = supervoxel_to_full_res(whole_corr, cluster_labels)\n",
    "STA_brain = np.swapaxes(whole_corr_reformed[np.newaxis,:,:,:],0,1)\n",
    "# STA_brain.shape\n",
    "warps_ZPOS = brainsss.warp_STA_brain(STA_brain=STA_brain, fly='fly_231', fixed=fixed, anat_to_mean_type='myr')"
   ]
  }
 ],
 "metadata": {
  "kernelspec": {
   "display_name": "Python 3",
   "language": "python",
   "name": "python3"
  },
  "language_info": {
   "codemirror_mode": {
    "name": "ipython",
    "version": 3
   },
   "file_extension": ".py",
   "mimetype": "text/x-python",
   "name": "python",
   "nbconvert_exporter": "python",
   "pygments_lexer": "ipython3",
   "version": "3.6.1"
  }
 },
 "nbformat": 4,
 "nbformat_minor": 2
}
