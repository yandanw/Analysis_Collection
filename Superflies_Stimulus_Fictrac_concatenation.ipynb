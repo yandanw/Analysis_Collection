{
 "cells": [
  {
   "cell_type": "code",
   "execution_count": null,
   "metadata": {
    "collapsed": true
   },
   "outputs": [],
   "source": [
    "import brainsss\n",
    "import os\n",
    "import numpy as np\n",
    "import matplotlib.pyplot as plt\n",
    "%matplotlib inline\n",
    "from sklearn.cluster import AgglomerativeClustering\n",
    "import scipy\n",
    "from scipy.cluster.hierarchy import dendrogram\n",
    "from scipy.cluster.hierarchy import fcluster\n",
    "from scipy.cluster import hierarchy\n",
    "import matplotlib as mpl\n",
    "from matplotlib.pyplot import cm\n",
    "import random\n",
    "from scipy.stats import sem\n",
    "import time\n",
    "import h5py\n",
    "import ants\n",
    "import nibabel as nib\n",
    "import matplotlib\n",
    "from scipy.ndimage import gaussian_filter1d\n",
    "from scipy import signal\n",
    "from scipy.interpolate import interp1d"
   ]
  },
  {
   "cell_type": "code",
   "execution_count": null,
   "metadata": {
    "collapsed": true
   },
   "outputs": [],
   "source": [
    "data_dir = '/oak/stanford/groups/trc/data/Brezovec/2P_Imaging/20190101_walking_dataset'\n",
    "superfly_path = os.path.join(data_dir, 'date_superfly', 'superslices')\n",
    "flies = [1,2,3]\n",
    "\n",
    "true_exp_len = 1800000 #in ms. "
   ]
  },
  {
   "cell_type": "code",
   "execution_count": null,
   "metadata": {
    "collapsed": true
   },
   "outputs": [],
   "source": [
    "###########################\n",
    "### PREP VISUAL STIMULI ###\n",
    "###########################\n",
    "\n",
    "stim_ids = []\n",
    "stimulus_start_times = []\n",
    "starts_angle_ms = {0:[],180:[]}\n",
    "starts_angle = {0:[],180:[]}\n",
    "\n",
    "for j,fly in enumerate(flies):\n",
    "    vision_path = os.path.join(data_dir, F'fly_{fly}', 'func_0', 'visual')\n",
    "\n",
    "    ### Load Photodiode ###\n",
    "    t, ft_triggers, pd1, pd2 = brainsss.load_photodiode(vision_path)\n",
    "    print(len(t))\n",
    "    stimulus_start_times_ = brainsss.extract_stim_times_from_pd(pd2, t)+true_exp_len*j/1000 # in sec\n",
    "    \n",
    "    stimulus_start_times.extend(stimulus_start_times_)\n",
    "    print(stimulus_start_times_[-1])\n",
    "\n",
    "    ### Get Metadata ###\n",
    "    stim_ids_, angles = brainsss.get_stimulus_metadata(vision_path)\n",
    "    stim_ids.extend(stim_ids_)\n",
    "    print(F\"Found {len(stim_ids_)} presented stimuli.\")\n",
    "\n",
    "    # *100 puts in units of 10ms, which will match fictrac\n",
    "    for angle in [0,180]:\n",
    "        starts_angle[angle].extend([int(sst*100) for i,sst in enumerate(stimulus_start_times_) if angles[i] == angle])\n",
    "        # get 1ms version to match neural timestamps    \n",
    "        starts_angle_ms[angle] = np.array(starts_angle[angle]) * 10\n",
    "    print(F\"starts_angle_0: {len(starts_angle[0])}. starts_angle_180: {len(starts_angle[180])}\")\n",
    "    \n",
    "    \n",
    "### Stimulus concatenation is done here ###\n"
   ]
  },
  {
   "cell_type": "code",
   "execution_count": null,
   "metadata": {
    "collapsed": true
   },
   "outputs": [],
   "source": [
    "####################\n",
    "### Prep Fictrac ###\n",
    "####################\n",
    "\n",
    "fps = 100\n",
    "resolution = 10 #desired resolution in ms\n",
    "behaviors = ['dRotLabY', 'dRotLabZ']\n",
    "shorts = ['Y','Z']\n",
    "fictrac = {'Y':[],'Z':[]}\n",
    "\n",
    "for fly in flies:\n",
    "    fictrac_path = os.path.join(data_dir, F'fly_{fly}', 'func_0', 'fictrac')\n",
    "    fictrac_raw = brainsss.load_fictrac(fictrac_path)\n",
    "    expt_len = fictrac_raw.shape[0]/fps*1000\n",
    "    for behavior,short in zip(behaviors,shorts):\n",
    "        fictrac_smo = brainsss.smooth_and_interp_fictrac(fictrac_raw, fps, resolution, expt_len, behavior)\n",
    "        fictrac[short].extend(fictrac_smo[:true_exp_len])\n",
    "fictrac_timestamps = np.arange(0,true_exp_len*len(flies),resolution)\n",
    "\n",
    "\n",
    "### Fictrac concatenation is done here ###"
   ]
  },
  {
   "cell_type": "code",
   "execution_count": null,
   "metadata": {
    "collapsed": true
   },
   "outputs": [],
   "source": [
    "###########################################\n",
    "### Extract Stimulus Triggered Behavior ###\n",
    "###########################################\n",
    "\n",
    "pre_window = 200\n",
    "post_window = 400\n",
    "\n",
    "behavior_traces = {}\n",
    "mean_trace = {}\n",
    "sem_trace = {}\n",
    "for angle in [0,180]:\n",
    "    behavior_traces[angle],mean_trace[angle],sem_trace[angle] = brainsss.extract_traces(fictrac,\n",
    "                                                                                        starts_angle[angle],\n",
    "                                                                                        pre_window,\n",
    "                                                                                        post_window)"
   ]
  },
  {
   "cell_type": "code",
   "execution_count": null,
   "metadata": {
    "collapsed": true
   },
   "outputs": [],
   "source": [
    "plt.figure(figsize=(10,10))\n",
    "\n",
    "for angle,color in zip([0,180],['blue','red']):\n",
    "    plt.plot(mean_trace[angle],color=color,linewidth=3)\n",
    "    plt.fill_between(np.arange(len(mean_trace[angle])),mean_trace[angle]-sem_trace[angle], mean_trace[angle]+sem_trace[angle], color=color,alpha=0.3)\n",
    "for line in [200,250,300]:\n",
    "    plt.axvline(line,color='k',linestyle='--',lw=2)"
   ]
  },
  {
   "cell_type": "code",
   "execution_count": null,
   "metadata": {
    "collapsed": true
   },
   "outputs": [],
   "source": [
    "#######################################\n",
    "### Visually evoked behavior ##########\n",
    "#######################################\n",
    "\n",
    "stim_start = 250# make it a bit bigger\n",
    "stim_stop = 300\n",
    "av_thresh = 50\n",
    "\n",
    "mean_turn = (mean_trace[0] + mean_trace[180]*-1)/2\n",
    "\n",
    "ve_turns = {}\n",
    "ve_turn_times = {}\n",
    "for angle,direction in zip([0,180],['neg','pos']):\n",
    "    ve_turns[angle], ve_turn_times[angle] = brainsss.get_visually_evoked_turns(behavior_traces[angle],\n",
    "                                                                      mean_turn = mean_turn,\n",
    "                                                                      start=stim_start, \n",
    "                                                                      stop=stim_stop, \n",
    "                                                                      r_thresh=.2, \n",
    "                                                                      av_thresh=av_thresh, \n",
    "                                                                      stim_times=starts_angle_ms[angle],\n",
    "                                                                      expected_direction=direction)\n",
    "#### 0.2 in what unit ###"
   ]
  },
  {
   "cell_type": "code",
   "execution_count": null,
   "metadata": {
    "collapsed": true
   },
   "outputs": [],
   "source": [
    "def get_stimuli_where_no_behavior(traces, start, stop, num_traces_to_return, stim_times):\n",
    "    amount_of_behavior = np.mean(np.abs(traces[:,start:stop]),axis=-1)\n",
    "    indicies = np.argsort(amount_of_behavior)\n",
    "    top_x_indicies = indicies[:num_traces_to_return]\n",
    "    return traces[top_x_indicies,:], np.asarray(stim_times)[top_x_indicies]"
   ]
  },
  {
   "cell_type": "code",
   "execution_count": null,
   "metadata": {
    "collapsed": true
   },
   "outputs": [],
   "source": [
    "ve_no_turns = {}\n",
    "ve_no_turn_times = {}\n",
    "for angle in [0,180]:\n",
    "    ve_no_turns[angle], ve_no_turn_times[angle] = get_stimuli_where_no_behavior(behavior_traces[angle],\n",
    "                                  start=250,\n",
    "                                  stop=300,\n",
    "                                  num_traces_to_return=len(ve_turns[angle]), # get the same number as ve_turns\n",
    "                                  stim_times=starts_angle_ms[angle])"
   ]
  },
  {
   "cell_type": "code",
   "execution_count": null,
   "metadata": {
    "collapsed": true
   },
   "outputs": [],
   "source": [
    "###### Load Neural data ########"
   ]
  },
  {
   "cell_type": "code",
   "execution_count": null,
   "metadata": {
    "collapsed": true
   },
   "outputs": [],
   "source": [
    "dims = {'x': 240,\n",
    "        'y': 112,\n",
    "        'z': 36,\n",
    "        't': 3384}"
   ]
  },
  {
   "cell_type": "code",
   "execution_count": null,
   "metadata": {
    "collapsed": true
   },
   "outputs": [],
   "source": [
    "#########################\n",
    "### POST-WARP LOADING ###\n",
    "#########################\n",
    "\n",
    "n_clusters = 2000\n",
    "\n",
    "load_file = os.path.join(superfly_path, 'cluster_labels.npy')\n",
    "cluster_labels = np.load(load_file)\n",
    "\n",
    "load_file = os.path.join(superfly_path, 'cluster_signals.npy')\n",
    "all_signals = np.load(load_file)\n",
    "\n",
    "dim_z = 36"
   ]
  },
  {
   "cell_type": "code",
   "execution_count": null,
   "metadata": {
    "collapsed": true
   },
   "outputs": [],
   "source": [
    "fixed = brainsss.load_fda_meanbrain()\n",
    "atlas = brainsss.load_roi_atlas()\n",
    "explosion_rois = brainsss.load_explosion_groups()\n",
    "all_rois = brainsss.unnest_roi_groups(explosion_rois)\n",
    "roi_masks = brainsss.make_single_roi_masks(all_rois, atlas)\n",
    "roi_contours = brainsss.make_single_roi_contours(roi_masks, atlas)"
   ]
  },
  {
   "cell_type": "code",
   "execution_count": null,
   "metadata": {
    "collapsed": true
   },
   "outputs": [],
   "source": [
    "### Make STA_Brain ####"
   ]
  },
  {
   "cell_type": "code",
   "execution_count": null,
   "metadata": {
    "collapsed": true
   },
   "outputs": [],
   "source": [
    "###########################\n",
    "### Create Notch Filter ###\n",
    "###########################\n",
    "\n",
    "fs = 10.0  # Sample frequency (Hz)\n",
    "f0 = 1.8797  # Frequency to be removed from signal (Hz)\n",
    "Q = .8  # Quality factor <---- IMPORTANT\n",
    "w0 = f0/(fs/2)  # Normalized Frequency\n",
    "\n",
    "# Design notch filter\n",
    "b_notch, a_notch = signal.iirnotch(w0, Q)\n",
    "\n",
    "# Frequency response\n",
    "\n",
    "w, h = signal.freqz(b_notch, a_notch)\n",
    "\n",
    "# Generate frequency axis\n",
    "freq = w*fs/(2*np.pi)"
   ]
  },
  {
   "cell_type": "code",
   "execution_count": null,
   "metadata": {
    "collapsed": true
   },
   "outputs": [],
   "source": [
    "def make_STA_brain(neural_signals, neural_timestamps, event_times_list, neural_bins):\n",
    "    #### super voxel version\n",
    "    \n",
    "    num_z = neural_signals.shape[0]\n",
    "\n",
    "    STA_brain = []\n",
    "    for z in range(num_z):\n",
    "        all_bin_indicies = []\n",
    "        for stim_idx in range(len(event_times_list)):\n",
    "            stim_time = event_times_list[stim_idx]\n",
    "            stim_centered_bins = neural_bins + stim_time\n",
    "            bin_indicies = np.digitize(neural_timestamps[:,z] , stim_centered_bins)\n",
    "            all_bin_indicies.append(bin_indicies)\n",
    "        all_bin_indicies = np.asarray(all_bin_indicies)\n",
    "\n",
    "        avg_neural_across_bins = []\n",
    "        for bin_num in np.arange(1,len(neural_bins)):\n",
    "            this_bin_sample_times = list(np.where(all_bin_indicies==bin_num)[1])\n",
    "            average_neural_in_bin = np.mean(neural_signals[z,:,this_bin_sample_times],axis=0)\n",
    "            avg_neural_across_bins.append(average_neural_in_bin)\n",
    "        avg_neural_across_bins = np.asarray(avg_neural_across_bins)\n",
    "        STA_brain.append(avg_neural_across_bins)\n",
    "    STA_brain = np.asarray(STA_brain)\n",
    "    return STA_brain"
   ]
  },
  {
   "cell_type": "code",
   "execution_count": null,
   "metadata": {
    "collapsed": true
   },
   "outputs": [],
   "source": [
    "all_warps = {}\n",
    "for condition in ['ve_no_0','ve_no_180','ve_0','ve_180']:\n",
    "    print(condition)\n",
    "    \n",
    "    if '180' in condition:\n",
    "        angle = 180\n",
    "    else:\n",
    "        angle = 0\n",
    "    if 'no' in condition:\n",
    "        event_times_list = ve_no_turn_times[angle]\n",
    "    else:\n",
    "        event_times_list = ve_turn_times[angle]\n",
    "    \n",
    "    t0 = time.time()\n",
    "    STA_brain = make_STA_brain(neural_signals = all_signals,\n",
    "                                       neural_timestamps = timestamps,\n",
    "                                       event_times_list = event_times_list,\n",
    "                                       neural_bins = neural_bins)\n",
    "    print(F'STA {time.time()-t0}')\n",
    "    print(\"Shape of STA_brain:\", STA_brain.shape)\n",
    "\n",
    "    \n",
    "    STA_brain = signal.filtfilt(b_notch, a_notch, STA_brain, axis=1)\n",
    "    reformed_STA_brain = brainsss.STA_supervoxel_to_full_res(STA_brain, cluster_labels, dims['x'], dims['y'], dims['z'])\n",
    "    STA_brain = gaussian_filter1d(reformed_STA_brain,sigma=1,axis=1,truncate=1)\n",
    "    \n",
    "    ### upsample to (2,2,2)\n",
    "    temp = STA_brain.copy()\n",
    "    temp = np.moveaxis(temp,0,-1)\n",
    "    temp = np.moveaxis(temp,0,-1)\n",
    "    temp = ants.from_numpy(temp)\n",
    "    temp.set_spacing((2.611,2.611,5,1))\n",
    "    temp = ants.resample_image(temp,(314, 146, 91, len(neural_bins)-1),use_voxels=True)\n",
    "    \n",
    "    #t0 = time.time()\n",
    "    #warps = brainsss.warp_STA_brain(STA_brain=STA_brain, fly='fly_134', fixed=fixed, anat_to_mean_type='myr')\n",
    "    all_warps[condition] = temp.numpy()\n",
    "    #print(F'Warps {time.time()-t0}')"
   ]
  },
  {
   "cell_type": "code",
   "execution_count": null,
   "metadata": {
    "collapsed": true
   },
   "outputs": [],
   "source": [
    "all_explosions = {}\n",
    "for condition in ['ve_no_0','ve_no_180','ve_0','ve_180']:\n",
    "    print(condition)\n",
    "    explosions = []\n",
    "    t0 = time.time()\n",
    "    for tp in range(len(neural_bins)-1):\n",
    "        input_canvas = np.ones((500,500,3)) #+.5 #.5 for diverging\n",
    "        data_to_plot = all_warps[condition][:,:,::-1,tp]#[tp]#[:,:,::-1]\n",
    "        vmax = 1\n",
    "        explosion_map = brainsss.place_roi_groups_on_canvas(explosion_rois,\n",
    "                                                            roi_masks,\n",
    "                                                            roi_contours,\n",
    "                                                            data_to_plot,\n",
    "                                                            input_canvas,\n",
    "                                                            vmax=vmax,\n",
    "                                                            cmap='seismic',\n",
    "                                                            diverging=True)#'hot')\n",
    "        explosions.append(explosion_map)\n",
    "    print(F'Explosion {time.time()-t0}')\n",
    "    all_explosions[condition] = explosions"
   ]
  }
 ],
 "metadata": {
  "kernelspec": {
   "display_name": "Python 3",
   "language": "python",
   "name": "python3"
  },
  "language_info": {
   "codemirror_mode": {
    "name": "ipython",
    "version": 3
   },
   "file_extension": ".py",
   "mimetype": "text/x-python",
   "name": "python",
   "nbconvert_exporter": "python",
   "pygments_lexer": "ipython3",
   "version": "3.6.1"
  }
 },
 "nbformat": 4,
 "nbformat_minor": 2
}
