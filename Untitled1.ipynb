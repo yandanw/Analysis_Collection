{
 "cells": [
  {
   "cell_type": "code",
   "execution_count": 1,
   "metadata": {},
   "outputs": [
    {
     "name": "stderr",
     "output_type": "stream",
     "text": [
      "/home/users/yandanw/.local/lib/python3.6/site-packages/ants/viz/render_surface_function.py:16: UserWarning:\n",
      "\n",
      "Cant import Plotly. Install it `pip install chart_studio` if you want to use ants.render_surface_function\n",
      "\n"
     ]
    }
   ],
   "source": [
    "import brainsss\n",
    "import os\n",
    "import numpy as np\n",
    "import matplotlib.pyplot as plt\n",
    "%matplotlib inline\n",
    "from sklearn.cluster import AgglomerativeClustering\n",
    "import scipy\n",
    "from scipy.cluster.hierarchy import dendrogram\n",
    "from scipy.cluster.hierarchy import fcluster\n",
    "from scipy.cluster import hierarchy\n",
    "import matplotlib as mpl\n",
    "from matplotlib.pyplot import cm\n",
    "import random\n",
    "from scipy.stats import sem\n",
    "import time\n",
    "import h5py\n",
    "import ants\n",
    "import nibabel as nib\n",
    "\n",
    "import matplotlib\n",
    "from scipy.ndimage import gaussian_filter1d"
   ]
  },
  {
   "cell_type": "code",
   "execution_count": 2,
   "metadata": {
    "collapsed": true
   },
   "outputs": [],
   "source": [
    "from time import time\n",
    "import sys\n",
    "import scipy\n",
    "import matplotlib.pyplot as plt\n",
    "from scipy.interpolate import interp1d\n",
    "import pandas as pd\n",
    "import psutil\n",
    "#from tqdm import tqdm\n",
    "sys.path.insert(0, '/home/users/brezovec/.local/lib/python3.6/site-packages/lib/python/')\n",
    "import ants\n",
    "#import bigbadbrain as bbb\n",
    "from scipy.linalg import toeplitz\n",
    "import scipy.linalg as sl\n",
    "from scipy.signal import convolve2d\n",
    "from scipy.signal import convolve\n",
    "from sklearn.linear_model import LassoLarsIC\n",
    "from sklearn.linear_model import LinearRegression\n",
    "from sklearn.decomposition import PCA\n",
    "from sklearn.linear_model import RidgeCV\n",
    "from sklearn.linear_model import LassoCV\n",
    "%matplotlib inline"
   ]
  },
  {
   "cell_type": "code",
   "execution_count": 3,
   "metadata": {
    "collapsed": true
   },
   "outputs": [],
   "source": [
    "from scipy.interpolate import interp1d as interp1d\n",
    "import seaborn as sns\n",
    "import scipy.cluster.hierarchy as sch"
   ]
  },
  {
   "cell_type": "code",
   "execution_count": 4,
   "metadata": {
    "collapsed": true
   },
   "outputs": [],
   "source": [
    "func_path = '/oak/stanford/groups/trc/data/Brezovec/2P_Imaging/20190101_walking_dataset/fly_262/func_0/'"
   ]
  },
  {
   "cell_type": "code",
   "execution_count": 5,
   "metadata": {},
   "outputs": [
    {
     "name": "stdout",
     "output_type": "stream",
     "text": [
      "loading photodiode data... done\n"
     ]
    }
   ],
   "source": [
    "###########################\n",
    "### PREP VISUAL STIMULI ###\n",
    "###########################\n",
    "\n",
    "vision_path = os.path.join(func_path, 'visual')\n",
    "### Load Photodiode ###\n",
    "t, ft_triggers, pd1, pd2 = brainsss.load_photodiode(vision_path)\n",
    "stimulus_start_times = brainsss.extract_stim_times_from_pd(pd2, t)\n",
    "### Unifrom the units and Make then intigers ###\n",
    "stimulus_start_times = (stimulus_start_times*100).astype('int') #index needs to be an integers\n",
    "\n",
    "\n",
    "####################\n",
    "### Prep Fictrac ###\n",
    "####################\n",
    "\n",
    "fictrac_path = os.path.join(func_path, 'fictrac')\n",
    "fictrac_raw = brainsss.load_fictrac(fictrac_path)\n",
    "\n",
    "fps = 100\n",
    "resolution = 10 #desired resolution in ms\n",
    "expt_len = fictrac_raw.shape[0]/fps*1000\n",
    "behaviors = ['dRotLabY', 'dRotLabZ', 'heading']\n",
    "fictrac = {}\n",
    "for behavior in behaviors:\n",
    "    if behavior == 'dRotLabY': short = 'Y'\n",
    "    elif behavior == 'dRotLabZ': short = 'Z'\n",
    "    elif behavior == 'heading': short = 'h'\n",
    "    fictrac[short] = brainsss.smooth_and_interp_fictrac(fictrac_raw, fps, resolution, expt_len, behavior)\n",
    "    #fictrac[short] = np.roll(fictrac[short],400) # <------- misalignment is corrected !!!!!!\n",
    "fictrac_timestamps = np.arange(0,expt_len,resolution)\n",
    "\n",
    "fictrac['h'] = np.rad2deg(fictrac['h'])\n",
    "\n",
    "def extract_traces(fictrac, stim_times, pre_window, post_window, behavior='Z'):\n",
    "    traces = []\n",
    "    for i in range(len(stim_times)):\n",
    "        trace = fictrac[behavior][stim_times[i]-pre_window:stim_times[i]+post_window]\n",
    "        if len(trace) == pre_window + post_window: # this handles fictrac that crashed or was aborted or some bullshit\n",
    "            traces.append(trace)\n",
    "    traces = np.asarray(traces)\n",
    "    mean_trace = np.mean(traces,axis=0)\n",
    "    sem_trace = scipy.stats.sem(traces,axis=0)\n",
    "    return traces, mean_trace, sem_trace"
   ]
  },
  {
   "cell_type": "code",
   "execution_count": 6,
   "metadata": {
    "collapsed": true
   },
   "outputs": [],
   "source": [
    "heading = fictrac['h']\n",
    "heading = heading%360"
   ]
  },
  {
   "cell_type": "code",
   "execution_count": null,
   "metadata": {
    "collapsed": true
   },
   "outputs": [],
   "source": []
  },
  {
   "cell_type": "code",
   "execution_count": 7,
   "metadata": {},
   "outputs": [
    {
     "name": "stdout",
     "output_type": "stream",
     "text": [
      "(256, 128, 49, 3384)\n"
     ]
    }
   ],
   "source": [
    "#######################\n",
    "### Load Neural Data###\n",
    "#######################\n",
    "neural_file = os.path.join(func_path, 'functional_channel_2_moco_zscore_highpass.h5') #\n",
    "with h5py.File(neural_file, 'r') as h:\n",
    "    print(h['data'].shape)\n",
    "    neural = h['data'][:]"
   ]
  },
  {
   "cell_type": "code",
   "execution_count": 9,
   "metadata": {},
   "outputs": [
    {
     "name": "stdout",
     "output_type": "stream",
     "text": [
      "Trying to load timestamp data from hdf5 file.\n",
      "Success.\n"
     ]
    }
   ],
   "source": [
    "##################################################################\n",
    "### Downsample the 100Hz fictrac data to 3384 neual data frame ###\n",
    "##################################################################\n",
    "timestamps = brainsss.load_timestamps(os.path.join(func_path, 'imaging'))\n",
    "fictrac_timestamps = np.arange(0,1800000,10)\n",
    "\n",
    "def interpolate_to_neural(slice_num, timestamps):\n",
    "    x = timestamps[:, slice_num]\n",
    "    f = interp1d(fictrac_timestamps, heading, fill_value=\"extrapolate\") \n",
    "    ynew = f(x)\n",
    "    return ynew\n",
    "\n",
    "fwd = fictrac['Y']\n",
    "def interpolate_to_neural_fwd(slice_num, timestamps):\n",
    "    x = timestamps[:, slice_num]\n",
    "    f = interp1d(fictrac_timestamps, fwd, fill_value=\"extrapolate\") \n",
    "    ynew = f(x)\n",
    "    return ynew\n",
    "\n",
    "ang = fictrac['Z']\n",
    "def interpolate_to_neural_ang(slice_num, timestamps):\n",
    "    x = timestamps[:, slice_num]\n",
    "    f = interp1d(fictrac_timestamps, ang, fill_value=\"extrapolate\") \n",
    "    ynew = f(x)\n",
    "    return ynew\n",
    "\n",
    "heading_interpolated = interpolate_to_neural(0,timestamps)\n",
    "### redefine 0\n",
    "heading_interpolated -= 180\n",
    "fwd_interpolated = interpolate_to_neural_fwd(0,timestamps)\n",
    "ang_interpolated = interpolate_to_neural_ang(0,timestamps)\n",
    "\n"
   ]
  },
  {
   "cell_type": "code",
   "execution_count": 11,
   "metadata": {},
   "outputs": [
    {
     "name": "stdout",
     "output_type": "stream",
     "text": [
      "Fixation: 342\n",
      "Away: 201\n",
      "Rest: 2759\n",
      "Pause: 82\n"
     ]
    }
   ],
   "source": [
    "# Define cluster boundaries\n",
    "fixation_range = (-20, 20)\n",
    "away_ranges = [(-180, -160), (160, 180)]\n",
    "stop_fwd_threshold = 0.5\n",
    "stop_ang_threshold = 10\n",
    "\n",
    "# Initialize empty arrays for each cluster\n",
    "fixation = []\n",
    "away = []\n",
    "rest = []\n",
    "pause = []\n",
    "\n",
    "# Loop through each angle and categorize it\n",
    "for t, angle in enumerate(heading_interpolated.flatten()):\n",
    "    if angle >= fixation_range[0] and angle <= fixation_range[1]:\n",
    "        if np.abs(fwd_interpolated[t])>stop_fwd_threshold or np.abs(ang_interpolated[t])>stop_ang_threshold:\n",
    "            fixation.append(t)\n",
    "        else:\n",
    "            pause.append(t)\n",
    "    elif angle >= away_ranges[0][0] and angle <= away_ranges[0][1]:\n",
    "        if np.abs(fwd_interpolated[t])>stop_fwd_threshold or np.abs(ang_interpolated[t])>stop_ang_threshold:\n",
    "            away.append(t)\n",
    "        else:\n",
    "            pause.append(t)\n",
    "    elif angle >= away_ranges[1][0] and angle <= away_ranges[1][1]:\n",
    "        away.append(t)\n",
    "    else:\n",
    "        rest.append(t)\n",
    "\n",
    "# Print the number of angles in each cluster\n",
    "print(f\"Fixation: {len(fixation)}\")\n",
    "print(f\"Away: {len(away)}\")\n",
    "print(f\"Rest: {len(rest)}\")\n",
    "print(f\"Pause: {len(pause)}\")\n",
    "# fixation, away, stop, and menotaxis are list of t (idex number in 3384)"
   ]
  },
  {
   "cell_type": "code",
   "execution_count": 14,
   "metadata": {},
   "outputs": [
    {
     "name": "stdout",
     "output_type": "stream",
     "text": [
      "pause: 1081\n",
      "pre_menotaxis: 2426\n"
     ]
    }
   ],
   "source": [
    "#pause = []\n",
    "pre_menotaxis = []\n",
    "for t in rest:\n",
    "    if np.abs(fwd_interpolated[t])<stop_fwd_threshold and np.abs(ang_interpolated[t])<stop_ang_threshold:\n",
    "        pause.append(t)\n",
    "    else:\n",
    "        pre_menotaxis.append(t)\n",
    "print(f\"pause: {len(pause)}\")  \n",
    "print(f\"pre_menotaxis: {len(pre_menotaxis)}\") "
   ]
  },
  {
   "cell_type": "code",
   "execution_count": 10,
   "metadata": {},
   "outputs": [
    {
     "data": {
      "text/plain": [
       "53.191489361702125"
      ]
     },
     "execution_count": 10,
     "metadata": {},
     "output_type": "execute_result"
    }
   ],
   "source": [
    "180000/3384\n",
    "# one imaging time unit is about 53 (10 ms), or ~0.5s. \n",
    "# def of sleep: 5s\n",
    "# The fly needs to have no movemoent for 10 imaging time unit"
   ]
  },
  {
   "cell_type": "code",
   "execution_count": 15,
   "metadata": {},
   "outputs": [
    {
     "data": {
      "text/plain": [
       "4050"
      ]
     },
     "execution_count": 15,
     "metadata": {},
     "output_type": "execute_result"
    }
   ],
   "source": [
    "342+201+1081+2426"
   ]
  },
  {
   "cell_type": "code",
   "execution_count": null,
   "metadata": {
    "collapsed": true
   },
   "outputs": [],
   "source": []
  }
 ],
 "metadata": {
  "kernelspec": {
   "display_name": "Python 3",
   "language": "python",
   "name": "python3"
  },
  "language_info": {
   "codemirror_mode": {
    "name": "ipython",
    "version": 3
   },
   "file_extension": ".py",
   "mimetype": "text/x-python",
   "name": "python",
   "nbconvert_exporter": "python",
   "pygments_lexer": "ipython3",
   "version": "3.6.1"
  }
 },
 "nbformat": 4,
 "nbformat_minor": 2
}
